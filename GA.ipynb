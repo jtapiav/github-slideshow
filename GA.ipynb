{
  "nbformat": 4,
  "nbformat_minor": 0,
  "metadata": {
    "colab": {
      "provenance": [],
      "collapsed_sections": [
        "Pi3dxBFkY1I1",
        "52F1V2vHL-tX",
        "BKqu1Epu049H"
      ],
      "toc_visible": true,
      "authorship_tag": "ABX9TyNdC1wCm/ZWcP8k2QyOjzoZ",
      "include_colab_link": true
    },
    "kernelspec": {
      "name": "python3",
      "display_name": "Python 3"
    },
    "language_info": {
      "name": "python"
    }
  },
  "cells": [
    {
      "cell_type": "markdown",
      "metadata": {
        "id": "view-in-github",
        "colab_type": "text"
      },
      "source": [
        "<a href=\"https://colab.research.google.com/github/jtapiav/github-slideshow/blob/master/GA.ipynb\" target=\"_parent\"><img src=\"https://colab.research.google.com/assets/colab-badge.svg\" alt=\"Open In Colab\"/></a>"
      ]
    },
    {
      "cell_type": "markdown",
      "source": [
        "# Algoritmos Géneticos"
      ],
      "metadata": {
        "id": "VYDM5uUTXBzM"
      }
    },
    {
      "cell_type": "markdown",
      "source": [
        "## Introducción"
      ],
      "metadata": {
        "id": "U38dpmPrZCqd"
      }
    },
    {
      "cell_type": "markdown",
      "source": [],
      "metadata": {
        "id": "_4ZzKI_OZIvV"
      }
    },
    {
      "cell_type": "markdown",
      "source": [
        "## Dependencias"
      ],
      "metadata": {
        "id": "Pi3dxBFkY1I1"
      }
    },
    {
      "cell_type": "code",
      "source": [
        "# Dependencias\n",
        "!pip install graph-lib"
      ],
      "metadata": {
        "id": "GNPi-ztbxxG8",
        "colab": {
          "base_uri": "https://localhost:8080/"
        },
        "outputId": "c9aadc64-b7b7-4f3e-ffd1-9fb274ded93f"
      },
      "execution_count": 12,
      "outputs": [
        {
          "output_type": "stream",
          "name": "stdout",
          "text": [
            "Looking in indexes: https://pypi.org/simple, https://us-python.pkg.dev/colab-wheels/public/simple/\n",
            "Requirement already satisfied: graph-lib in /usr/local/lib/python3.10/dist-packages (0.4.8)\n",
            "Requirement already satisfied: numpy>=1.12.0 in /usr/local/lib/python3.10/dist-packages (from graph-lib) (1.22.4)\n"
          ]
        }
      ]
    },
    {
      "cell_type": "markdown",
      "source": [
        "## Bibliotecas"
      ],
      "metadata": {
        "id": "J5azdKaYY4rl"
      }
    },
    {
      "cell_type": "code",
      "source": [
        "# Bibliotecas\n",
        "import numpy as np\n",
        "import math\n",
        "import matplotlib.pyplot as plt"
      ],
      "metadata": {
        "id": "trULPnPvcHWg"
      },
      "execution_count": 11,
      "outputs": []
    },
    {
      "cell_type": "markdown",
      "source": [
        "## Implementación"
      ],
      "metadata": {
        "id": "PCmVf57XZmFR"
      }
    },
    {
      "cell_type": "markdown",
      "source": [
        "### Clase GeneticAlgorithm"
      ],
      "metadata": {
        "id": "qabShihwZn4L"
      }
    },
    {
      "cell_type": "code",
      "execution_count": 110,
      "metadata": {
        "id": "i2q3TFa3axyg"
      },
      "outputs": [],
      "source": [
        "class GeneticAlgorithm():\n",
        "  def __init__( self, populationSize, chromosomeSize, \n",
        "               mutationType, crossoverType, selectionType, \n",
        "               functionDecode,\n",
        "               calculateFitness,\n",
        "               plotResult,\n",
        "               epsilon, numberMaximumIterations,                \n",
        "               randomState = 69, geneLimits = None ):\n",
        "  \n",
        "    np.random.seed( 69 )\n",
        "    self.populationSize = populationSize\n",
        "    self.chromosomeSize = chromosomeSize\n",
        "\n",
        "    self.mutationType   = mutationType\n",
        "    self.crossoverType  = crossoverType\n",
        "    self.selectionType  = selectionType\n",
        "\n",
        "    self.numberOfIteration = 0\n",
        "    self.geneLimits        = geneLimits\n",
        "    self.randomState       = randomState\n",
        "\n",
        "    self.epsilon                 = epsilon\n",
        "    self.numberMaximumIterations = numberMaximumIterations\n",
        "\n",
        "    self.population              = None # \n",
        "    self.populationValue         = None #\n",
        "    self.fitnessScores           = None #\n",
        "    self.bestCandidateGeneration = None #\n",
        "\n",
        "    self.functionDecode   = functionDecode\n",
        "    #self.calculateFitness\n",
        "    self.plotResult       = plotResult\n",
        "\n",
        "    self.bestCandidateOfGeneration = []\n",
        "    self.bestFitnessOfGeneration   = []    \n",
        "    self.valueBestOfGeneration     = None\n",
        "\n",
        "    \n",
        "  def generateRandomPopulation( self ):\n",
        "    return np.random.randint( 2, size=(self.populationSize, self.chromosomeSize ) )\n",
        "\n",
        "  def bestCandidateSelection( self ):\n",
        "    bestOfGenerationIndex = np.argmax( self.fitnessScores )\n",
        "    return bestOfGenerationIndex\n",
        "\n",
        "  def rankingSelection( self, numberOfElements ):\n",
        "    sortedIndexes = np.argsort( -self.fitnessScores )\n",
        "    selectedIndexes = sortedIndexes[:numberOfElements]\n",
        "    return selectedIndexes\n",
        "    \n",
        "  def tournamentSelection( self, numberOfElements, numberOfCandidates ):\n",
        "    candidatesIndexes = [np.random.randint( 0, len(self.fitnessScores), numberOfCandidates )]\n",
        "    winnersIndexes = np.argmax( self.fitnessScores[candidatesIndexes]  )\n",
        "    selectedIndexes = candidatesIndexes[np.arange(numberOfCandidates), winnersIndexes]\n",
        "    return selectedIndexes\n",
        "\n",
        "  def selection( self, numberOfElements, numberOfCandidates ):\n",
        "\n",
        "    if self.selectionType not in [ 'ranking', 'tournament' ]:\n",
        "      raise ValueError( 'Selection Type should be ranking or tournament' )\n",
        "\n",
        "    if numberOfElements is None:\n",
        "      raise ValueError( 'The number of elements must not be none if type ranking is selected')  \n",
        "\n",
        "    if self.selectionType == 'ranking':\n",
        "      indexesChromosome = self.rankingSelection( numberOfElements )\n",
        "\n",
        "    elif self.selectionTypee == 'tournament':\n",
        "      indexesChromosome = self.tournamentSelection( numberOfElements, numberOfCandidates )\n",
        "\n",
        "    else: \n",
        "      pass\n",
        "\n",
        "    self.population = self.population[indexesChromosome].copy()  \n",
        "\n",
        "\n",
        "  def uniformCrossover( self, parent1, parent2 ):\n",
        "      genePairs = list(zip(parent1, parent2))\n",
        "      child1 = tuple( np.random.choice(gene) for gene in genePairs )\n",
        "      child2 = tuple( np.random.choice(gene) for gene in genePairs )\n",
        "      children = [ child1, child2 ]\n",
        "      return children\n",
        "\n",
        "  def onePointCrossover( self ):\n",
        "      indexCut = np.random.choice( range( len(parent1) ) )\n",
        "      child1 = parent1[:indexCut] + parent2[indexCut:]\n",
        "      child2 = parent1[indexCut:] + parent2[:indexCut]\n",
        "      children = [ child1, child2 ]\n",
        "      return children\n",
        "\n",
        "  def multiPointCrossover( self ):\n",
        "    None    \n",
        "\n",
        "  def crossover( self ):\n",
        "    if self.crossoverType not in ['uniform', 'onePoint', 'multipoint']: \n",
        "      raise ValueError( 'Crossover Type should be uniform, one point or multi point' ) \n",
        "\n",
        "    parent1 = self.population[np.random.choice( len(self.population) )]\n",
        "    parent2 = self.population[np.random.choice( len(self.population) )]\n",
        "    \n",
        "  \n",
        "    if self.crossoverType == 'uniform':\n",
        "      children = self.uniformCrossover( parent1, parent2 )\n",
        "\n",
        "    elif self.crossoverType == 'onePoint':\n",
        "      children = self.onePointCrossover()\n",
        "\n",
        "    elif self.crossoverType == 'multiPoint':\n",
        "      children = self.multiPointCrossover()\n",
        "\n",
        "    else:\n",
        "      pass\n",
        "\n",
        "    self.population = np.concatenate([self.population, children])\n",
        "        \n",
        "\n",
        "  def mutation( self ): \n",
        "    if self.mutationType not in [ 'bitstring', 'shrink' ]:\n",
        "      raise ValueError( 'Mutation Type should be one of bitstring or shrink' ) \n",
        "\n",
        "    indexRandomIndividual = np.random.choice( len(self.population) )\n",
        "    randomIndividual = self.population[indexRandomIndividual]\n",
        "\n",
        "    indexMutation = np.random.choice( len(randomIndividual) ) \n",
        "    individualModificable = list( randomIndividual )\n",
        "\n",
        "    if self.mutationType == 'bitstring':\n",
        "      individualModificable[indexMutation] = 1 - individualModificable[indexMutation]\n",
        "\n",
        "    elif self.mutationType == 'shrink':\n",
        "      individualModificable[indexMutation] = individualModificable[indexMutation] + np.random.rand()\n",
        "      \n",
        "    else:\n",
        "      pass\n",
        "\n",
        "    self.population[indexRandomIndividual] = tuple( individualModificable )  \n",
        "\n",
        "  \n",
        "  def printResult( self ):\n",
        "    print( '=' * 80 )\n",
        "    print( self.fitnessScores )\n",
        "    print( f'Generation {self.numberOfIteration} max fitness {self.fitnessScores.max():0.4f} at ')\n",
        "    for indexPopulation in range( len(self.population) ):\n",
        "      print( f'#{indexPopulation+1}\\t{self.population[indexPopulation]} fitness: {self.fitnessScores[indexPopulation]:0.4f} ' )\n",
        "    print( f'Average fitness: {self.fitnessScores.mean():0.4f}' )  \n",
        "\n",
        "    print( '=' * 80, '\\n' ) \n",
        "\n",
        "  def calculateFitness( self ):\n",
        "    return np.array( calculateFitness( self ) )\n",
        "     \n",
        "  def solve( self ):\n",
        "    self.population = self.generateRandomPopulation()\n",
        "    self.fitnessScores = self.calculateFitness()\n",
        "    self.printResult()\n",
        "    while self.numberOfIteration < self.numberMaximumIterations:    \n",
        "      self.selection( 5, 2 )\n",
        "      self.crossover()\n",
        "      self.mutation()\n",
        "      self.fitnessScores = self.calculateFitness()\n",
        "      self.bestFitnessOfGeneration.append( self.fitnessScores[np.argmax(self.fitnessScores) ] )\n",
        "      self.bestCandidateOfGeneration.append( self.population[np.argmax(self.fitnessScores) ] )\n",
        "      self.numberOfIteration += 1\n"
      ]
    },
    {
      "cell_type": "markdown",
      "source": [
        "### Ejemplo de Optimización"
      ],
      "metadata": {
        "id": "2tOAwCZL3o16"
      }
    },
    {
      "cell_type": "markdown",
      "source": [
        "#### Función de Fitness"
      ],
      "metadata": {
        "id": "5SsEAUEi3wV5"
      }
    },
    {
      "cell_type": "code",
      "source": [
        "def functionFitness( x ):\n",
        "  return  - np.abs( np.sin(x) - 0.5 * x ) # Max in 1.89, 0.81"
      ],
      "metadata": {
        "id": "V82DADvx30P3"
      },
      "execution_count": 4,
      "outputs": []
    },
    {
      "cell_type": "code",
      "source": [
        "def calculateFitness( GA ):\n",
        "  fitnessScores = np.zeros( len(GA.population) )\n",
        "  n = self.chromosomeSize \n",
        "  a=1\n",
        "  b=3\n",
        "  x=[]\n",
        "  for s in self.population:\n",
        "    bin_to_int = np.array( [int(j) << i for i,j in enumerate(s[::-1])] ).sum()\n",
        "    int_to_x   = a + bin_to_int * (b - a) / (2**n - 1)\n",
        "    x.append( int_to_x )\n",
        "  self.populationValue = np.array(x) \n",
        "  return fitnessScores"
      ],
      "metadata": {
        "id": "kxK2kK_8371J"
      },
      "execution_count": 5,
      "outputs": []
    },
    {
      "cell_type": "markdown",
      "source": [
        "#### Plot"
      ],
      "metadata": {
        "id": "6yPXl-xi4Q0k"
      }
    },
    {
      "cell_type": "code",
      "source": [
        "def plotResult( self ):\n",
        "    xval = np.arange( 1, 3, 0.01 )\n",
        "    yval = functionFitness( xval )\n",
        "    plt.figure( figsize=(10,5) )\n",
        "\n",
        "    plt.subplot( 141 )\n",
        "    plt.plot( xval, yval, color='m', linewidth=4 )\n",
        "    plt.scatter( xval, yval, color='m' )\n",
        "    plt.xlim( (1,3) )\n",
        "    plt.xlabel( '$x$' )\n",
        "    plt.ylabel( '$f(x) = -|sin(x) - 0.5x|$' )\n",
        "    plt.title( 'Population at Iteration ' + str(3) + '\\n' + 'Number of Individuals: ' + str(self.populationSize) )\n",
        "\n",
        "    xval = np.arange( 0, self.numberMaximumIterations, 1 )\n",
        "    yval = self.bestFitnessOfGeneration\n",
        "\n",
        "    plt.subplot( 142 )\n",
        "    plt.plot( xval, yval, color='c', linewidth=4 )\n",
        "    plt.xlim( 0 )\n",
        "    plt.xlabel( 'Iteration' )\n",
        "    plt.ylabel( 'Best Fitness' )\n",
        "    plt.title( 'Best Fitness vs Iteration' + '\\n' + 'number of Individuals: ' + str( self.populationSize ) )\n",
        "\n",
        "    plt.subplot( 143 )\n",
        "    plt.plot( self.bestFitnessOfGeneration, color='c', linewidth=4 )\n",
        "    plt.xlim( 0 )\n",
        "    plt.xlabel( 'Iteration' )\n",
        "    plt.ylabel( 'Best Fitness' )\n",
        "    plt.title( 'Best Fitness vs Iteration' + '\\n' + 'number of Individuals: ' + str( self.populationSize ) )\n",
        "  \n",
        "    plt.subplot( 144 )\n",
        "    plt.plot( self.bestFitnessOfGeneration, color='c', linewidth=4 )\n",
        "    plt.xlim( 0 )\n",
        "    plt.xlabel( 'Iteration' )\n",
        "    plt.ylabel( 'Error' )\n",
        "    plt.title( 'Best Fitness vs Iteration' + '\\n' + 'number of Individuals: ' + str( self.populationSize ) )\n",
        "\n",
        "    plt.tight_layout()\n",
        "    plt.show()\n"
      ],
      "metadata": {
        "id": "Rx_UFJr24TNh"
      },
      "execution_count": 94,
      "outputs": []
    },
    {
      "cell_type": "markdown",
      "source": [
        "Población inicial\n",
        "Evaluar la población\n",
        "Selección\n",
        "Cruzamiento\n",
        "Mutación\n",
        "Evaluar la población\n",
        "Terminación"
      ],
      "metadata": {
        "id": "EvJ1bowr3m7E"
      }
    },
    {
      "cell_type": "markdown",
      "source": [
        "#### Optimización"
      ],
      "metadata": {
        "id": "tIZXx67U44nc"
      }
    },
    {
      "cell_type": "code",
      "source": [
        "def functionDecode( self ):\n",
        "  n = self.chromosomeSize \n",
        "  a=1\n",
        "  b=3\n",
        "  x=[]\n",
        "  for s in self.population:\n",
        "    bin_to_int = np.array( [int(j) << i for i,j in enumerate(s[::-1])] ).sum()\n",
        "    int_to_x   = a + bin_to_int * (b - a) / (2**n - 1)\n",
        "    x.append( int_to_x )\n",
        "  self.populationValue = np.array(x)  \n",
        "  return np.array(x)\n",
        "\n",
        "GA = GeneticAlgorithm( populationSize=10, chromosomeSize=10, \n",
        "                       mutationType='bitstring', crossoverType='uniform', selectionType='ranking',\n",
        "                       functionDecode = functionDecode,\n",
        "                       calculateFitness = calculateFitness,\n",
        "                       plotResult = plotResult,\n",
        "                       numberMaximumIterations=100, epsilon = 0.001,\n",
        "                       randomState = 69, geneLimits = None )#\n",
        "GA.solve()\n",
        "GA.printResult()\n",
        "print( GA.bestCandidateOfGeneration[-1])\n",
        "GA.plotResult( GA )\n"
      ],
      "metadata": {
        "colab": {
          "base_uri": "https://localhost:8080/",
          "height": 358
        },
        "id": "Mg18k0r9bDPO",
        "outputId": "64513daf-fbfe-4ad2-c653-44b4e1c23370"
      },
      "execution_count": 7,
      "outputs": [
        {
          "output_type": "error",
          "ename": "TypeError",
          "evalue": "ignored",
          "traceback": [
            "\u001b[0;31m---------------------------------------------------------------------------\u001b[0m",
            "\u001b[0;31mTypeError\u001b[0m                                 Traceback (most recent call last)",
            "\u001b[0;32m<ipython-input-7-3c74022634b5>\u001b[0m in \u001b[0;36m<cell line: 20>\u001b[0;34m()\u001b[0m\n\u001b[1;32m     18\u001b[0m                        \u001b[0mnumberMaximumIterations\u001b[0m\u001b[0;34m=\u001b[0m\u001b[0;36m100\u001b[0m\u001b[0;34m,\u001b[0m \u001b[0mepsilon\u001b[0m \u001b[0;34m=\u001b[0m \u001b[0;36m0.001\u001b[0m\u001b[0;34m,\u001b[0m\u001b[0;34m\u001b[0m\u001b[0;34m\u001b[0m\u001b[0m\n\u001b[1;32m     19\u001b[0m                        randomState = 69, geneLimits = None )#\n\u001b[0;32m---> 20\u001b[0;31m \u001b[0mGA\u001b[0m\u001b[0;34m.\u001b[0m\u001b[0msolve\u001b[0m\u001b[0;34m(\u001b[0m\u001b[0;34m)\u001b[0m\u001b[0;34m\u001b[0m\u001b[0;34m\u001b[0m\u001b[0m\n\u001b[0m\u001b[1;32m     21\u001b[0m \u001b[0mGA\u001b[0m\u001b[0;34m.\u001b[0m\u001b[0mprintResult\u001b[0m\u001b[0;34m(\u001b[0m\u001b[0;34m)\u001b[0m\u001b[0;34m\u001b[0m\u001b[0;34m\u001b[0m\u001b[0m\n\u001b[1;32m     22\u001b[0m \u001b[0mprint\u001b[0m\u001b[0;34m(\u001b[0m \u001b[0mGA\u001b[0m\u001b[0;34m.\u001b[0m\u001b[0mbestCandidateOfGeneration\u001b[0m\u001b[0;34m[\u001b[0m\u001b[0;34m-\u001b[0m\u001b[0;36m1\u001b[0m\u001b[0;34m]\u001b[0m\u001b[0;34m)\u001b[0m\u001b[0;34m\u001b[0m\u001b[0;34m\u001b[0m\u001b[0m\n",
            "\u001b[0;32m<ipython-input-3-62e2c0d0adb5>\u001b[0m in \u001b[0;36msolve\u001b[0;34m(self)\u001b[0m\n\u001b[1;32m    154\u001b[0m   \u001b[0;32mdef\u001b[0m \u001b[0msolve\u001b[0m\u001b[0;34m(\u001b[0m \u001b[0mself\u001b[0m \u001b[0;34m)\u001b[0m\u001b[0;34m:\u001b[0m\u001b[0;34m\u001b[0m\u001b[0;34m\u001b[0m\u001b[0m\n\u001b[1;32m    155\u001b[0m     \u001b[0mself\u001b[0m\u001b[0;34m.\u001b[0m\u001b[0mpopulation\u001b[0m \u001b[0;34m=\u001b[0m \u001b[0mself\u001b[0m\u001b[0;34m.\u001b[0m\u001b[0mgenerateRandomPopulation\u001b[0m\u001b[0;34m(\u001b[0m\u001b[0;34m)\u001b[0m\u001b[0;34m\u001b[0m\u001b[0;34m\u001b[0m\u001b[0m\n\u001b[0;32m--> 156\u001b[0;31m     \u001b[0mself\u001b[0m\u001b[0;34m.\u001b[0m\u001b[0mcalculateFitness\u001b[0m\u001b[0;34m(\u001b[0m\u001b[0;34m)\u001b[0m\u001b[0;34m\u001b[0m\u001b[0;34m\u001b[0m\u001b[0m\n\u001b[0m\u001b[1;32m    157\u001b[0m     \u001b[0mself\u001b[0m\u001b[0;34m.\u001b[0m\u001b[0mprintResult\u001b[0m\u001b[0;34m(\u001b[0m\u001b[0;34m)\u001b[0m\u001b[0;34m\u001b[0m\u001b[0;34m\u001b[0m\u001b[0m\n\u001b[1;32m    158\u001b[0m     \u001b[0;32mwhile\u001b[0m \u001b[0mself\u001b[0m\u001b[0;34m.\u001b[0m\u001b[0mnumberOfIteration\u001b[0m \u001b[0;34m<\u001b[0m \u001b[0mself\u001b[0m\u001b[0;34m.\u001b[0m\u001b[0mnumberMaximumIterations\u001b[0m\u001b[0;34m:\u001b[0m\u001b[0;34m\u001b[0m\u001b[0;34m\u001b[0m\u001b[0m\n",
            "\u001b[0;31mTypeError\u001b[0m: calculateFitness() missing 1 required positional argument: 'GA'"
          ]
        }
      ]
    },
    {
      "cell_type": "markdown",
      "source": [
        "Eureka Datarobot Programacion Genetica Regresion Simbolica\n",
        "\n",
        "OCW Optimization\n",
        "\n",
        "\n"
      ],
      "metadata": {
        "id": "c2R0cUhVBQcS"
      }
    },
    {
      "cell_type": "markdown",
      "source": [
        "#### Resultados"
      ],
      "metadata": {
        "id": "6vD_CtQm5BbS"
      }
    },
    {
      "cell_type": "markdown",
      "source": [
        "# Grafos\n"
      ],
      "metadata": {
        "id": "B6gyyqdwXO3y"
      }
    },
    {
      "cell_type": "markdown",
      "source": [
        "## Dependencias"
      ],
      "metadata": {
        "id": "P2SfD27SbeB6"
      }
    },
    {
      "cell_type": "code",
      "source": [
        "# Dependencias\n",
        "!pip install graph-lib"
      ],
      "metadata": {
        "id": "TQ12_GsgXN1m",
        "colab": {
          "base_uri": "https://localhost:8080/"
        },
        "outputId": "6793254b-c33b-49a6-f022-461bd40ce855"
      },
      "execution_count": 20,
      "outputs": [
        {
          "output_type": "stream",
          "name": "stdout",
          "text": [
            "Looking in indexes: https://pypi.org/simple, https://us-python.pkg.dev/colab-wheels/public/simple/\n",
            "Requirement already satisfied: graph-lib in /usr/local/lib/python3.10/dist-packages (0.4.8)\n",
            "Requirement already satisfied: numpy>=1.12.0 in /usr/local/lib/python3.10/dist-packages (from graph-lib) (1.22.4)\n"
          ]
        }
      ]
    },
    {
      "cell_type": "markdown",
      "source": [
        "## Bibliotecas"
      ],
      "metadata": {
        "id": "-GgjKEEth3Cw"
      }
    },
    {
      "cell_type": "code",
      "source": [
        "# Importar bibliotecas\n",
        "import pandas as pd\n",
        "import numpy as np\n",
        "import networkx as nx\n",
        "import matplotlib.pyplot as plt\n",
        "import random\n",
        "from time import time"
      ],
      "metadata": {
        "id": "0yRDbotFBQLc"
      },
      "execution_count": 19,
      "outputs": []
    },
    {
      "cell_type": "markdown",
      "source": [
        "## Pruebas Métodos"
      ],
      "metadata": {
        "id": "iNT6w6EiXVk-"
      }
    },
    {
      "cell_type": "markdown",
      "source": [
        "## Application Cores Graph"
      ],
      "metadata": {
        "id": "HLTTRdWmPrKr"
      }
    },
    {
      "cell_type": "markdown",
      "source": [
        "### Descripción"
      ],
      "metadata": {
        "id": "uDYEZuHmP072"
      }
    },
    {
      "cell_type": "markdown",
      "source": [
        "#### Nodos y Aristas"
      ],
      "metadata": {
        "id": "otfJ5gkoV5x3"
      }
    },
    {
      "cell_type": "markdown",
      "source": [
        "#### Matriz de adyacencia"
      ],
      "metadata": {
        "id": "chNE9tfkg_Bq"
      }
    },
    {
      "cell_type": "markdown",
      "source": [
        "#### Cromosoma"
      ],
      "metadata": {
        "id": "gkzZDafnhu87"
      }
    },
    {
      "cell_type": "markdown",
      "source": [
        "### Grafo"
      ],
      "metadata": {
        "id": "4cu2HtWtrn3y"
      }
    },
    {
      "cell_type": "markdown",
      "source": [
        "#### Grafo a Cromosoma"
      ],
      "metadata": {
        "id": "BY8sbSEwJIZ7"
      }
    },
    {
      "cell_type": "code",
      "source": [
        "def mappingAdjacencyMatrixToChromosome( adjacencyMatrix ):\n",
        "  triangularMatrixWithoutDiagonalIndices = np.triu_indices( n=adjacencyMatrix.shape[0], k=1 )\n",
        "  triangularMatrixWithoutDiagonalValues = adjacencyMatrix[triangularMatrixWithoutDiagonalIndices]\n",
        "  return np.array( triangularMatrixWithoutDiagonalValues )"
      ],
      "metadata": {
        "id": "RuFeJXFALYGA"
      },
      "execution_count": 21,
      "outputs": []
    },
    {
      "cell_type": "markdown",
      "source": [
        "#### Cromosoma a Cromosoma\n"
      ],
      "metadata": {
        "id": "QY5c42LuI_X0"
      }
    },
    {
      "cell_type": "code",
      "source": [
        "def mappingChrosomeToAdjacencyMatrix( matrixSize, upperTriangularVector ):\n",
        "  adjacencyMatrix = np.zeros( (matrixSize, matrixSize), dtype=int )\n",
        "  upperTriangularIndex = 0\n",
        "\n",
        "  for rowIndex in range( matrixSize ):\n",
        "    for colIndex in range( rowIndex +  1, matrixSize ):\n",
        "      adjacencyMatrix[rowIndex, colIndex] = upperTriangularVector[upperTriangularIndex]\n",
        "      adjacencyMatrix[colIndex, rowIndex] = upperTriangularVector[upperTriangularIndex]\n",
        "      upperTriangularIndex += 1\n",
        "\n",
        "  return adjacencyMatrix "
      ],
      "metadata": {
        "id": "fKK8VEozLrNC"
      },
      "execution_count": 22,
      "outputs": []
    },
    {
      "cell_type": "markdown",
      "source": [
        "#### Matrices"
      ],
      "metadata": {
        "id": "l5Hb_4emKEx_"
      }
    },
    {
      "cell_type": "code",
      "source": [
        "from numpy.random import triangular\n",
        "def mappingAdjacencyMatrixToGraph( adjacencyMatrix ):\n",
        "  return nx.DiGraph( adjacencyMatrix )\n",
        "\n"
      ],
      "metadata": {
        "id": "X_knswIwXzNb"
      },
      "execution_count": 23,
      "outputs": []
    },
    {
      "cell_type": "markdown",
      "source": [
        "##### TDG"
      ],
      "metadata": {
        "id": "P0YOWi4mPNzV"
      }
    },
    {
      "cell_type": "code",
      "source": [
        "def create_tdg_matrix_mutated(adj_matrix, adj_matrixMutated, hop_matrixMutated, tdg_matrix ): \n",
        "  numberOfNodes = adj_matrixMutated.shape[0] \n",
        "  distanceMatrix = np.copy(adj_matrixMutated)\n",
        "  distanceMatrix = distanceMatrix.astype(float)\n",
        "  distanceMatrix[distanceMatrix == 0] = np.inf\n",
        "\n",
        "  tdg_matrixMutated = np.copy(tdg_matrix)\n",
        "\n",
        "  for i in range(numberOfNodes):\n",
        "    for j in range(numberOfNodes):\n",
        "      if adj_matrixMutated[i,j] == 1:\n",
        "        tdg_matrixMutated[i,j] = tdg_matrix[i,j]\n",
        "      else:\n",
        "        tdg_matrixMutated[i,j] = 0\n",
        "\n",
        "  tdg_matrixMutated = tdg_matrixMutated.astype(float)\n",
        "  tdg_matrixMutated[tdg_matrixMutated == 0] = np.inf\n",
        "  \n",
        "\n",
        "  for k in range(numberOfNodes):\n",
        "    for i in range(numberOfNodes):\n",
        "      for j in range(numberOfNodes):\n",
        "        if i != j:\n",
        "          if distanceMatrix[i, j] > distanceMatrix[i, k] + distanceMatrix[k, j]:\n",
        "            distanceMatrix[i, j] = distanceMatrix[i, k] + distanceMatrix[k, j]\n",
        "            # Actualizar tdg_matrix si se encuentra una ruta más corta\n",
        "            #tdg_matrixMutated[i, j] = tdg_matrixMutated[i, k] + tdg_matrixMutated[k, j]  + tdg_matrix[i,j]\n",
        "            if np.abs( adj_matrix[i,j] - adj_matrixMutated[i, j] ) == 1:\n",
        "              if(tdg_matrix[i,j] + tdg_matrixMutated[i, k] < tdg_matrix[i,j] + tdg_matrixMutated[k, j] ):\n",
        "                tdg_matrixMutated[i,k] = tdg_matrix[i,j] + tdg_matrixMutated[i, k]\n",
        "              else:\n",
        "                tdg_matrixMutated[k,j] = tdg_matrix[i,j] + tdg_matrixMutated[k, j]\n",
        "\n",
        "            print( [ tdg_matrix[i,j] + tdg_matrixMutated[i, k] , tdg_matrix[i,j] + tdg_matrixMutated[k, j], tdg_matrixMutated[k,j] ] )\n",
        "            #tdg_matrix_updated[i, j] = tdg_matrix[i, j] #+ tdg_matrix[k, j]\n",
        "\n",
        "  tdg_matrixMutated[tdg_matrixMutated == np.inf] = 0\n",
        "  return tdg_matrixMutated"
      ],
      "metadata": {
        "id": "Kd5b1xJzPVWx"
      },
      "execution_count": 24,
      "outputs": []
    },
    {
      "cell_type": "markdown",
      "source": [
        "#### Mutación"
      ],
      "metadata": {
        "id": "ONsse1koocMM"
      }
    },
    {
      "cell_type": "code",
      "source": [
        "def chromosomeMutation( chromosome ):\n",
        "  index = np.random.choice( len(chromosome ) )\n",
        "  chromosomeMutated = list( chromosome )\n",
        "  chromosomeMutated[index] = 1 - chromosomeMutated[index]\n",
        "  return tuple(chromosomeMutated)\n",
        "\n",
        "\n",
        "\n",
        "adjacencyMatrix = np.array( [[0, 1, 0, 1, 0, 0, 0, 0, 0],\n",
        "                             [1, 0, 1, 0, 1, 0, 0, 0, 0],                              \n",
        "                             [0, 1, 0, 0, 0, 1, 0, 0, 0],\n",
        "                             [1, 0, 0, 0, 1, 0, 1, 0, 0],\n",
        "                             [0, 1, 0, 1, 0, 1, 0, 1, 0],\n",
        "                             [0, 0, 1, 0, 1, 0, 0, 0, 1],\n",
        "                             [0, 0, 0, 1, 0, 0, 0, 1, 0],\n",
        "                             [0, 0, 0, 0, 1, 0, 1, 0, 1],\n",
        "                             [0, 0, 0, 0, 0, 1, 0, 1, 0]] )\n",
        "\n",
        "graph = mappingAdjacencyMatrixToGraph( adjacencyMatrix )\n",
        "chromosome = mappingAdjacencyMatrixToChromosome( adjacencyMatrix )\n",
        "\n",
        "nx.draw_networkx( graph, with_labels=True )\n",
        "plt.show()\n",
        "print( chromosome )\n",
        "\n",
        "chromosomeMutated = chromosomeMutation( chromosome )\n",
        "\n",
        "adjacencyMatrix = mappingChrosomeToAdjacencyMatrix( 9, chromosomeMutated  )\n",
        "graph = mappingAdjacencyMatrixToGraph( adjacencyMatrix )\n",
        "nx.draw_networkx( graph, with_labels=True )\n",
        "plt.show()"
      ],
      "metadata": {
        "colab": {
          "base_uri": "https://localhost:8080/",
          "height": 812
        },
        "id": "KQfdmn4ylxvo",
        "outputId": "a65279b5-e7ff-4fca-9581-fa87c3212542"
      },
      "execution_count": 25,
      "outputs": [
        {
          "output_type": "display_data",
          "data": {
            "text/plain": [
              "<Figure size 640x480 with 1 Axes>"
            ],
            "image/png": "[encoded data removed]"
          },
          "metadata": {}
        },
        {
          "output_type": "stream",
          "name": "stdout",
          "text": [
            "[1 0 1 0 0 0 0 0 1 0 1 0 0 0 0 0 0 1 0 0 0 1 0 1 0 0 1 0 1 0 0 0 1 1 0 1]\n"
          ]
        },
        {
          "output_type": "display_data",
          "data": {
            "text/plain": [
              "<Figure size 640x480 with 1 Axes>"
            ],
            "image/png": "[encoded data removed]"
          },
          "metadata": {}
        }
      ]
    },
    {
      "cell_type": "markdown",
      "source": [
        "###Prueba"
      ],
      "metadata": {
        "id": "gI4FfGM4Yn8t"
      }
    },
    {
      "cell_type": "code",
      "source": [
        "\n",
        "from networkx.algorithms import distance_measures\n",
        "from networkx.algorithms.shortest_paths.dense import floyd_warshall_numpy\n",
        "from networkx.linalg.graphmatrix import adjacency_matrix\n",
        "\n",
        "def draw_graph(nodes, edge_labels):\n",
        "    G = nx.Graph()\n",
        "    G.add_nodes_from(nodes)\n",
        "    G.add_edges_from(edge_labels)\n",
        "    node_positions = nx.spring_layout(G)\n",
        "\n",
        "    nx.draw_networkx(G, with_labels=True, node_size=500, pos=node_positions, node_color='pink', edge_color='black')\n",
        "    nx.draw_networkx_edge_labels(G, pos=node_positions, edge_labels=edge_labels, font_color='red')\n",
        "  \n",
        "\n",
        "def create_adj_matrix( nodes, edge_labels ):\n",
        "    adj_matrix = np.zeros((len(nodes), len(nodes)), dtype=int)\n",
        "\n",
        "    for u, v in edge_labels.copy().keys():\n",
        "      edge_labels[(v,u)] = edge_labels[ (u,v)] if (v,u) not in edge_labels else edge_labels[(v,u)] \n",
        "    \n",
        "    for i, u in enumerate(nodes):\n",
        "        for j, v in enumerate(nodes):\n",
        "            if (u, v) in edge_labels:\n",
        "                adj_matrix[i][j] = 1            \n",
        "    return adj_matrix\n",
        "\n",
        "    \n",
        "def create_tdg_matrix(nodes, edge_labels):\n",
        "    tdg_matrix = np.zeros((len(nodes), len(nodes)), dtype=int)\n",
        "\n",
        "    for u, v in edge_labels.copy().keys():\n",
        "      edge_labels[(v,u)] = edge_labels[ (u,v)] if (v,u) not in edge_labels else edge_labels[(v,u)] \n",
        "    \n",
        "    for i, u in enumerate(nodes):\n",
        "        for j, v in enumerate(nodes):\n",
        "            if (u, v) in edge_labels:\n",
        "                tdg_matrix[i][j] = int(edge_labels.get((u, v), 0))\n",
        "                \n",
        "    return tdg_matrix\n",
        "\n",
        "def floyd_warshall( adj_matrix):\n",
        "  numberOfNodes = adj_matrix.shape[0]\n",
        "  distanceMatrix = np.copy(adj_matrix)\n",
        "  distanceMatrix = distanceMatrix.astype(float)\n",
        "  distanceMatrix[distanceMatrix == 0] = np.inf\n",
        "\n",
        "  for k in range( numberOfNodes ):\n",
        "    for i in range( numberOfNodes ):\n",
        "      for j in range( numberOfNodes ):\n",
        "        if i==j:\n",
        "          distanceMatrix[i,j] = 0\n",
        "        else:\n",
        "          distanceMatrix[i,j] = min( distanceMatrix[i, j], distanceMatrix[i, k] + distanceMatrix[k, j] )\n",
        "\n",
        "  return distanceMatrix      \n",
        "\n",
        "\n",
        "def create_hop_matrix( adj_matrix):\n",
        "    return floyd_warshall( adj_matrix )\n",
        "\n",
        "def averageHops( hop_matrix ):\n",
        "   return np.sum( hop_matrix )/np.count_nonzero( hop_matrix )\n",
        "\n",
        "def getEdgesFromAdjacencyMatrix( nodes, adjacencyMatrix ):\n",
        "  edgeLabels = {}\n",
        "  for i, u in enumerate( nodes ):\n",
        "    for j, v in enumerate( nodes ):\n",
        "      if adjacencyMatrix[i][j] != 0:\n",
        "        edgeLabels[ (u,v) ] = adjacencyMatrix[i][j]\n",
        "  return edgeLabels     \n",
        "\n",
        "def getNodesFromAdjacencyMatrix( adjacencyMatrix ):   \n",
        "  numberOfNodes = adjacencyMatrix.shape[0]\n",
        "  nodes = ['C{}'.format(index) for index in range(1, numberOfNodes+1)]\n",
        "  return nodes\n",
        "\n",
        "\n",
        "\n"
      ],
      "metadata": {
        "id": "vm7TkJUTYcU0"
      },
      "execution_count": 26,
      "outputs": []
    },
    {
      "cell_type": "markdown",
      "source": [
        "#### Prueba"
      ],
      "metadata": {
        "id": "98YSFePIqhz2"
      }
    },
    {
      "cell_type": "code",
      "source": [
        "nodes = ['C{}'.format(index) for index in range(1,6)]\n",
        "edge_labels = {('C1','C2'):14,('C1','C3'):20,('C2','C3'):76,('C1','C4'):6,('C4','C5'):34,('C5','C3'):15}\n",
        "\n",
        "draw_graph( nodes, edge_labels )\n",
        "adj_matrix = create_adj_matrix( nodes, edge_labels )\n",
        "tdg_matrix = create_tdg_matrix( nodes, edge_labels )\n",
        "hop_matrix = create_hop_matrix( adj_matrix  )\n",
        "averageHop_matrix = averageHops(hop_matrix)\n",
        "\n",
        "nodes = getNodesFromAdjacencyMatrix( adj_matrix )\n",
        "edgeLabels = getEdgesFromAdjacencyMatrix( nodes, tdg_matrix ) \n",
        "print( nodes )\n",
        "print( edgeLabels )\n",
        "\n",
        "print( adj_matrix )\n",
        "print( tdg_matrix )\n",
        "print( hop_matrix )\n",
        "\n",
        "\n"
      ],
      "metadata": {
        "colab": {
          "base_uri": "https://localhost:8080/",
          "height": 721
        },
        "id": "eZ7ujTRMql6J",
        "outputId": "a7ca8975-2336-4332-832d-9f26f776eaf6"
      },
      "execution_count": 27,
      "outputs": [
        {
          "output_type": "stream",
          "name": "stdout",
          "text": [
            "['C1', 'C2', 'C3', 'C4', 'C5']\n",
            "{('C1', 'C2'): 14, ('C1', 'C3'): 20, ('C1', 'C4'): 6, ('C2', 'C1'): 14, ('C2', 'C3'): 76, ('C3', 'C1'): 20, ('C3', 'C2'): 76, ('C3', 'C5'): 15, ('C4', 'C1'): 6, ('C4', 'C5'): 34, ('C5', 'C3'): 15, ('C5', 'C4'): 34}\n",
            "[[0 1 1 1 0]\n",
            " [1 0 1 0 0]\n",
            " [1 1 0 0 1]\n",
            " [1 0 0 0 1]\n",
            " [0 0 1 1 0]]\n",
            "[[ 0 14 20  6  0]\n",
            " [14  0 76  0  0]\n",
            " [20 76  0  0 15]\n",
            " [ 6  0  0  0 34]\n",
            " [ 0  0 15 34  0]]\n",
            "[[0. 1. 1. 1. 2.]\n",
            " [1. 0. 1. 2. 2.]\n",
            " [1. 1. 0. 2. 1.]\n",
            " [1. 2. 2. 0. 1.]\n",
            " [2. 2. 1. 1. 0.]]\n"
          ]
        },
        {
          "output_type": "display_data",
          "data": {
            "text/plain": [
              "<Figure size 640x480 with 1 Axes>"
            ],
            "image/png": "[encoded data removed]"
          },
          "metadata": {}
        }
      ]
    },
    {
      "cell_type": "code",
      "source": [
        "chromosome = mappingAdjacencyMatrixToChromosome( adj_matrix )\n",
        "print( '' )\n",
        "print( chromosome )\n",
        "\n",
        "chromosomeMutated = chromosomeMutation( chromosome )\n",
        "print( np.array(chromosomeMutated) )\n",
        "\n",
        "\n",
        "adj_matrixMutated = mappingChrosomeToAdjacencyMatrix( 5, chromosomeMutated )\n",
        "hop_matrixMutated = create_hop_matrix( adj_matrixMutated  )\n",
        "tdg_matrixMutated = create_tdg_matrix_mutated( adj_matrix, adj_matrixMutated, hop_matrixMutated, tdg_matrix )\n",
        "\n",
        "print( adj_matrixMutated )\n",
        "print( hop_matrixMutated )\n",
        "print( tdg_matrixMutated )\n",
        "\n",
        "\n",
        "\n",
        "nodes = getNodesFromAdjacencyMatrix( adj_matrixMutated )\n",
        "edgeLabels = getEdgesFromAdjacencyMatrix( nodes, adj_matrixMutated ) \n",
        "print( nodes )\n",
        "print( edgeLabels )\n",
        "\n",
        "nodes = getNodesFromAdjacencyMatrix( adj_matrixMutated )\n",
        "edgeLabels = getEdgesFromAdjacencyMatrix( nodes, tdg_matrixMutated ) \n",
        "\n",
        "def getEdgesMutated( nodes, adj_matrixMutated, tdg_matrixMutated ):\n",
        "  edgeLabels = {}\n",
        "  for i, u in enumerate( nodes ):\n",
        "    for j, v in enumerate( nodes ):\n",
        "      if adj_matrixMutated[i][j] != 0:\n",
        "        edgeLabels[ (u,v) ] = tdg_matrixMutated[i][j]\n",
        "  return edgeLabels\n",
        "\n",
        "plt.subplots( 1, 2, figsize=(15,6) )\n",
        "plt.subplot( 1, 2, 1 )\n",
        "draw_graph( nodes, edgeLabels )\n",
        "plt.subplot( 1, 2, 2 )\n",
        "draw_graph( nodes, getEdgesMutated( nodes, adj_matrixMutated, tdg_matrixMutated ) ) \n",
        "\n",
        "plt.subplots( 1, 2, figsize=(15,6) )\n",
        "plt.subplot( 1, 2, 1)\n",
        "draw_graph( nodes, edge_labels )\n",
        "plt.subplot( 1, 2, 2 )\n",
        "draw_graph( nodes, edgeLabels )"
      ],
      "metadata": {
        "id": "2j1rMWQw5BGB",
        "colab": {
          "base_uri": "https://localhost:8080/",
          "height": 1000
        },
        "outputId": "5b033ef6-691d-4416-9475-79f4e2e3d4cc"
      },
      "execution_count": 29,
      "outputs": [
        {
          "output_type": "stream",
          "name": "stdout",
          "text": [
            "\n",
            "[1 1 1 0 1 0 0 0 1 1]\n",
            "[1 1 1 0 1 0 0 1 1 1]\n",
            "[14.0, 6.0, 6.0]\n",
            "[6.0, 14.0, 14.0]\n",
            "[20.0, 15.0, 15.0]\n",
            "[76.0, 15.0, 15.0]\n",
            "[15.0, 20.0, 20.0]\n",
            "[15.0, 76.0, 76.0]\n",
            "[[0 1 1 1 0]\n",
            " [1 0 1 0 0]\n",
            " [1 1 0 1 1]\n",
            " [1 0 1 0 1]\n",
            " [0 0 1 1 0]]\n",
            "[[0. 1. 1. 1. 2.]\n",
            " [1. 0. 1. 2. 2.]\n",
            " [1. 1. 0. 1. 1.]\n",
            " [1. 2. 1. 0. 1.]\n",
            " [2. 2. 1. 1. 0.]]\n",
            "[[ 0. 14. 20.  6.  0.]\n",
            " [14.  0. 76.  0.  0.]\n",
            " [20. 76.  0.  0. 15.]\n",
            " [ 6.  0.  0.  0. 34.]\n",
            " [ 0.  0. 15. 34.  0.]]\n",
            "['C1', 'C2', 'C3', 'C4', 'C5']\n",
            "{('C1', 'C2'): 1, ('C1', 'C3'): 1, ('C1', 'C4'): 1, ('C2', 'C1'): 1, ('C2', 'C3'): 1, ('C3', 'C1'): 1, ('C3', 'C2'): 1, ('C3', 'C4'): 1, ('C3', 'C5'): 1, ('C4', 'C1'): 1, ('C4', 'C3'): 1, ('C4', 'C5'): 1, ('C5', 'C3'): 1, ('C5', 'C4'): 1}\n"
          ]
        },
        {
          "output_type": "display_data",
          "data": {
            "text/plain": [
              "<Figure size 1500x600 with 2 Axes>"
            ],
            "image/png": "[encoded data removed]"
          },
          "metadata": {}
        },
        {
          "output_type": "display_data",
          "data": {
            "text/plain": [
              "<Figure size 1500x600 with 2 Axes>"
            ],
            "image/png": "[encoded data removed]"
          },
          "metadata": {}
        }
      ]
    },
    {
      "cell_type": "markdown",
      "source": [
        "###### Comparación\n"
      ],
      "metadata": {
        "id": "RCXp5KesXN7x"
      }
    },
    {
      "cell_type": "code",
      "source": [
        "plt.subplots( 1, 2, figsize=(15,6) )\n",
        "plt.subplot( 1, 2, 1 )\n",
        "draw_graph( nodes, edge_labels )\n",
        "plt.subplot( 1, 2, 2 )\n",
        "draw_graph( nodes, edgeLabels )\n",
        "\n",
        "\n",
        "\n",
        "print( '='*30 )\n",
        "print( 'adj_matrix')\n",
        "print( adj_matrix )\n",
        "print( '-'*19 )\n",
        "print( 'adj_matrix update')\n",
        "print( adj_matrixMutated )\n",
        "print( '='*30 )\n",
        "\n",
        "print( '='*30 )\n",
        "print( 'hop_matrix')\n",
        "print( hop_matrix )\n",
        "print( '-'*19 )\n",
        "print( 'hop_matrix update')\n",
        "print( hop_matrixMutated )\n",
        "print( '='*30 )\n",
        "\n",
        "print( '='*30 )\n",
        "print( 'tdg_matrix')\n",
        "print( tdg_matrix )\n",
        "print( '-'*19 )\n",
        "print( 'tdg_matrix update')\n",
        "print( tdg_matrixMutated )\n",
        "print( '='*30 )"
      ],
      "metadata": {
        "colab": {
          "base_uri": "https://localhost:8080/",
          "height": 1000
        },
        "id": "8zO2sWcGXbOi",
        "outputId": "c2f32a33-8b2f-44b6-a5aa-81fdea7bd683"
      },
      "execution_count": 30,
      "outputs": [
        {
          "output_type": "stream",
          "name": "stdout",
          "text": [
            "==============================\n",
            "adj_matrix\n",
            "[[0 1 1 1 0]\n",
            " [1 0 1 0 0]\n",
            " [1 1 0 0 1]\n",
            " [1 0 0 0 1]\n",
            " [0 0 1 1 0]]\n",
            "-------------------\n",
            "adj_matrix update\n",
            "[[0 1 1 1 0]\n",
            " [1 0 1 0 0]\n",
            " [1 1 0 1 1]\n",
            " [1 0 1 0 1]\n",
            " [0 0 1 1 0]]\n",
            "==============================\n",
            "==============================\n",
            "hop_matrix\n",
            "[[0. 1. 1. 1. 2.]\n",
            " [1. 0. 1. 2. 2.]\n",
            " [1. 1. 0. 2. 1.]\n",
            " [1. 2. 2. 0. 1.]\n",
            " [2. 2. 1. 1. 0.]]\n",
            "-------------------\n",
            "hop_matrix update\n",
            "[[0. 1. 1. 1. 2.]\n",
            " [1. 0. 1. 2. 2.]\n",
            " [1. 1. 0. 1. 1.]\n",
            " [1. 2. 1. 0. 1.]\n",
            " [2. 2. 1. 1. 0.]]\n",
            "==============================\n",
            "==============================\n",
            "tdg_matrix\n",
            "[[ 0 14 20  6  0]\n",
            " [14  0 76  0  0]\n",
            " [20 76  0  0 15]\n",
            " [ 6  0  0  0 34]\n",
            " [ 0  0 15 34  0]]\n",
            "-------------------\n",
            "tdg_matrix update\n",
            "[[ 0. 14. 20.  6.  0.]\n",
            " [14.  0. 76.  0.  0.]\n",
            " [20. 76.  0.  0. 15.]\n",
            " [ 6.  0.  0.  0. 34.]\n",
            " [ 0.  0. 15. 34.  0.]]\n",
            "==============================\n"
          ]
        },
        {
          "output_type": "display_data",
          "data": {
            "text/plain": [
              "<Figure size 1500x600 with 2 Axes>"
            ],
            "image/png": "[encoded data removed]"
          },
          "metadata": {}
        }
      ]
    },
    {
      "cell_type": "markdown",
      "source": [
        "## Implementación"
      ],
      "metadata": {
        "id": "fut-mqSBnrGv"
      }
    },
    {
      "cell_type": "markdown",
      "source": [
        "### Clase DirectGraph"
      ],
      "metadata": {
        "id": "BXoEZMYVaDkj"
      }
    },
    {
      "cell_type": "code",
      "source": [
        "class DirectGraph(  ):\n",
        "  def __init__( self, nodes, labeledEdges ):\n",
        "    self.nodes        = self.mappingNodes( nodes )     \n",
        "    self.labeledEdges = self.mappingEdges( labeledEdges )\n",
        "    self.adj_matrix   = self.mappingAdjMatrix(  nodes, labeledEdges )\n",
        "\n",
        "\n",
        "  def mappingAdjMatrix( self, nodes, labeledEdges ):\n",
        "    adj_matrix = np.zeros((len(nodes), len(nodes)), dtype=int)\n",
        "\n",
        "    for u, v in labeledEdges.copy().keys():\n",
        "      self.labeledEdges[(v,u)] =  self.labeledEdges[ (u,v)] if (v,u) not in  self.labeledEdges else  self.labeledEdges[(v,u)] \n",
        "    \n",
        "    for i, u in enumerate( nodes ):\n",
        "        for j, v in enumerate( nodes ):\n",
        "            if (u, v) in  self.labeledEdges:\n",
        "                adj_matrix[i][j] = 1            \n",
        "    return adj_matrix    \n",
        "\n",
        "  def mappingNodes( self, nodes ):\n",
        "    return nodes\n",
        "\n",
        "  def mappingEdges( self, labeledEdges ):\n",
        "    return labeledEdges\n"
      ],
      "metadata": {
        "id": "D77eiNqPzYuo"
      },
      "execution_count": 31,
      "outputs": []
    },
    {
      "cell_type": "markdown",
      "source": [
        "### Clase Chromosome"
      ],
      "metadata": {
        "id": "76SH0Qy3alfN"
      }
    },
    {
      "cell_type": "code",
      "source": [
        "class Chromosome( ):\n",
        "  def __init__( self, chromosome ):\n",
        "    self.chromosome   = chromosome\n",
        "    self.matrixSize   = self.getMatrixSize()\n",
        "    self.adj_matrix   = self.mappingAdjMatrix( )\n",
        "    self.nodes        = self.mappingToNodes()\n",
        "    self.labeledEdges = self.mappingToEdges()\n",
        "    \n",
        "  def getMatrixSize( self ):\n",
        "    n = ( 1 + math.sqrt( 1+8*len(self.chromosome) ) ) / 2\n",
        "    if n % 1 < 0.5:\n",
        "      return math.floor( n )\n",
        "    else:\n",
        "      return math.ceil( n )\n",
        "\n",
        "  def mappingAdjMatrix( self ):\n",
        "    adj_matrix = np.zeros( (self.matrixSize, self.matrixSize), dtype=int )\n",
        "    index = 0\n",
        "    for row in range( self.matrixSize ):\n",
        "      for col in range( row +  1, self.matrixSize ):\n",
        "        adj_matrix[row, col] = self.chromosome[index]\n",
        "        adj_matrix[col, row] = self.chromosome[index]\n",
        "        index += 1\n",
        "    return adj_matrix #mappingChrosomeToAdjacencyMatrix( 5, self.chromosome )\n",
        "\n",
        "  def mappingToNodes( self ):\n",
        "    numberOfNodes = self.adj_matrix.shape[0]\n",
        "    nodes = ['C{}'.format(index) for index in range(1, numberOfNodes+1)]\n",
        "    return nodes\n",
        "\n",
        "  def mappingToEdges( self ):\n",
        "    edgeLabels = {}\n",
        "    for i, u in enumerate( nodes ):\n",
        "      for j, v in enumerate( nodes ):\n",
        "        if self.adj_matrix[i][j] != 0:\n",
        "          edgeLabels[ (u,v) ] = self.adj_matrix[i][j]\n",
        "    return edgeLabels "
      ],
      "metadata": {
        "id": "P8N_d5CIapkx"
      },
      "execution_count": 32,
      "outputs": []
    },
    {
      "cell_type": "markdown",
      "source": [
        "### Clase CustomGraph"
      ],
      "metadata": {
        "id": "tOj1ao2-azvD"
      }
    },
    {
      "cell_type": "code",
      "source": [
        "\n",
        "class CustomGraph( ):\n",
        "  def __init__( self, infoGraph ):\n",
        "    self.adj_matrix    = infoGraph.adj_matrix\n",
        "    self.nodes         = infoGraph.nodes\n",
        "    self.labeledEdges  = infoGraph.labeledEdges\n",
        "    self.numberOfNodes = len( nodes )\n",
        "    self.numberOfEdges = len( labeledEdges )\n",
        "\n",
        "    self.tdg_matrix = self.mappingToTDGMatrix()\n",
        "    self.hop_matrix = self.mappingToHopMatrix()\n",
        "    self.chromosome = self.mappingToChromosome()\n",
        "\n",
        "    self.averageHops = self.calculateAverageHops()\n",
        "  \n",
        "    self.nxGraph    = self.mappingToNXGraph()\n",
        "\n",
        "\n",
        "  def mappingToNXGraph( self ):\n",
        "    G = nx.Graph()\n",
        "    G.add_nodes_from( self.nodes )\n",
        "    G.add_edges_from( self.labeledEdges )\n",
        "    return G\n",
        "\n",
        "  def drawGraph( self ):\n",
        "    node_positions = nx.spring_layout( self.nxGraph )\n",
        "    nx.draw_networkx( self.nxGraph, with_labels=True, node_size=500, pos=node_positions, node_color='pink', edge_color='black' )\n",
        "    nx.draw_networkx_edge_labels( self.nxGraph, pos=node_positions, edge_labels=edge_labels, font_color='red' )\n",
        "\n",
        "  def mappingToAdjacencyMatrix( self ):\n",
        "    adj_matrix = np.zeros((len(nodes), len(nodes)), dtype=int)\n",
        "\n",
        "    for u, v in labeledEdges.copy().keys():\n",
        "      self.labeledEdges[(v,u)] = self.labeledEdges[ (u,v)] if (v,u) not in self.labeledEdges else self.labeledEdges[(v,u)] \n",
        "    for i, u in enumerate(nodes):\n",
        "        for j, v in enumerate(nodes):\n",
        "            if (u, v) in edge_labels:\n",
        "                adj_matrix[i][j] = 1\n",
        "    return adj_matrix\n",
        "\n",
        "  def mappingToTDGMatrix( self ):\n",
        "    tdg_matrix = np.zeros( (self.numberOfNodes, self.numberOfNodes), dtype=int )\n",
        "    \n",
        "    for i, u in enumerate(nodes):\n",
        "        for j, v in enumerate(nodes):\n",
        "            if (u, v) in self.labeledEdges:\n",
        "                tdg_matrix[i][j] = int(self.labeledEdges.get((u, v), 0))\n",
        "                \n",
        "    return tdg_matrix\n",
        "\n",
        "  def mappingToHopMatrix( self ): \n",
        "    distanceMatrix = np.copy(self.adj_matrix)\n",
        "    distanceMatrix = distanceMatrix.astype(float)\n",
        "    distanceMatrix[distanceMatrix == 0] = np.inf\n",
        "\n",
        "    for k in range( self.numberOfNodes ):\n",
        "      for i in range( self.numberOfNodes ):\n",
        "        for j in range(self.numberOfNodes ):\n",
        "          if i==j:\n",
        "            distanceMatrix[i,j] = 0\n",
        "          else:\n",
        "            distanceMatrix[i,j] = min( distanceMatrix[i, j], distanceMatrix[i, k] + distanceMatrix[k, j] )\n",
        "    return distanceMatrix  \n",
        "\n",
        "  def mappingToChromosome( self ):\n",
        "    triangularMatrixWithoutDiagonalIndices = np.triu_indices( n=self.adj_matrix.shape[0], k=1 )\n",
        "    triangularMatrixWithoutDiagonalValues = self.adj_matrix[triangularMatrixWithoutDiagonalIndices]\n",
        "    return np.array( triangularMatrixWithoutDiagonalValues )\n",
        "\n",
        "  def calculateAverageHops( self ):\n",
        "    return np.sum( self.hop_matrix )/np.count_nonzero( self.hop_matrix )\n"
      ],
      "metadata": {
        "id": "G8pnUblIa24t"
      },
      "execution_count": 33,
      "outputs": []
    },
    {
      "cell_type": "markdown",
      "source": [
        "### Pruebas"
      ],
      "metadata": {
        "id": "slmikpJG6ZZn"
      }
    },
    {
      "cell_type": "code",
      "source": [
        "nodes = ['C{}'.format(index) for index in range(1,6)]\n",
        "#labeledEdges = {('C1','C2'):14,('C1','C3'):20,('C1','C4'):6,('C2','C3'):76,('C3','C5'):15,('C4','C5'):34}\n",
        "labeledEdges = {('C1','C2'):1,('C1','C3'):1,('C1','C4'):1,('C2','C3'):1,('C3','C5'):1,('C4','C5'):1}\n",
        "\n",
        "print( \"Graph to Chromosome\"  )\n",
        "directGraph = DirectGraph( nodes, labeledEdges )\n",
        "customGraph = CustomGraph( directGraph )\n",
        "\n",
        "print( \"Chromosome to Graph\" )\n",
        "chromosome = Chromosome( customGraph.chromosome )\n",
        "chromosomeGraph = CustomGraph( chromosome )"
      ],
      "metadata": {
        "colab": {
          "base_uri": "https://localhost:8080/"
        },
        "id": "QPxxpvWPMhUx",
        "outputId": "6c8de90a-a6f7-4f6c-a2fb-9a14df240f62"
      },
      "execution_count": 34,
      "outputs": [
        {
          "output_type": "stream",
          "name": "stdout",
          "text": [
            "Graph to Chromosome\n",
            "Chromosome to Graph\n"
          ]
        }
      ]
    },
    {
      "cell_type": "markdown",
      "source": [
        "#### Comprobaciones"
      ],
      "metadata": {
        "id": "8iTgBxEmMb4l"
      }
    },
    {
      "cell_type": "code",
      "source": [
        "print( \"Graph to Chromosome\"  )\n",
        "print( customGraph.tdg_matrix )\n",
        "print( customGraph.adj_matrix )\n",
        "print( customGraph.hop_matrix )\n",
        "print( customGraph.chromosome )\n",
        "\n",
        "print( \"Chromosome to Graph\" )\n",
        "print( chromosomeGraph.tdg_matrix )\n",
        "print( chromosomeGraph.adj_matrix )\n",
        "print( chromosomeGraph.hop_matrix )\n",
        "print( chromosomeGraph.chromosome )\n",
        "\n",
        "print( \"Differences\"  )\n",
        "print( np.abs(customGraph.tdg_matrix - chromosomeGraph.tdg_matrix) )\n",
        "print( np.abs(customGraph.adj_matrix - chromosomeGraph.adj_matrix) )\n",
        "print( np.abs(customGraph.hop_matrix - chromosomeGraph.hop_matrix) )\n",
        "print( np.abs(customGraph.chromosome - chromosomeGraph.chromosome) )\n",
        "\n",
        "print( customGraph.nodes )\n",
        "print( chromosomeGraph.nodes )\n",
        "\n",
        "print( customGraph.labeledEdges )\n",
        "print( chromosomeGraph.labeledEdges )\n",
        "\n",
        "\n",
        "plt.subplots( 1, 2, figsize=(15,6) )\n",
        "plt.subplot( 1, 2, 1 )\n",
        "customGraph.drawGraph()\n",
        "plt.subplot( 1, 2, 2 )\n",
        "chromosomeGraph.drawGraph()"
      ],
      "metadata": {
        "id": "SBHxSKhJwLQZ",
        "colab": {
          "base_uri": "https://localhost:8080/",
          "height": 1000
        },
        "outputId": "c3910948-97f4-459f-edfd-c10d8113950a"
      },
      "execution_count": 35,
      "outputs": [
        {
          "output_type": "stream",
          "name": "stdout",
          "text": [
            "Graph to Chromosome\n",
            "[[0 1 1 1 0]\n",
            " [1 0 1 0 0]\n",
            " [1 1 0 0 1]\n",
            " [1 0 0 0 1]\n",
            " [0 0 1 1 0]]\n",
            "[[0 1 1 1 0]\n",
            " [1 0 1 0 0]\n",
            " [1 1 0 0 1]\n",
            " [1 0 0 0 1]\n",
            " [0 0 1 1 0]]\n",
            "[[0. 1. 1. 1. 2.]\n",
            " [1. 0. 1. 2. 2.]\n",
            " [1. 1. 0. 2. 1.]\n",
            " [1. 2. 2. 0. 1.]\n",
            " [2. 2. 1. 1. 0.]]\n",
            "[1 1 1 0 1 0 0 0 1 1]\n",
            "Chromosome to Graph\n",
            "[[0 1 1 1 0]\n",
            " [1 0 1 0 0]\n",
            " [1 1 0 0 1]\n",
            " [1 0 0 0 1]\n",
            " [0 0 1 1 0]]\n",
            "[[0 1 1 1 0]\n",
            " [1 0 1 0 0]\n",
            " [1 1 0 0 1]\n",
            " [1 0 0 0 1]\n",
            " [0 0 1 1 0]]\n",
            "[[0. 1. 1. 1. 2.]\n",
            " [1. 0. 1. 2. 2.]\n",
            " [1. 1. 0. 2. 1.]\n",
            " [1. 2. 2. 0. 1.]\n",
            " [2. 2. 1. 1. 0.]]\n",
            "[1 1 1 0 1 0 0 0 1 1]\n",
            "Differences\n",
            "[[0 0 0 0 0]\n",
            " [0 0 0 0 0]\n",
            " [0 0 0 0 0]\n",
            " [0 0 0 0 0]\n",
            " [0 0 0 0 0]]\n",
            "[[0 0 0 0 0]\n",
            " [0 0 0 0 0]\n",
            " [0 0 0 0 0]\n",
            " [0 0 0 0 0]\n",
            " [0 0 0 0 0]]\n",
            "[[0. 0. 0. 0. 0.]\n",
            " [0. 0. 0. 0. 0.]\n",
            " [0. 0. 0. 0. 0.]\n",
            " [0. 0. 0. 0. 0.]\n",
            " [0. 0. 0. 0. 0.]]\n",
            "[0 0 0 0 0 0 0 0 0 0]\n",
            "['C1', 'C2', 'C3', 'C4', 'C5']\n",
            "['C1', 'C2', 'C3', 'C4', 'C5']\n",
            "{('C1', 'C2'): 1, ('C1', 'C3'): 1, ('C1', 'C4'): 1, ('C2', 'C3'): 1, ('C3', 'C5'): 1, ('C4', 'C5'): 1, ('C2', 'C1'): 1, ('C3', 'C1'): 1, ('C4', 'C1'): 1, ('C3', 'C2'): 1, ('C5', 'C3'): 1, ('C5', 'C4'): 1}\n",
            "{('C1', 'C2'): 1, ('C1', 'C3'): 1, ('C1', 'C4'): 1, ('C2', 'C1'): 1, ('C2', 'C3'): 1, ('C3', 'C1'): 1, ('C3', 'C2'): 1, ('C3', 'C5'): 1, ('C4', 'C1'): 1, ('C4', 'C5'): 1, ('C5', 'C3'): 1, ('C5', 'C4'): 1}\n"
          ]
        },
        {
          "output_type": "display_data",
          "data": {
            "text/plain": [
              "<Figure size 1500x600 with 2 Axes>"
            ],
            "image/png": "[encoded data removed]"
          },
          "metadata": {}
        }
      ]
    },
    {
      "cell_type": "code",
      "source": [
        "def functionFitness( x ):  \n",
        "  return  - np.abs( np.sin(x) - 0.5 * x ) # Max in 1.89, 0.81\n",
        "\n",
        "def functionDecode( self ):\n",
        "  n = self.chromosomeSize \n",
        "  a=1\n",
        "  b=3\n",
        "  x=[]\n",
        "  for s in self.population:\n",
        "    bin_to_int = np.array( [int(j) << i for i,j in enumerate(s[::-1])] ).sum()\n",
        "    int_to_x   = a + bin_to_int * (b - a) / (2**n - 1)\n",
        "    x.append( int_to_x )\n",
        "  self.populationValue = np.array(x)  \n",
        "  return np.array(x)\n",
        "\n",
        "\n",
        "\n",
        "GA = GeneticAlgorithm( populationSize=10, chromosomeSize=10, \n",
        "                       mutationType='bitstring', crossoverType='uniform', selectionType='ranking',\n",
        "                       functionDecode = functionDecode,\n",
        "                       calculateFitness = calculateFitness,\n",
        "                       plotResult = plotResult,\n",
        "                       numberMaximumIterations=100, epsilon = 0.001,\n",
        "                       randomState = 69, geneLimits = None )#\n",
        "GA.solve()\n",
        "GA.printResult()\n",
        "GA.plotResult( GA )"
      ],
      "metadata": {
        "id": "m6feGH9xz5-q",
        "colab": {
          "base_uri": "https://localhost:8080/",
          "height": 358
        },
        "outputId": "b3cf928d-35e6-485f-f97c-99305105fd72"
      },
      "execution_count": 37,
      "outputs": [
        {
          "output_type": "error",
          "ename": "TypeError",
          "evalue": "ignored",
          "traceback": [
            "\u001b[0;31m---------------------------------------------------------------------------\u001b[0m",
            "\u001b[0;31mTypeError\u001b[0m                                 Traceback (most recent call last)",
            "\u001b[0;32m<ipython-input-37-25b18fff3cd9>\u001b[0m in \u001b[0;36m<cell line: 25>\u001b[0;34m()\u001b[0m\n\u001b[1;32m     23\u001b[0m                        \u001b[0mnumberMaximumIterations\u001b[0m\u001b[0;34m=\u001b[0m\u001b[0;36m100\u001b[0m\u001b[0;34m,\u001b[0m \u001b[0mepsilon\u001b[0m \u001b[0;34m=\u001b[0m \u001b[0;36m0.001\u001b[0m\u001b[0;34m,\u001b[0m\u001b[0;34m\u001b[0m\u001b[0;34m\u001b[0m\u001b[0m\n\u001b[1;32m     24\u001b[0m                        randomState = 69, geneLimits = None )#\n\u001b[0;32m---> 25\u001b[0;31m \u001b[0mGA\u001b[0m\u001b[0;34m.\u001b[0m\u001b[0msolve\u001b[0m\u001b[0;34m(\u001b[0m\u001b[0;34m)\u001b[0m\u001b[0;34m\u001b[0m\u001b[0;34m\u001b[0m\u001b[0m\n\u001b[0m\u001b[1;32m     26\u001b[0m \u001b[0mGA\u001b[0m\u001b[0;34m.\u001b[0m\u001b[0mprintResult\u001b[0m\u001b[0;34m(\u001b[0m\u001b[0;34m)\u001b[0m\u001b[0;34m\u001b[0m\u001b[0;34m\u001b[0m\u001b[0m\n\u001b[1;32m     27\u001b[0m \u001b[0mGA\u001b[0m\u001b[0;34m.\u001b[0m\u001b[0mplotResult\u001b[0m\u001b[0;34m(\u001b[0m \u001b[0mGA\u001b[0m \u001b[0;34m)\u001b[0m\u001b[0;34m\u001b[0m\u001b[0;34m\u001b[0m\u001b[0m\n",
            "\u001b[0;32m<ipython-input-13-a5100f873726>\u001b[0m in \u001b[0;36msolve\u001b[0;34m(self)\u001b[0m\n\u001b[1;32m    154\u001b[0m   \u001b[0;32mdef\u001b[0m \u001b[0msolve\u001b[0m\u001b[0;34m(\u001b[0m \u001b[0mself\u001b[0m \u001b[0;34m)\u001b[0m\u001b[0;34m:\u001b[0m\u001b[0;34m\u001b[0m\u001b[0;34m\u001b[0m\u001b[0m\n\u001b[1;32m    155\u001b[0m     \u001b[0mself\u001b[0m\u001b[0;34m.\u001b[0m\u001b[0mpopulation\u001b[0m \u001b[0;34m=\u001b[0m \u001b[0mself\u001b[0m\u001b[0;34m.\u001b[0m\u001b[0mgenerateRandomPopulation\u001b[0m\u001b[0;34m(\u001b[0m\u001b[0;34m)\u001b[0m\u001b[0;34m\u001b[0m\u001b[0;34m\u001b[0m\u001b[0m\n\u001b[0;32m--> 156\u001b[0;31m     \u001b[0mself\u001b[0m\u001b[0;34m.\u001b[0m\u001b[0mcalculateFitness\u001b[0m\u001b[0;34m(\u001b[0m\u001b[0;34m)\u001b[0m\u001b[0;34m\u001b[0m\u001b[0;34m\u001b[0m\u001b[0m\n\u001b[0m\u001b[1;32m    157\u001b[0m     \u001b[0mself\u001b[0m\u001b[0;34m.\u001b[0m\u001b[0mprintResult\u001b[0m\u001b[0;34m(\u001b[0m\u001b[0;34m)\u001b[0m\u001b[0;34m\u001b[0m\u001b[0;34m\u001b[0m\u001b[0m\n\u001b[1;32m    158\u001b[0m     \u001b[0;32mwhile\u001b[0m \u001b[0mself\u001b[0m\u001b[0;34m.\u001b[0m\u001b[0mnumberOfIteration\u001b[0m \u001b[0;34m<\u001b[0m \u001b[0mself\u001b[0m\u001b[0;34m.\u001b[0m\u001b[0mnumberMaximumIterations\u001b[0m\u001b[0;34m:\u001b[0m\u001b[0;34m\u001b[0m\u001b[0;34m\u001b[0m\u001b[0m\n",
            "\u001b[0;31mTypeError\u001b[0m: calculateFitness() missing 1 required positional argument: 'GA'"
          ]
        }
      ]
    },
    {
      "cell_type": "markdown",
      "source": [
        "# Optimización por Algoritmos Genéticos"
      ],
      "metadata": {
        "id": "gcrBCoG5kqF0"
      }
    },
    {
      "cell_type": "markdown",
      "source": [
        "## Descripción del Grafo"
      ],
      "metadata": {
        "id": "3fgsOmJ-wFgk"
      }
    },
    {
      "cell_type": "code",
      "source": [
        "nodes = ['C{}'.format(index) for index in range(1,6)]\n",
        "labeledEdges = {('C1','C2'):14,('C1','C3'):20,('C2','C3'):76,('C1','C4'):6,('C4','C5'):34,('C5','C3'):15}\n",
        "\n",
        "descriptionApplicationGraph = DirectGraph( nodes, labeledEdges )\n",
        "applicationGraph = CustomGraph( descriptionApplicationGraph )\n",
        "\n",
        "def plotResult( self ):\n",
        "  None"
      ],
      "metadata": {
        "id": "pePcDDZQkzaT"
      },
      "execution_count": 38,
      "outputs": []
    },
    {
      "cell_type": "markdown",
      "source": [
        "## Optimización Delay"
      ],
      "metadata": {
        "id": "K7bh60vMc75e"
      }
    },
    {
      "cell_type": "markdown",
      "source": [
        "**Funcion objetivo Delay a minimizar**\n",
        "$$D_{NoC} = u (t_{a}+t_{r}) + (u+1) t_{l} + \\frac{N_{P}}{N_{C}}t_{l}$$\n",
        "\n",
        "Lista de símbolos\n",
        "\n",
        "$u$: Average Internode Distance\n",
        "\n",
        "$t_{a}$: Router Arbitration Delay\n",
        "\n",
        "$t_{r}$: Propagation Delay \n",
        "\n",
        "$t_{l}$: Link Propagation Delay\n",
        "\n",
        "$N_{P}$: Number of bits per packet \n",
        "\n",
        "$N_{C}$: Channel width "
      ],
      "metadata": {
        "id": "z-meXrc1y5kC"
      }
    },
    {
      "cell_type": "markdown",
      "source": [
        "### Pruebas Métodos"
      ],
      "metadata": {
        "id": "LEAxYgBnqSnN"
      }
    },
    {
      "cell_type": "code",
      "source": [
        "def functionFitnessAverageHopsDisplay( GA ):\n",
        "  print( GA.population )\n",
        "  fitnessScores = np.zeros(len(GA.population))\n",
        "  for index in range( len(GA.population) ):\n",
        "    print( '='*68)\n",
        "    fitnessScores[index] = CustomGraph(Chromosome( GA.population[index] )).averageHops\n",
        "    print( '-'*30)\n",
        "    print( Chromosome( GA.population[index] ).chromosome )\n",
        "    print( '-'*30)\n",
        "    print( CustomGraph(Chromosome( GA.population[index] )).adj_matrix )\n",
        "    print( '-'*30)\n",
        "    print( CustomGraph(Chromosome( GA.population[index] )).hop_matrix )\n",
        "    print( '-'*30)\n",
        "    print( fitnessScores[index] )\n",
        "    print( '='*68)\n",
        "  return fitnessScores\n",
        "\n",
        "def functionFitnessAverageHops( GA ):\n",
        "  fitnessScores = np.zeros(len(GA.population))\n",
        "  for index in range( len(GA.population) ):\n",
        "    fitnessScores[index] = CustomGraph(Chromosome( GA.population[index] )).averageHops\n",
        "  return fitnessScores\n",
        "\n",
        "def functionDecodeHopAverageHops( GA ):\n",
        "  return None\n",
        "\n",
        "\n",
        "def OptimizationTopology( ):\n",
        "  GA.solve()\n",
        "  GA.printResult()\n",
        "\n",
        "  print( chromosomeGraph.hop_matrix)\n",
        "  print( chromosomeGraph.averageHops )\n",
        "\n",
        "\n",
        "  functionFitnessAverageHops( GA )"
      ],
      "metadata": {
        "id": "DTeveQJ507Bf"
      },
      "execution_count": 39,
      "outputs": []
    },
    {
      "cell_type": "code",
      "source": [
        "OptimizationTopology( )"
      ],
      "metadata": {
        "id": "Ec3xiNek1Kz1",
        "colab": {
          "base_uri": "https://localhost:8080/",
          "height": 312
        },
        "outputId": "cc8d7bc0-816a-4773-c35d-0d2a6895815c"
      },
      "execution_count": 40,
      "outputs": [
        {
          "output_type": "error",
          "ename": "TypeError",
          "evalue": "ignored",
          "traceback": [
            "\u001b[0;31m---------------------------------------------------------------------------\u001b[0m",
            "\u001b[0;31mTypeError\u001b[0m                                 Traceback (most recent call last)",
            "\u001b[0;32m<ipython-input-40-98da8e7099e3>\u001b[0m in \u001b[0;36m<cell line: 1>\u001b[0;34m()\u001b[0m\n\u001b[0;32m----> 1\u001b[0;31m \u001b[0mOptimizationTopology\u001b[0m\u001b[0;34m(\u001b[0m \u001b[0;34m)\u001b[0m\u001b[0;34m\u001b[0m\u001b[0;34m\u001b[0m\u001b[0m\n\u001b[0m",
            "\u001b[0;32m<ipython-input-39-9309603e34e4>\u001b[0m in \u001b[0;36mOptimizationTopology\u001b[0;34m()\u001b[0m\n\u001b[1;32m     27\u001b[0m \u001b[0;34m\u001b[0m\u001b[0m\n\u001b[1;32m     28\u001b[0m \u001b[0;32mdef\u001b[0m \u001b[0mOptimizationTopology\u001b[0m\u001b[0;34m(\u001b[0m \u001b[0;34m)\u001b[0m\u001b[0;34m:\u001b[0m\u001b[0;34m\u001b[0m\u001b[0;34m\u001b[0m\u001b[0m\n\u001b[0;32m---> 29\u001b[0;31m   \u001b[0mGA\u001b[0m\u001b[0;34m.\u001b[0m\u001b[0msolve\u001b[0m\u001b[0;34m(\u001b[0m\u001b[0;34m)\u001b[0m\u001b[0;34m\u001b[0m\u001b[0;34m\u001b[0m\u001b[0m\n\u001b[0m\u001b[1;32m     30\u001b[0m   \u001b[0mGA\u001b[0m\u001b[0;34m.\u001b[0m\u001b[0mprintResult\u001b[0m\u001b[0;34m(\u001b[0m\u001b[0;34m)\u001b[0m\u001b[0;34m\u001b[0m\u001b[0;34m\u001b[0m\u001b[0m\n\u001b[1;32m     31\u001b[0m \u001b[0;34m\u001b[0m\u001b[0m\n",
            "\u001b[0;32m<ipython-input-13-a5100f873726>\u001b[0m in \u001b[0;36msolve\u001b[0;34m(self)\u001b[0m\n\u001b[1;32m    154\u001b[0m   \u001b[0;32mdef\u001b[0m \u001b[0msolve\u001b[0m\u001b[0;34m(\u001b[0m \u001b[0mself\u001b[0m \u001b[0;34m)\u001b[0m\u001b[0;34m:\u001b[0m\u001b[0;34m\u001b[0m\u001b[0;34m\u001b[0m\u001b[0m\n\u001b[1;32m    155\u001b[0m     \u001b[0mself\u001b[0m\u001b[0;34m.\u001b[0m\u001b[0mpopulation\u001b[0m \u001b[0;34m=\u001b[0m \u001b[0mself\u001b[0m\u001b[0;34m.\u001b[0m\u001b[0mgenerateRandomPopulation\u001b[0m\u001b[0;34m(\u001b[0m\u001b[0;34m)\u001b[0m\u001b[0;34m\u001b[0m\u001b[0;34m\u001b[0m\u001b[0m\n\u001b[0;32m--> 156\u001b[0;31m     \u001b[0mself\u001b[0m\u001b[0;34m.\u001b[0m\u001b[0mcalculateFitness\u001b[0m\u001b[0;34m(\u001b[0m\u001b[0;34m)\u001b[0m\u001b[0;34m\u001b[0m\u001b[0;34m\u001b[0m\u001b[0m\n\u001b[0m\u001b[1;32m    157\u001b[0m     \u001b[0mself\u001b[0m\u001b[0;34m.\u001b[0m\u001b[0mprintResult\u001b[0m\u001b[0;34m(\u001b[0m\u001b[0;34m)\u001b[0m\u001b[0;34m\u001b[0m\u001b[0;34m\u001b[0m\u001b[0m\n\u001b[1;32m    158\u001b[0m     \u001b[0;32mwhile\u001b[0m \u001b[0mself\u001b[0m\u001b[0;34m.\u001b[0m\u001b[0mnumberOfIteration\u001b[0m \u001b[0;34m<\u001b[0m \u001b[0mself\u001b[0m\u001b[0;34m.\u001b[0m\u001b[0mnumberMaximumIterations\u001b[0m\u001b[0;34m:\u001b[0m\u001b[0;34m\u001b[0m\u001b[0;34m\u001b[0m\u001b[0m\n",
            "\u001b[0;31mTypeError\u001b[0m: calculateFitness() missing 1 required positional argument: 'GA'"
          ]
        }
      ]
    },
    {
      "cell_type": "code",
      "source": [
        "GA = GeneticAlgorithm( populationSize=10, chromosomeSize=10, \n",
        "                       mutationType='bitstring', crossoverType='uniform', selectionType='ranking',\n",
        "                       functionDecode = functionDecode,\n",
        "                       calculateFitness = calculateFitness,\n",
        "                       plotResult = plotResult,\n",
        "                       numberMaximumIterations=1, epsilon = 0.001,\n",
        "                       randomState = 69, geneLimits = None )#\n",
        "\n",
        "def OptimizationTopology( ):\n",
        "  GA.solve()\n",
        "  GA.printResult()\n",
        "  GA.plotResult( GA )\n",
        "\n",
        "  \n",
        "  chromosome = Chromosome( GA.bestCandidateOfGeneration[-1] )\n",
        "  chromosomeGraph = CustomGraph( chromosome )\n",
        "\n",
        "  \n",
        "  print( GA.bestCandidateOfGeneration[-1] ) \n",
        "  print( chromosome.chromosome )\n",
        "  print( chromosomeGraph.adj_matrix )\n",
        " \n",
        "  plt.subplots( 1,2, figsize=(15,6) )\n",
        "  plt.subplot( 1, 2, 1 )\n",
        "  customGraph.drawGraph()\n",
        "  plt.subplot( 1, 2, 2 )\n",
        "  chromosomeGraph.drawGraph()\n"
      ],
      "metadata": {
        "id": "0kDkFkNz1s1_"
      },
      "execution_count": 41,
      "outputs": []
    },
    {
      "cell_type": "code",
      "source": [
        "OptimizationTopology()"
      ],
      "metadata": {
        "id": "j2564tmM5Yru"
      },
      "execution_count": null,
      "outputs": []
    },
    {
      "cell_type": "markdown",
      "source": [
        "### Simplificación #1"
      ],
      "metadata": {
        "id": "W8nmtkK5sfEI"
      }
    },
    {
      "cell_type": "markdown",
      "source": [
        "#### Función Fitness"
      ],
      "metadata": {
        "id": "e0wmgF4sL0LI"
      }
    },
    {
      "cell_type": "markdown",
      "source": [
        "$$ D_{NoC} = u$$\n",
        "\n",
        "Donde $\\mu = $ average hops in the network"
      ],
      "metadata": {
        "id": "X1A54zQELwJM"
      }
    },
    {
      "cell_type": "code",
      "source": [
        "def functionFitness( x ):  \n",
        "  return  np.sum(  CustomGraph(Chromosome( x )).hop_matrix )"
      ],
      "metadata": {
        "id": "tr2W1G3KtUNu"
      },
      "execution_count": 105,
      "outputs": []
    },
    {
      "cell_type": "code",
      "source": [
        "def calculateFitness( GA ):\n",
        "  fitnessScores = np.zeros( len(GA.population) )\n",
        "  for index in range (len(GA.population) ):\n",
        "    fitnessScores[index] = functionFitness( GA.population[index] )\n",
        "  return - fitnessScores"
      ],
      "metadata": {
        "id": "pxJnHmtCGr9Y"
      },
      "execution_count": 106,
      "outputs": []
    },
    {
      "cell_type": "markdown",
      "source": [
        "#### Optimización"
      ],
      "metadata": {
        "id": "LV5u3_Ddqesv"
      }
    },
    {
      "cell_type": "code",
      "source": [
        "def plotResult( self ):\n",
        "  None\n",
        "\n",
        "GA = GeneticAlgorithm( populationSize=10, chromosomeSize=10, \n",
        "                       mutationType='bitstring', crossoverType='uniform', selectionType='ranking',\n",
        "                       functionDecode = functionDecode,\n",
        "                       calculateFitness = calculateFitness,\n",
        "                       plotResult = plotResult,\n",
        "                       numberMaximumIterations=100, epsilon = 0.001,\n",
        "                       randomState = 69, geneLimits = None )#\n",
        "GA.solve()\n",
        "GA.printResult()\n",
        "customOptimizatedChromosome = Chromosome( GA.bestCandidateOfGeneration[-1] )\n",
        "customOptimizatedGraph = CustomGraph( customOptimizatedChromosome )\n",
        "customOptimizatedGraph.drawGraph()\n",
        "GA.plotResult( GA )"
      ],
      "metadata": {
        "id": "gyr1OrflSrbf",
        "colab": {
          "base_uri": "https://localhost:8080/",
          "height": 910
        },
        "outputId": "17dc94cc-0ffd-49e4-bba2-0485023245ef"
      },
      "execution_count": 111,
      "outputs": [
        {
          "output_type": "stream",
          "name": "stdout",
          "text": [
            "================================================================================\n",
            "[-28. -inf -34. -28. -32. -28. -34. -34. -34. -24.]\n",
            "Generation 0 max fitness -24.0000 at \n",
            "#1\t[0 1 1 1 0 1 0 1 0 1] fitness: -28.0000 \n",
            "#2\t[0 1 0 0 0 0 1 0 0 1] fitness: -inf \n",
            "#3\t[1 1 0 1 0 0 1 1 0 0] fitness: -34.0000 \n",
            "#4\t[1 1 0 1 0 1 1 1 0 0] fitness: -28.0000 \n",
            "#5\t[1 1 0 1 0 0 0 1 0 1] fitness: -32.0000 \n",
            "#6\t[1 1 0 1 0 1 0 1 0 1] fitness: -28.0000 \n",
            "#7\t[1 0 1 0 1 0 1 0 1 0] fitness: -34.0000 \n",
            "#8\t[0 1 0 1 0 1 0 0 1 1] fitness: -34.0000 \n",
            "#9\t[1 1 1 0 0 1 0 0 1 0] fitness: -34.0000 \n",
            "#10\t[1 1 0 1 1 1 0 1 1 1] fitness: -24.0000 \n",
            "Average fitness: -inf\n",
            "================================================================================ \n",
            "\n",
            "================================================================================\n",
            "[-20. -20. -20. -22. -20. -20. -20.]\n",
            "Generation 100 max fitness -20.0000 at \n",
            "#1\t[1 1 1 1 1 1 1 1 1 1] fitness: -20.0000 \n",
            "#2\t[1 1 1 1 1 1 1 1 1 1] fitness: -20.0000 \n",
            "#3\t[1 1 1 1 1 1 1 1 1 1] fitness: -20.0000 \n",
            "#4\t[1 0 1 1 1 1 1 1 1 1] fitness: -22.0000 \n",
            "#5\t[1 1 1 1 1 1 1 1 1 1] fitness: -20.0000 \n",
            "#6\t[1 1 1 1 1 1 1 1 1 1] fitness: -20.0000 \n",
            "#7\t[1 1 1 1 1 1 1 1 1 1] fitness: -20.0000 \n",
            "Average fitness: -20.2857\n",
            "================================================================================ \n",
            "\n"
          ]
        },
        {
          "output_type": "display_data",
          "data": {
            "text/plain": [
              "<Figure size 640x480 with 1 Axes>"
            ],
            "image/png": "[encoded data removed]"
          },
          "metadata": {}
        }
      ]
    },
    {
      "cell_type": "markdown",
      "source": [
        "#### Resultados"
      ],
      "metadata": {
        "id": "52F1V2vHL-tX"
      }
    },
    {
      "cell_type": "code",
      "source": [
        "plt.subplots( 1, 2, figsize=(15,6) )\n",
        "plt.subplot( 1, 2, 1 )\n",
        "applicationGraph.drawGraph()\n",
        "plt.subplot( 1, 2, 2 )\n",
        "customOptimizatedGraph.drawGraph( )"
      ],
      "metadata": {
        "id": "4yxpJqOHMD05"
      },
      "execution_count": null,
      "outputs": []
    },
    {
      "cell_type": "markdown",
      "source": [
        "### Simplificación #2"
      ],
      "metadata": {
        "id": "xmkU9Np_MIPU"
      }
    },
    {
      "cell_type": "markdown",
      "source": [
        "#### Función Fitness"
      ],
      "metadata": {
        "id": "856vzatuMPR0"
      }
    },
    {
      "cell_type": "markdown",
      "source": [
        "\n",
        "$$ D_{NoC} = \\mu $$ \n",
        "\n",
        "Donde $ \\mu = \\frac{ \\sum_{i=1}^{N} \\sum_{j=1}^{N} \\lambda_{ij} c_{ij} } { \\sum_{i=1}^{N} \\sum_{j=1}^{N} \\lambda_{ij} } $"
      ],
      "metadata": {
        "id": "sSqWuTVnuJ8I"
      }
    },
    {
      "cell_type": "code",
      "source": [
        "def functionFitness( x ):\n",
        "  return np.sum( CustomGraph(Chromosome( x )).tdg_matrix * CustomGraph(Chromosome( x )).hop_matrix ) / np.sum(  CustomGraph(Chromosome( x )).tdg_matrix )"
      ],
      "metadata": {
        "id": "HmoC1mpWuezx"
      },
      "execution_count": null,
      "outputs": []
    },
    {
      "cell_type": "code",
      "source": [
        "def calculateFitness( GA ):\n",
        "  fitnessScores = np.zeros( len(GA.population) )\n",
        "  for index in range (len(GA.population)):\n",
        "    fitnessScores[index] = functionFitness( GA.population[index] )\n",
        "  return - fitnessScores"
      ],
      "metadata": {
        "id": "Ab4y7A1KTGVR"
      },
      "execution_count": null,
      "outputs": []
    },
    {
      "cell_type": "markdown",
      "source": [
        "#### Optimización"
      ],
      "metadata": {
        "id": "dFSfc2VqMUwb"
      }
    },
    {
      "cell_type": "code",
      "source": [
        "def plotResult( self ):\n",
        "  None\n",
        "\n",
        "GA = GeneticAlgorithm( populationSize=10, chromosomeSize=10, \n",
        "                       mutationType='bitstring', crossoverType='uniform', selectionType='ranking',\n",
        "                       functionDecode = functionDecode,\n",
        "                       calculateFitness = calculateFitness,\n",
        "                       plotResult = plotResult,\n",
        "                       numberMaximumIterations=100, epsilon = 0.001,\n",
        "                       randomState = 69, geneLimits = None )#\n",
        "GA.solve()\n",
        "GA.printResult()\n",
        "customOptimizatedChromosome = Chromosome( GA.bestCandidateOfGeneration[-1] )\n",
        "customOptimizatedGraph = CustomGraph( customOptimizatedChromosome )\n",
        "customOptimizatedGraph.drawGraph()\n",
        "GA.plotResult( GA )"
      ],
      "metadata": {
        "id": "iykN-bJnMcy1"
      },
      "execution_count": null,
      "outputs": []
    },
    {
      "cell_type": "markdown",
      "source": [
        "#### Resultados"
      ],
      "metadata": {
        "id": "mZj4EEjQMXnW"
      }
    },
    {
      "cell_type": "code",
      "source": [
        "plt.subplots( 1, 2, figsize=(15,6) )\n",
        "plt.subplot( 1, 2, 1 )\n",
        "applicationGraph.drawGraph()\n",
        "plt.subplot( 1, 2, 2 )\n",
        "customOptimizatedGraph.drawGraph( )"
      ],
      "metadata": {
        "id": "ONss6DTnMe32"
      },
      "execution_count": null,
      "outputs": []
    },
    {
      "cell_type": "markdown",
      "source": [
        "### Simplificación #3"
      ],
      "metadata": {
        "id": "BKqu1Epu049H"
      }
    },
    {
      "cell_type": "markdown",
      "source": [
        "#### Función Fitness"
      ],
      "metadata": {
        "id": "RX-Vvr9iY060"
      }
    },
    {
      "cell_type": "code",
      "source": [],
      "metadata": {
        "id": "_7sWBbIiMz6K"
      },
      "execution_count": null,
      "outputs": []
    },
    {
      "cell_type": "markdown",
      "source": [
        "#### Optimización"
      ],
      "metadata": {
        "id": "UyBNkP_ZMk2I"
      }
    },
    {
      "cell_type": "code",
      "source": [
        "def functionFitness( x ):\n",
        "  return - functionFitness( GA )"
      ],
      "metadata": {
        "id": "exJD6Oho1Lcr"
      },
      "execution_count": null,
      "outputs": []
    },
    {
      "cell_type": "markdown",
      "source": [
        "#### Resultados"
      ],
      "metadata": {
        "id": "woRPr5cXuvYk"
      }
    },
    {
      "cell_type": "code",
      "source": [
        "plt.subplots( 1,2, figsize=(15,6) )\n",
        "plt.subplot( 1, 2, 1 )\n",
        "customGraph.drawGraph()\n",
        "#nx.draw( customGraph.nxGraph, with_labels=True )\n",
        "plt.subplot( 1, 2, 2 )\n",
        "customOptimizatedGraph.drawGraph()\n",
        "#nx.draw( customOptimizatedGraph.nxGraph, with_labels=True )"
      ],
      "metadata": {
        "id": "__7XXZd-yWq9"
      },
      "execution_count": null,
      "outputs": []
    },
    {
      "cell_type": "markdown",
      "source": [],
      "metadata": {
        "id": "S6kMaOoezP4K"
      }
    },
    {
      "cell_type": "markdown",
      "source": [
        "## Optimización Area"
      ],
      "metadata": {
        "id": "Xj0F-a9zeL2l"
      }
    },
    {
      "cell_type": "markdown",
      "source": [
        "NoC area consist of the area of its routers and links.\n",
        "\n",
        "-Each port has an equal buffer size and consist of two channel of channel for packets reception and transmission, respectively.\n",
        "\n",
        "\n",
        "\n",
        "**Router Area:**\n",
        "\n",
        "$A_{R}=\\sum_{i=1}^{N}{ A_{ R_{i} } }$\n",
        "\n",
        "Donde:\n",
        "\n",
        "\n",
        "*   $N$: number of routers in the network, witch is equal to the number of cores in the application.\n",
        "*   $A_{R_{i}}$ : Area of router $i$\n",
        "\n",
        "**Link Area**\n",
        "The link are adepends on number if wires per each link, the wire length and width, and the spacing between wires.\n",
        "\n",
        "$$A_{L} = N_{L} * (N_{c}*(w_{}+s_{w})+s_{w})*l_{l}$$\n",
        "\n",
        "*   $N_{L}$: Number of links within the network\n",
        "*   $N_{C}$: Channel width  (Number channel)\n",
        "*   $w_{w}$: Wire width\n",
        "*   $s_{w}$: Inter-wires spacing\n",
        "*   $l_{l}$: Wire length  for global interconnects\n",
        "\n",
        "**Total NoC Area** \n",
        "\n",
        "$$A_{NoC} = A_{R} + A_{L}$$\n",
        "\n",
        "**Simplificando el modelo**\n",
        "\n",
        "Se toma en cuenta sólo el parámetro $N_{L}$\n",
        "\n",
        "\n",
        "$$A_{NoC}= A_{R} + A_{L}$$\n",
        "\n",
        "Donde:\n",
        "\n",
        "$A_{R}=\\sum_{i=1}^{N}{ A_{ R_{i} } }$\n",
        "\n",
        "$A_{L} = N_{L}$\n",
        "\n",
        "\n"
      ],
      "metadata": {
        "id": "Ihca0gn9zSDG"
      }
    },
    {
      "cell_type": "code",
      "source": [
        "def functionFitnessArea( applicationGraph ):\n",
        "  areaRouterTotal = len(applicationGraph.nodes)\n",
        "  areaLinkTotal   = np.sum( np.sum(applicationGraph.adj_matrix, axis=0) )\n",
        "  areaNoC = areaRouterTotal + areaLinkTotal\n",
        "  return areaNoC"
      ],
      "metadata": {
        "id": "B3eUzEh0vsod"
      },
      "execution_count": null,
      "outputs": []
    },
    {
      "cell_type": "code",
      "source": [
        "print( 'Number of link per node: ', np.sum(applicationGraph.adj_matrix, axis=0) )\n",
        "print( f'Area Noc Total: {functionFitnessArea( applicationGraph ):0.2f}'  )"
      ],
      "metadata": {
        "id": "TqS8xBUiJ1Iv"
      },
      "execution_count": null,
      "outputs": []
    },
    {
      "cell_type": "markdown",
      "source": [
        "### Simplificación #1\n"
      ],
      "metadata": {
        "id": "u5swzI0KMXw6"
      }
    },
    {
      "cell_type": "markdown",
      "source": [
        "\n",
        "Caso Trivial, la menor area es donde no existe aristas (links) entre los nodos"
      ],
      "metadata": {
        "id": "Pa4FqBpqNLcf"
      }
    },
    {
      "cell_type": "markdown",
      "source": [
        "#### Función Fitness"
      ],
      "metadata": {
        "id": "6yRaxKBcNB8o"
      }
    },
    {
      "cell_type": "code",
      "source": [
        "def functionFitness( x ):\n",
        "  return 5 + np.sum( np.sum( CustomGraph( Chromosome( x ) ).adj_matrix), axis=0 )"
      ],
      "metadata": {
        "id": "k0s05U3geOS7"
      },
      "execution_count": 91,
      "outputs": []
    },
    {
      "cell_type": "code",
      "source": [
        "def calculateFitness( GA ):\n",
        "  fitnessScores = np.zeros( len(GA.population) )\n",
        "  for index in range( len( GA.population ) ):\n",
        "    fitnessScores[index] = functionFitness( GA.population[index] )\n",
        "  return - fitnessScores"
      ],
      "metadata": {
        "id": "3dygZEguOsS4"
      },
      "execution_count": 92,
      "outputs": []
    },
    {
      "cell_type": "markdown",
      "source": [
        "#### Optimización"
      ],
      "metadata": {
        "id": "ChMLo12wNPqH"
      }
    },
    {
      "cell_type": "code",
      "source": [
        "def plotResult( self ):\n",
        "  None\n",
        "\n",
        "GA = GeneticAlgorithm( populationSize=10, chromosomeSize=10, \n",
        "                       mutationType='bitstring', crossoverType='uniform', selectionType='ranking',\n",
        "                       functionDecode = functionDecode,\n",
        "                       calculateFitness = calculateFitness,\n",
        "                       plotResult = plotResult,\n",
        "                       numberMaximumIterations=100, epsilon = 0.001,\n",
        "                       randomState = 69, geneLimits = None )#\n",
        "GA.solve()\n",
        "GA.printResult()\n",
        "customOptimizatedChromosome = Chromosome( GA.bestCandidateOfGeneration[-1] )\n",
        "customOptimizatedGraph = CustomGraph( customOptimizatedChromosome )\n",
        "customOptimizatedGraph.drawGraph()\n",
        "GA.plotResult( GA )"
      ],
      "metadata": {
        "colab": {
          "base_uri": "https://localhost:8080/",
          "height": 607
        },
        "id": "73tZMfNmNdUw",
        "outputId": "598af5ce-a352-4051-f6e4-dd8f27a992f8"
      },
      "execution_count": 93,
      "outputs": [
        {
          "output_type": "stream",
          "name": "stdout",
          "text": [
            "[-17. -11. -15. -17. -15. -17. -15. -15. -15. -21.]\n",
            "================================================================================\n",
            "Generation 0 max fitness -11.0000 at \n"
          ]
        },
        {
          "output_type": "error",
          "ename": "TypeError",
          "evalue": "ignored",
          "traceback": [
            "\u001b[0;31m---------------------------------------------------------------------------\u001b[0m",
            "\u001b[0;31mTypeError\u001b[0m                                 Traceback (most recent call last)",
            "\u001b[0;32m<ipython-input-93-9f8127722293>\u001b[0m in \u001b[0;36m<cell line: 11>\u001b[0;34m()\u001b[0m\n\u001b[1;32m      9\u001b[0m                        \u001b[0mnumberMaximumIterations\u001b[0m\u001b[0;34m=\u001b[0m\u001b[0;36m100\u001b[0m\u001b[0;34m,\u001b[0m \u001b[0mepsilon\u001b[0m \u001b[0;34m=\u001b[0m \u001b[0;36m0.001\u001b[0m\u001b[0;34m,\u001b[0m\u001b[0;34m\u001b[0m\u001b[0;34m\u001b[0m\u001b[0m\n\u001b[1;32m     10\u001b[0m                        randomState = 69, geneLimits = None )#\n\u001b[0;32m---> 11\u001b[0;31m \u001b[0mGA\u001b[0m\u001b[0;34m.\u001b[0m\u001b[0msolve\u001b[0m\u001b[0;34m(\u001b[0m\u001b[0;34m)\u001b[0m\u001b[0;34m\u001b[0m\u001b[0;34m\u001b[0m\u001b[0m\n\u001b[0m\u001b[1;32m     12\u001b[0m \u001b[0mGA\u001b[0m\u001b[0;34m.\u001b[0m\u001b[0mprintResult\u001b[0m\u001b[0;34m(\u001b[0m\u001b[0;34m)\u001b[0m\u001b[0;34m\u001b[0m\u001b[0;34m\u001b[0m\u001b[0m\n\u001b[1;32m     13\u001b[0m \u001b[0mcustomOptimizatedChromosome\u001b[0m \u001b[0;34m=\u001b[0m \u001b[0mChromosome\u001b[0m\u001b[0;34m(\u001b[0m \u001b[0mGA\u001b[0m\u001b[0;34m.\u001b[0m\u001b[0mbestCandidateOfGeneration\u001b[0m\u001b[0;34m[\u001b[0m\u001b[0;34m-\u001b[0m\u001b[0;36m1\u001b[0m\u001b[0;34m]\u001b[0m \u001b[0;34m)\u001b[0m\u001b[0;34m\u001b[0m\u001b[0;34m\u001b[0m\u001b[0m\n",
            "\u001b[0;32m<ipython-input-90-0c47dd99e809>\u001b[0m in \u001b[0;36msolve\u001b[0;34m(self)\u001b[0m\n\u001b[1;32m    155\u001b[0m     \u001b[0mself\u001b[0m\u001b[0;34m.\u001b[0m\u001b[0mfitnessScores\u001b[0m \u001b[0;34m=\u001b[0m \u001b[0mself\u001b[0m\u001b[0;34m.\u001b[0m\u001b[0mcalculateFitness\u001b[0m\u001b[0;34m(\u001b[0m\u001b[0;34m)\u001b[0m\u001b[0;34m\u001b[0m\u001b[0;34m\u001b[0m\u001b[0m\n\u001b[1;32m    156\u001b[0m     \u001b[0mprint\u001b[0m\u001b[0;34m(\u001b[0m \u001b[0mself\u001b[0m\u001b[0;34m.\u001b[0m\u001b[0mfitnessScores\u001b[0m \u001b[0;34m)\u001b[0m\u001b[0;34m\u001b[0m\u001b[0;34m\u001b[0m\u001b[0m\n\u001b[0;32m--> 157\u001b[0;31m     \u001b[0mself\u001b[0m\u001b[0;34m.\u001b[0m\u001b[0mprintResult\u001b[0m\u001b[0;34m(\u001b[0m\u001b[0;34m)\u001b[0m\u001b[0;34m\u001b[0m\u001b[0;34m\u001b[0m\u001b[0m\n\u001b[0m\u001b[1;32m    158\u001b[0m     \u001b[0;32mwhile\u001b[0m \u001b[0mself\u001b[0m\u001b[0;34m.\u001b[0m\u001b[0mnumberOfIteration\u001b[0m \u001b[0;34m<\u001b[0m \u001b[0mself\u001b[0m\u001b[0;34m.\u001b[0m\u001b[0mnumberMaximumIterations\u001b[0m\u001b[0;34m:\u001b[0m\u001b[0;34m\u001b[0m\u001b[0;34m\u001b[0m\u001b[0m\n\u001b[1;32m    159\u001b[0m       \u001b[0mself\u001b[0m\u001b[0;34m.\u001b[0m\u001b[0mselection\u001b[0m\u001b[0;34m(\u001b[0m \u001b[0;36m5\u001b[0m\u001b[0;34m,\u001b[0m \u001b[0;36m2\u001b[0m \u001b[0;34m)\u001b[0m\u001b[0;34m\u001b[0m\u001b[0;34m\u001b[0m\u001b[0m\n",
            "\u001b[0;32m<ipython-input-90-0c47dd99e809>\u001b[0m in \u001b[0;36mprintResult\u001b[0;34m(self)\u001b[0m\n\u001b[1;32m    143\u001b[0m     \u001b[0mprint\u001b[0m\u001b[0;34m(\u001b[0m \u001b[0;34mf'Generation {self.numberOfIteration} max fitness {self.fitnessScores.max():0.4f} at '\u001b[0m\u001b[0;34m)\u001b[0m\u001b[0;34m\u001b[0m\u001b[0;34m\u001b[0m\u001b[0m\n\u001b[1;32m    144\u001b[0m     \u001b[0;32mfor\u001b[0m \u001b[0mindexPopulation\u001b[0m \u001b[0;32min\u001b[0m \u001b[0mrange\u001b[0m\u001b[0;34m(\u001b[0m \u001b[0mlen\u001b[0m\u001b[0;34m(\u001b[0m\u001b[0mself\u001b[0m\u001b[0;34m.\u001b[0m\u001b[0mpopulation\u001b[0m\u001b[0;34m)\u001b[0m \u001b[0;34m)\u001b[0m\u001b[0;34m:\u001b[0m\u001b[0;34m\u001b[0m\u001b[0;34m\u001b[0m\u001b[0m\n\u001b[0;32m--> 145\u001b[0;31m       \u001b[0mprint\u001b[0m\u001b[0;34m(\u001b[0m \u001b[0;34mf'#{indexPopulation+1}\\t{self.population[indexPopulation]} value: {self.populationValue[indexPopulation]:0.4f} fitness: {self.fitnessScores[indexPopulation]:0.4f} '\u001b[0m \u001b[0;34m)\u001b[0m\u001b[0;34m\u001b[0m\u001b[0;34m\u001b[0m\u001b[0m\n\u001b[0m\u001b[1;32m    146\u001b[0m     \u001b[0mprint\u001b[0m\u001b[0;34m(\u001b[0m \u001b[0;34mf'Average fitness: {self.fitnessScores.mean():0.4f}'\u001b[0m \u001b[0;34m)\u001b[0m\u001b[0;34m\u001b[0m\u001b[0;34m\u001b[0m\u001b[0m\n\u001b[1;32m    147\u001b[0m \u001b[0;34m\u001b[0m\u001b[0m\n",
            "\u001b[0;31mTypeError\u001b[0m: 'NoneType' object is not subscriptable"
          ]
        }
      ]
    },
    {
      "cell_type": "markdown",
      "source": [
        "#### Resultados"
      ],
      "metadata": {
        "id": "4ohRSU8zNWpP"
      }
    },
    {
      "cell_type": "code",
      "source": [
        "plt.subplots( 1,2, figsize=(15,6) )\n",
        "plt.subplot( 1, 2, 1 )\n",
        "customGraph.drawGraph()\n",
        "#nx.draw( customGraph.nxGraph, with_labels=True )\n",
        "plt.subplot( 1, 2, 2 )\n",
        "customOptimizatedGraph.drawGraph()\n",
        "#nx.draw( customOptimizatedGraph.nxGraph, with_labels=True )"
      ],
      "metadata": {
        "id": "8wV81pPdNVVU"
      },
      "execution_count": null,
      "outputs": []
    },
    {
      "cell_type": "markdown",
      "source": [
        "### Simplificación #2\n",
        "\n",
        "* Restricción de puertos"
      ],
      "metadata": {
        "id": "rviB6PorNJqP"
      }
    },
    {
      "cell_type": "code",
      "source": [
        "def isReachable( hop_matrix ):\n",
        "  numberOfNodes = hop_matrix.shape[0]\n",
        "  for index in range( numberOfNodes ):\n",
        "    if np.sum(hop_matrix[index, :] ) == np.inf:\n",
        "        return 100\n",
        "  return 1      "
      ],
      "metadata": {
        "id": "WRnGP5GUfcFR"
      },
      "execution_count": null,
      "outputs": []
    },
    {
      "cell_type": "code",
      "source": [
        "def restriction( x ):\n",
        "  return isReachable( CustomGraph( Chromosome( x ) ).hop_matrix ) "
      ],
      "metadata": {
        "id": "-Uw9ViqnTTHY"
      },
      "execution_count": null,
      "outputs": []
    },
    {
      "cell_type": "markdown",
      "source": [
        "#### Función Fitness"
      ],
      "metadata": {
        "id": "6JDC5qcfw8M8"
      }
    },
    {
      "cell_type": "code",
      "source": [
        "def functionFitness( x ):\n",
        "  return 5 + np.sum( np.sum( CustomGraph( Chromosome( x ) ).adj_matrix), axis=0 )"
      ],
      "metadata": {
        "id": "SrUPbRJWNl51"
      },
      "execution_count": null,
      "outputs": []
    },
    {
      "cell_type": "code",
      "source": [
        "def calculateFitness( GA ):\n",
        "  fitnessScores = np.zeros( len(GA.population) )\n",
        "  for index in range (len(GA.population)):\n",
        "    fitnessScores[index] = restriction( GA.population[index] ) * functionFitness( GA.population[index] )\n",
        "  return - fitnessScores"
      ],
      "metadata": {
        "id": "rA0RYi_sQpok"
      },
      "execution_count": null,
      "outputs": []
    },
    {
      "cell_type": "markdown",
      "source": [
        "#### Optimización"
      ],
      "metadata": {
        "id": "-Lt97XIhxIgZ"
      }
    },
    {
      "cell_type": "code",
      "source": [
        "def plotResult( self ):\n",
        "  None\n",
        "\n",
        "GA = GeneticAlgorithm( populationSize=10, chromosomeSize=10, \n",
        "                       mutationType='bitstring', crossoverType='uniform', selectionType='ranking',\n",
        "                       functionDecode = functionDecode,\n",
        "                       calculateFitness = calculateFitness,\n",
        "                       plotResult = plotResult,\n",
        "                       numberMaximumIterations=100, epsilon = 0.001,\n",
        "                       randomState = 69, geneLimits = None )#\n",
        "GA.solve()\n",
        "GA.printResult()\n",
        "customOptimizatedChromosome = Chromosome( GA.bestCandidateOfGeneration[-1] )\n",
        "customOptimizatedGraph = CustomGraph( customOptimizatedChromosome )\n",
        "customOptimizatedGraph.drawGraph()\n",
        "GA.plotResult( GA )"
      ],
      "metadata": {
        "id": "E8W8yESQxNH2"
      },
      "execution_count": null,
      "outputs": []
    },
    {
      "cell_type": "markdown",
      "source": [
        "#### Resultados"
      ],
      "metadata": {
        "id": "HSs8rXgfvxH3"
      }
    },
    {
      "cell_type": "code",
      "source": [
        "plt.subplots( 1,2, figsize=(15,6) )\n",
        "plt.subplot( 1, 2, 1 )\n",
        "customGraph.drawGraph()\n",
        "#nx.draw( customGraph.nxGraph, with_labels=True )\n",
        "plt.subplot( 1, 2, 2 )\n",
        "customOptimizatedGraph.drawGraph()\n",
        "#nx.draw( customOptimizatedGraph.nxGraph, with_labels=True )"
      ],
      "metadata": {
        "id": "NEBbMwmxxUHJ"
      },
      "execution_count": null,
      "outputs": []
    },
    {
      "cell_type": "markdown",
      "source": [
        "### Simplificación #3"
      ],
      "metadata": {
        "id": "DQyq6TaDxH3g"
      }
    },
    {
      "cell_type": "markdown",
      "source": [
        "#### Función Fitness"
      ],
      "metadata": {
        "id": "cOdWQZNz1iUD"
      }
    },
    {
      "cell_type": "markdown",
      "source": [
        "#### Optimización"
      ],
      "metadata": {
        "id": "XQIQE9IB1mIZ"
      }
    },
    {
      "cell_type": "markdown",
      "source": [
        "#### Resultados"
      ],
      "metadata": {
        "id": "dC0jYjzi1pe3"
      }
    },
    {
      "cell_type": "markdown",
      "source": [
        "# Ejemplo de optimización de grafos\n",
        "Traffic Distributed Graph Matrix\n"
      ],
      "metadata": {
        "id": "wpy63oinLmbT"
      }
    },
    {
      "cell_type": "code",
      "source": [
        "matrixTDG = np.zeros( (18,18) )\n",
        "matrixTDG[0][11]  = matrixTDG[11][0]  =  330.50\n",
        "matrixTDG[0][15]  = matrixTDG[15][0]  =   35.86\n",
        "matrixTDG[0][16]  = matrixTDG[16][0]  =  198.80\n",
        "matrixTDG[0][17]  = matrixTDG[17][0]  =  529.30\n",
        "matrixTDG[1][9]   = matrixTDG[9][1]   =  330.50\n",
        "matrixTDG[1][17]  = matrixTDG[17][1]  =  529.30\n",
        "matrixTDG[2][11]  = matrixTDG[11][2]  =  371.25\n",
        "matrixTDG[2][16]  = matrixTDG[16][2]  =  137.25\n",
        "matrixTDG[3][10]  = matrixTDG[10][3]  =    1.40\n",
        "matrixTDG[3][15]  = matrixTDG[15][3]  =   37.78\n",
        "matrixTDG[4][16]  = matrixTDG[16][4]  =  331.80\n",
        "matrixTDG[5][9]   = matrixTDG[9][5]   =  275.80\n",
        "matrixTDG[5][16]  = matrixTDG[16][5]  =  331.80\n",
        "matrixTDG[6][14]  = matrixTDG[14][6]  =   68.99\n",
        "matrixTDG[6][15]  = matrixTDG[6][15]  =  207.00\n",
        "matrixTDG[7][10]  = matrixTDG[10][7]  =    6.26\n",
        "matrixTDG[7][12]  = matrixTDG[12][7]  =    1.02\n",
        "matrixTDG[7][15]  = matrixTDG[15][7]  =  276.00\n",
        "matrixTDG[8][10]  = matrixTDG[10][8]  =  371.25\n",
        "matrixTDG[8][11]  = matrixTDG[11][8]  =    1.92\n",
        "matrixTDG[8][13]  = matrixTDG[13][8]  = 1105.67\n",
        "matrixTDG[8][15]  = matrixTDG[15][8]  =    1.92\n",
        "matrixTDG[8][16]  = matrixTDG[16][8]  =  198.80\n",
        "matrixTDG[9][10]  = matrixTDG[10][9]  =    7.46\n",
        "matrixTDG[9][12]  = matrixTDG[12][9]  =    1.02\n",
        "matrixTDG[9][14]  = matrixTDG[14][9]  =    6.25\n",
        "matrixTDG[10][14] = matrixTDG[14][10] =   72.50\n",
        "matrixTDG[11][13] = matrixTDG[13][11] =    1.97\n",
        "\n",
        "labeledEdges = { (rowIndex, colIndex): matrixTDG[rowIndex][colIndex] for rowIndex, colIndex in graph.edges()}\n",
        "positionEdgeLabels = { (rowIndex, colIndex): (colIndex, rowIndex) for rowIndex, colIndex in graph.edges()}\n",
        "\n",
        "nodes = ['C{}'.format(index) for index in range(1,19)]\n",
        "labeledEdges = {( 'C1','C12'):330.50,( 'C1','C13'): 35.86,(  'C1','C17'): 192.80,('C1','C18'):529.30,\n",
        "                ( 'C2','C10'):330.50,( 'C2','C18'):529.30,\n",
        "                ( 'C3','C12'):371.25,( 'C3','C17'):137.25,\n",
        "                ( 'C4','C11'):  1.40,( 'C4','C16'): 37.78,\n",
        "                ( 'C5','C17'):331.80,\n",
        "                ( 'C6','C10'):275.80,( 'C6','C17'):331.80,\n",
        "                ( 'C7','C13'): 68.99,( 'C7','C14'):207.00,\n",
        "                ( 'C8','C11'):  6.26,( 'C8','C13'):  1.02,( 'C8','C16'): 276.00,\n",
        "                ( 'C9','C12'):371.25,( 'C9','C12'):  1.92,( 'C9','C14'):1105.67,('C9','C16'): 1.92,('C9','C17'):198.80,\n",
        "                ('C10','C11'):  7.46,('C10','C13'):  1.02,('C10','C15'):   6.25,\n",
        "                ('C11','C15'): 72.50,\n",
        "                ('C12','C14'):  1.97}\n",
        "\n",
        "applicationCores = DirectGraph( nodes, labeledEdges )\n",
        "applicationCoresGraph = CustomGraph( applicationCores )\n",
        "nx.draw_networkx( applicationCoresGraph.nxGraph, with_labels=True, pos=nx.spiral_layout(applicationCoresGraph.nxGraph) )\n",
        "#nx.draw_networkx_edge_labels( graph, pos=positionEdgeLabels, edge_labels=edgeLabels )\n",
        "\n",
        "\n"
      ],
      "metadata": {
        "id": "fd6RzwdYLxoq"
      },
      "execution_count": null,
      "outputs": []
    },
    {
      "cell_type": "code",
      "source": [
        "def functionFitness( x ):  \n",
        "  return  - np.abs( np.sin(x) - 0.5 * x ) # Max in 1.89, 0.81\n",
        "\n",
        "\n",
        "def functionDecode( self ):\n",
        "  n = self.chromosomeSize \n",
        "  a=1\n",
        "  b=3\n",
        "  x=[]\n",
        "  for s in self.population:\n",
        "    bin_to_int = np.array( [int(j) << i for i,j in enumerate(s[::-1])] ).sum()\n",
        "    int_to_x   = a + bin_to_int * (b - a) / (2**n - 1)\n",
        "    x.append( int_to_x )\n",
        "  self.populationValue = np.array(x)  \n",
        "  return np.array(x)\n",
        "\n",
        "def plotResult( self ):\n",
        "    xval = np.arange( 1, 3, 0.01 )\n",
        "    yval = functionFitness( xval )\n",
        "    plt.figure( figsize=(10,5) )\n",
        "\n",
        "    plt.subplot( 141 )\n",
        "    plt.plot( xval, yval, color='m', linewidth=4 )\n",
        "    plt.scatter( xval, yval, color='m' )\n",
        "    plt.xlim( (1,3) )\n",
        "    plt.xlabel( '$x$' )\n",
        "    plt.ylabel( '$f(x) = -|sin(x) - 0.5x|$' )\n",
        "    plt.title( 'Population at Iteration ' + str(3) + '\\n' + 'Number of Individuals: ' + str(self.populationSize) )\n",
        "\n",
        "    xval = np.arange( 0, self.numberMaximumIterations, 1 )\n",
        "    yval = self.bestFitnessOfGeneration\n",
        "\n",
        "    plt.subplot( 142 )\n",
        "    plt.plot( xval, yval, color='c', linewidth=4 )\n",
        "    plt.xlim( 0 )\n",
        "    plt.xlabel( 'Iteration' )\n",
        "    plt.ylabel( 'Best Fitness' )\n",
        "    plt.title( 'Best Fitness vs Iteration' + '\\n' + 'number of Individuals: ' + str( self.populationSize ) )\n",
        "\n",
        "    plt.subplot( 143 )\n",
        "    plt.plot( self.bestFitnessOfGeneration, color='c', linewidth=4 )\n",
        "    plt.xlim( 0 )\n",
        "    plt.xlabel( 'Iteration' )\n",
        "    plt.ylabel( 'Best Fitness' )\n",
        "    plt.title( 'Best Fitness vs Iteration' + '\\n' + 'number of Individuals: ' + str( self.populationSize ) )\n",
        "  \n",
        "    plt.subplot( 144 )\n",
        "    plt.plot( self.bestFitnessOfGeneration, color='c', linewidth=4 )\n",
        "    plt.xlim( 0 )\n",
        "    plt.xlabel( 'Iteration' )\n",
        "    plt.ylabel( 'Error' )\n",
        "    plt.title( 'Best Fitness vs Iteration' + '\\n' + 'number of Individuals: ' + str( self.populationSize ) )\n",
        "\n",
        "    plt.tight_layout()\n",
        "    plt.show()\n",
        "\n",
        "GA = GeneticAlgorithm( populationSize=10, chromosomeSize=18, \n",
        "                       mutationType='bitstring', crossoverType='uniform', selectionType='ranking',\n",
        "                       functionDecode = functionDecode,\n",
        "                       calculateFitness = calculateFitness,\n",
        "                       plotResult = plotResult,\n",
        "                       numberMaximumIterations=100, epsilon = 0.001,\n",
        "                       randomState = 69, geneLimits = None )#\n",
        "GA.solve()\n",
        "GA.printResult()\n",
        "print( GA.bestCandidateOfGeneration[-1] )\n",
        "optimizatedApplicationCores = Chromosome( GA.bestCandidateOfGeneration[-1] )\n",
        "print(  optimizatedApplicationCores.matrixSize )\n",
        "optimizatedApplicationCoresGraph = CustomGraph( optimizatedApplicationCores )\n",
        "GA.plotResult( GA )\n"
      ],
      "metadata": {
        "id": "wOwapdGVZvs3"
      },
      "execution_count": null,
      "outputs": []
    },
    {
      "cell_type": "markdown",
      "source": [
        "# Standard Graphs: Optimización por Algoritmos Genéticos"
      ],
      "metadata": {
        "id": "oyKFNOgozZFE"
      }
    },
    {
      "cell_type": "markdown",
      "source": [
        "## Application Cores Graph"
      ],
      "metadata": {
        "id": "XYZXwJYB2wSD"
      }
    }
  ]
}