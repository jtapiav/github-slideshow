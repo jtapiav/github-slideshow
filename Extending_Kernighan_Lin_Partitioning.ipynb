{
  "nbformat": 4,
  "nbformat_minor": 0,
  "metadata": {
    "colab": {
      "provenance": [],
      "collapsed_sections": [
        "R2WLlR_BBN3X",
        "yhJkm4phGuXg",
        "pzjcvI8zG10_",
        "TBRvVLGXHBlW",
        "EIQGEbPrHUoO",
        "IqLxRKe_HccF",
        "t7ZmjEFXBz0F",
        "03oj77QWLTBJ",
        "CKnZRJfnKKrx",
        "4LQMxw09KKrz",
        "l84NKHI0KKr0",
        "1xB9m2-UKKr0",
        "DfmWK7R5JEHO",
        "f2UtBks2MEmB",
        "nUTI2zLqMfX1",
        "-qE0Z_zYMfX4",
        "hfVyohrJMfX5",
        "WyWIvJfyMfX6",
        "L3s4ASs7MfX8",
        "2vls-UmZMfX8",
        "XdThA4EVKQ_U",
        "3MUwjq1hwrqq",
        "26F9EpuwSKZp"
      ],
      "authorship_tag": "ABX9TyNB7TuYdpgNgIEwxRq0CmaP",
      "include_colab_link": true
    },
    "kernelspec": {
      "name": "python3",
      "display_name": "Python 3"
    },
    "language_info": {
      "name": "python"
    }
  },
  "cells": [
    {
      "cell_type": "markdown",
      "metadata": {
        "id": "view-in-github",
        "colab_type": "text"
      },
      "source": [
        "<a href=\"https://colab.research.google.com/github/jtapiav/github-slideshow/blob/master/Extending_Kernighan_Lin_Partitioning.ipynb\" target=\"_parent\"><img src=\"https://colab.research.google.com/assets/colab-badge.svg\" alt=\"Open In Colab\"/></a>"
      ]
    },
    {
      "cell_type": "markdown",
      "source": [
        "# Bibliotecas"
      ],
      "metadata": {
        "id": "Rdrb448QH5dx"
      }
    },
    {
      "cell_type": "code",
      "source": [
        "import random"
      ],
      "metadata": {
        "id": "N3dZFZG7H9Gx"
      },
      "execution_count": null,
      "outputs": []
    },
    {
      "cell_type": "markdown",
      "source": [
        "#Original Kernighan-Lin Partition"
      ],
      "metadata": {
        "id": "R2WLlR_BBN3X"
      }
    },
    {
      "cell_type": "markdown",
      "source": [
        "## Graph"
      ],
      "metadata": {
        "id": "yhJkm4phGuXg"
      }
    },
    {
      "cell_type": "code",
      "source": [
        "class CoreGraph:\n",
        "    def __init__(self, cores, edges):\n",
        "        self.cores = cores\n",
        "        self.edges = edges"
      ],
      "metadata": {
        "id": "BAo_gmdKGzv4"
      },
      "execution_count": null,
      "outputs": []
    },
    {
      "cell_type": "markdown",
      "source": [
        "## Calculate Cost"
      ],
      "metadata": {
        "id": "pzjcvI8zG10_"
      }
    },
    {
      "cell_type": "code",
      "source": [
        "def calculate_cost(graph, partition1, partition2):\n",
        "    cost = 0\n",
        "    for edge in graph.edges:\n",
        "        if (edge[0] in partition1 and edge[1] in partition2) or (edge[0] in partition2 and edge[1] in partition1):\n",
        "            cost += 1\n",
        "    return cost"
      ],
      "metadata": {
        "id": "C5wGNDEvG_nT"
      },
      "execution_count": null,
      "outputs": []
    },
    {
      "cell_type": "markdown",
      "source": [
        "## Swap Core"
      ],
      "metadata": {
        "id": "TBRvVLGXHBlW"
      }
    },
    {
      "cell_type": "code",
      "source": [
        "def get_next_move(graph, partition1, partition2):\n",
        "    best_cost = calculate_cost( graph, partition1, partition2 )\n",
        "    best_move = None\n",
        "    for ci in partition1:\n",
        "        for cj in partition2:\n",
        "            current_cost = calculate_cost(graph, partition1 - {ci} | {cj}, partition2 - {cj} | {ci})\n",
        "            if current_cost < best_cost:\n",
        "                best_cost = current_cost\n",
        "                best_move = (ci, cj)\n",
        "    return best_move"
      ],
      "metadata": {
        "id": "J0cV9DOsHO-p"
      },
      "execution_count": null,
      "outputs": []
    },
    {
      "cell_type": "markdown",
      "source": [
        "## Kernighan_Lin Partition"
      ],
      "metadata": {
        "id": "EIQGEbPrHUoO"
      }
    },
    {
      "cell_type": "code",
      "source": [
        "def kernighan_lin(graph, partition1, partition2, level=0):\n",
        "    best_partition1, best_partition2 = partition1.copy(), partition2.copy()\n",
        "    current_partition1, current_partition2 = partition1.copy(), partition2.copy()\n",
        "\n",
        "    max_iterations = 50\n",
        "\n",
        "    for iteration in range(max_iterations):\n",
        "        next_move = get_next_move(graph, current_partition1, current_partition2)\n",
        "        if next_move is None:\n",
        "            break  # Salimos del ciclo si no encontramos una mejor jugada\n",
        "        ci, cj = next_move\n",
        "        current_partition1.remove(ci)\n",
        "        current_partition2.remove(cj)\n",
        "        current_partition1.add(cj)\n",
        "        current_partition2.add(ci)\n",
        "\n",
        "        if calculate_cost(graph, current_partition1, current_partition2) < calculate_cost(graph, best_partition1, best_partition2):\n",
        "            best_partition1, best_partition2 = current_partition1.copy(), current_partition2.copy()\n",
        "\n",
        "    if len(best_partition1) == len(partition1) and len(best_partition2) == len(partition2):\n",
        "        return best_partition1, best_partition2\n",
        "\n",
        "    p1, p2 = best_partition1, best_partition2\n",
        "    return p1, p2"
      ],
      "metadata": {
        "id": "1Vlp6CstHZ2l"
      },
      "execution_count": null,
      "outputs": []
    },
    {
      "cell_type": "markdown",
      "source": [
        "## Extend Kernighan-Lin Partition"
      ],
      "metadata": {
        "id": "IqLxRKe_HccF"
      }
    },
    {
      "cell_type": "code",
      "execution_count": null,
      "metadata": {
        "id": "JbDgXqXzeLgn"
      },
      "outputs": [],
      "source": [
        "def kl_partitioning(graph, level, cores_to_be_partitioned):\n",
        "  cores_to_be_partitioned = set(cores_to_be_partitioned)  # Convert to set to allow set operations\n",
        "\n",
        "  if len(cores_to_be_partitioned) < 4:\n",
        "    return cores_to_be_partitioned\n",
        "\n",
        "  cores_list = list(cores_to_be_partitioned)\n",
        "\n",
        "  partition1 = set(random.sample(cores_list, len(cores_list) // 2))\n",
        "  partition2 = cores_to_be_partitioned - partition1\n",
        "\n",
        "  indent = \" \" * (level * 4)\n",
        "  print(indent + f\"Level {level}:\")\n",
        "  print(indent + f\"Complete Set: {cores_to_be_partitioned}\")\n",
        "  print(indent + f\"Start Partitions\" + f\" Cost: {calculate_cost(graph, partition1, partition2)}\")\n",
        "  print(indent + f\" Partition 1: {set(partition1)}\")\n",
        "  print(indent + f\" Partition 2: {set(partition2)}\")\n",
        "\n",
        "  partition1, partition2 = kernighan_lin(graph, partition1, partition2)\n",
        "\n",
        "  indent = \" \" * (level * 4)\n",
        "  print(indent + f\"Final Partitions\" + f\" Cost: {calculate_cost(graph, partition1, partition2)}\")\n",
        "  print(indent + f\" Partition 1: {set(partition1)}\")\n",
        "  print(indent + f\" Partition 2: {set(partition2)}\")\n",
        "\n",
        "  partition1_1, partition1_2 = kl_partitioning(graph, level + 1, partition1)\n",
        "  partition2_1, partition2_2 = kl_partitioning(graph, level + 1, partition2)\n",
        "\n",
        "  partition1 = (partition1_1, partition1_2)\n",
        "  partition2 = (partition2_1, partition2_2)\n",
        "\n",
        "  return partition1, partition2\n"
      ]
    },
    {
      "cell_type": "markdown",
      "source": [
        "## Test"
      ],
      "metadata": {
        "id": "bSmrqu4lI_RK"
      }
    },
    {
      "cell_type": "code",
      "source": [
        "# Ejemplo de uso\n",
        "cores = {'C1', 'C2', 'C3', 'C4', 'C5', 'C6', 'C7', 'C8', 'C9', 'C10', 'C11', 'C12', 'C13', 'C14', 'C15', 'C16'}\n",
        "edges = {('C1', 'C2'), ('C1', 'C3'), ('C2', 'C4'), ('C3', 'C4'), ('C3', 'C5'), ('C4', 'C6'), ('C5', 'C6'),\n",
        "         ('C7', 'C8'), ('C7', 'C9'), ('C8', 'C10'), ('C9', 'C10'), ('C9', 'C11'), ('C10', 'C12'), ('C11', 'C12'),\n",
        "         ('C13', 'C14'), ('C13', 'C15'), ('C14', 'C16'), ('C15', 'C16')}\n",
        "graph = CoreGraph(cores, edges)\n",
        "\n",
        "partition1, partition2 = kl_partitioning(graph, 0, cores)\n",
        "\n",
        "print( \"Cost:\" f\"{calculate_cost( graph, partition1, partition2 )}\" )\n",
        "print(\"Final Partition 1:\", partition1)\n",
        "print(\"Final Partition 2:\", partition2)"
      ],
      "metadata": {
        "colab": {
          "base_uri": "https://localhost:8080/"
        },
        "id": "bBP7PvlgeTXG",
        "outputId": "ec6b6de4-8388-4f8f-ccc9-6215afdda9ed"
      },
      "execution_count": null,
      "outputs": [
        {
          "output_type": "stream",
          "name": "stdout",
          "text": [
            "Level 0:\n",
            "Complete Set: {'C15', 'C4', 'C7', 'C10', 'C2', 'C1', 'C13', 'C16', 'C6', 'C14', 'C9', 'C8', 'C3', 'C11', 'C5', 'C12'}\n",
            "Start Partitions Cost: 10\n",
            " Partition 1: {'C13', 'C4', 'C7', 'C16', 'C6', 'C8', 'C10', 'C5'}\n",
            " Partition 2: {'C15', 'C14', 'C9', 'C11', 'C3', 'C2', 'C1', 'C12'}\n",
            "Final Partitions Cost: 4\n",
            " Partition 1: {'C4', 'C7', 'C6', 'C9', 'C8', 'C3', 'C10', 'C5'}\n",
            " Partition 2: {'C15', 'C16', 'C14', 'C11', 'C2', 'C1', 'C13', 'C12'}\n",
            "    Level 1:\n",
            "    Complete Set: {'C4', 'C7', 'C6', 'C9', 'C8', 'C3', 'C10', 'C5'}\n",
            "    Start Partitions Cost: 4\n",
            "     Partition 1: {'C4', 'C7', 'C8', 'C6'}\n",
            "     Partition 2: {'C9', 'C3', 'C5', 'C10'}\n",
            "    Final Partitions Cost: 4\n",
            "     Partition 1: {'C4', 'C7', 'C8', 'C6'}\n",
            "     Partition 2: {'C9', 'C3', 'C5', 'C10'}\n",
            "        Level 2:\n",
            "        Complete Set: {'C4', 'C7', 'C8', 'C6'}\n",
            "        Start Partitions Cost: 2\n",
            "         Partition 1: {'C4', 'C8'}\n",
            "         Partition 2: {'C7', 'C6'}\n",
            "        Final Partitions Cost: 0\n",
            "         Partition 1: {'C7', 'C8'}\n",
            "         Partition 2: {'C4', 'C6'}\n",
            "        Level 2:\n",
            "        Complete Set: {'C9', 'C3', 'C5', 'C10'}\n",
            "        Start Partitions Cost: 0\n",
            "         Partition 1: {'C9', 'C10'}\n",
            "         Partition 2: {'C5', 'C3'}\n",
            "        Final Partitions Cost: 0\n",
            "         Partition 1: {'C9', 'C10'}\n",
            "         Partition 2: {'C5', 'C3'}\n",
            "    Level 1:\n",
            "    Complete Set: {'C15', 'C16', 'C14', 'C11', 'C2', 'C1', 'C13', 'C12'}\n",
            "    Start Partitions Cost: 3\n",
            "     Partition 1: {'C2', 'C11', 'C13', 'C12'}\n",
            "     Partition 2: {'C15', 'C1', 'C16', 'C14'}\n",
            "    Final Partitions Cost: 0\n",
            "     Partition 1: {'C2', 'C11', 'C1', 'C12'}\n",
            "     Partition 2: {'C15', 'C16', 'C13', 'C14'}\n",
            "        Level 2:\n",
            "        Complete Set: {'C2', 'C11', 'C1', 'C12'}\n",
            "        Start Partitions Cost: 2\n",
            "         Partition 1: {'C2', 'C11'}\n",
            "         Partition 2: {'C1', 'C12'}\n",
            "        Final Partitions Cost: 0\n",
            "         Partition 1: {'C11', 'C12'}\n",
            "         Partition 2: {'C2', 'C1'}\n",
            "        Level 2:\n",
            "        Complete Set: {'C15', 'C16', 'C13', 'C14'}\n",
            "        Start Partitions Cost: 2\n",
            "         Partition 1: {'C15', 'C16'}\n",
            "         Partition 2: {'C13', 'C14'}\n",
            "        Final Partitions Cost: 2\n",
            "         Partition 1: {'C15', 'C16'}\n",
            "         Partition 2: {'C13', 'C14'}\n",
            "Cost:0\n",
            "Final Partition 1: ((('C7', 'C8'), ('C4', 'C6')), (('C9', 'C10'), ('C5', 'C3')))\n",
            "Final Partition 2: ((('C11', 'C12'), ('C2', 'C1')), (('C15', 'C16'), ('C13', 'C14')))\n"
          ]
        }
      ]
    },
    {
      "cell_type": "markdown",
      "source": [
        "# Weighted Kernighan-Lin Partition"
      ],
      "metadata": {
        "id": "t7ZmjEFXBz0F"
      }
    },
    {
      "cell_type": "markdown",
      "source": [
        "## Graph"
      ],
      "metadata": {
        "id": "03oj77QWLTBJ"
      }
    },
    {
      "cell_type": "code",
      "source": [
        "class CoreGraph:\n",
        "    def __init__(self, cores, edges):\n",
        "        self.cores = cores\n",
        "        self.edges = edges\n",
        "        self.weights = {edge: random.randint(1, 10) for edge in edges}"
      ],
      "metadata": {
        "id": "Ta3N2TwDLUbQ"
      },
      "execution_count": null,
      "outputs": []
    },
    {
      "cell_type": "markdown",
      "source": [
        "## Calculate Cost"
      ],
      "metadata": {
        "id": "CKnZRJfnKKrx"
      }
    },
    {
      "cell_type": "code",
      "source": [
        "def calculate_cost(graph, partition1, partition2):\n",
        "    cost = 0\n",
        "    for edge, weight in graph.weights.items():\n",
        "        if (edge[0] in partition1 and edge[1] in partition2) or (edge[0] in partition2 and edge[1] in partition1):\n",
        "            cost += weight\n",
        "    return cost"
      ],
      "metadata": {
        "id": "_ww7sm_gKKry"
      },
      "execution_count": null,
      "outputs": []
    },
    {
      "cell_type": "markdown",
      "source": [
        "## Swap Core"
      ],
      "metadata": {
        "id": "4LQMxw09KKrz"
      }
    },
    {
      "cell_type": "code",
      "source": [
        "def get_next_move(graph, partition1, partition2):\n",
        "    best_cost = calculate_cost( graph, partition1, partition2 )\n",
        "    best_move = None\n",
        "    for ci in partition1:\n",
        "        for cj in partition2:\n",
        "            current_cost = calculate_cost(graph, partition1 - {ci} | {cj}, partition2 - {cj} | {ci})\n",
        "            if current_cost < best_cost:\n",
        "                best_cost = current_cost\n",
        "                best_move = (ci, cj)\n",
        "    return best_move"
      ],
      "metadata": {
        "id": "u8Qh1v_vKKr0"
      },
      "execution_count": null,
      "outputs": []
    },
    {
      "cell_type": "markdown",
      "source": [
        "## Kernighan_Lin Partition"
      ],
      "metadata": {
        "id": "l84NKHI0KKr0"
      }
    },
    {
      "cell_type": "code",
      "source": [
        "def kernighan_lin(graph, partition1, partition2, level=0):\n",
        "    best_partition1, best_partition2 = partition1.copy(), partition2.copy()\n",
        "    current_partition1, current_partition2 = partition1.copy(), partition2.copy()\n",
        "\n",
        "    max_iterations = 50\n",
        "\n",
        "    for iteration in range(max_iterations):\n",
        "        next_move = get_next_move(graph, current_partition1, current_partition2)\n",
        "        if next_move is None:\n",
        "            break  # Salimos del ciclo si no encontramos una mejor jugada\n",
        "        ci, cj = next_move\n",
        "        current_partition1.remove(ci)\n",
        "        current_partition2.remove(cj)\n",
        "        current_partition1.add(cj)\n",
        "        current_partition2.add(ci)\n",
        "\n",
        "        if calculate_cost(graph, current_partition1, current_partition2) < calculate_cost(graph, best_partition1, best_partition2):\n",
        "            best_partition1, best_partition2 = current_partition1.copy(), current_partition2.copy()\n",
        "\n",
        "    if len(best_partition1) == len(partition1) and len(best_partition2) == len(partition2):\n",
        "        return best_partition1, best_partition2\n",
        "\n",
        "    p1, p2 = best_partition1, best_partition2\n",
        "    return p1, p2"
      ],
      "metadata": {
        "id": "nJDDV-N8KKr0"
      },
      "execution_count": null,
      "outputs": []
    },
    {
      "cell_type": "markdown",
      "source": [
        "## Extend Kernighan-Lin Partition"
      ],
      "metadata": {
        "id": "1xB9m2-UKKr0"
      }
    },
    {
      "cell_type": "code",
      "execution_count": null,
      "metadata": {
        "id": "XvHpUVr3KKr1"
      },
      "outputs": [],
      "source": [
        "def kl_partitioning(graph, level, cores_to_be_partitioned):\n",
        "  cores_to_be_partitioned = set(cores_to_be_partitioned)  # Convert to set to allow set operations\n",
        "\n",
        "  if len(cores_to_be_partitioned) < 4:\n",
        "    return cores_to_be_partitioned\n",
        "\n",
        "  cores_list = list(cores_to_be_partitioned)\n",
        "\n",
        "  partition1 = set(random.sample(cores_list, len(cores_list) // 2))\n",
        "  partition2 = cores_to_be_partitioned - partition1\n",
        "\n",
        "  indent = \" \" * (level * 4)\n",
        "  print(indent + f\"Level {level}:\")\n",
        "  print(indent + f\"Complete Set: {cores_to_be_partitioned}\")\n",
        "  print(indent + f\"Start Partitions\" + f\" Cost: {calculate_cost(graph, partition1, partition2)}\")\n",
        "  print(indent + f\" Partition 1: {set(partition1)}\")\n",
        "  print(indent + f\" Partition 2: {set(partition2)}\")\n",
        "\n",
        "  partition1, partition2 = kernighan_lin(graph, partition1, partition2)\n",
        "\n",
        "  indent = \" \" * (level * 4)\n",
        "  print(indent + f\"Final Partitions\" + f\" Cost: {calculate_cost(graph, partition1, partition2)}\")\n",
        "  print(indent + f\" Partition 1: {set(partition1)}\")\n",
        "  print(indent + f\" Partition 2: {set(partition2)}\")\n",
        "\n",
        "  partition1_1, partition1_2 = kl_partitioning(graph, level + 1, partition1)\n",
        "  partition2_1, partition2_2 = kl_partitioning(graph, level + 1, partition2)\n",
        "\n",
        "  partition1 = (partition1_1, partition1_2)\n",
        "  partition2 = (partition2_1, partition2_2)\n",
        "\n",
        "  return partition1, partition2\n"
      ]
    },
    {
      "cell_type": "markdown",
      "source": [
        "## Test"
      ],
      "metadata": {
        "id": "DfmWK7R5JEHO"
      }
    },
    {
      "cell_type": "code",
      "source": [
        "# Ejemplo de uso\n",
        "cores = {'C1', 'C2', 'C3', 'C4', 'C5', 'C6', 'C7', 'C8', 'C9', 'C10', 'C11', 'C12', 'C13', 'C14', 'C15', 'C16'}\n",
        "edges = {('C1', 'C2'), ('C1', 'C3'), ('C2', 'C4'), ('C3', 'C4'), ('C3', 'C5'), ('C4', 'C6'), ('C5', 'C6'),\n",
        "         ('C7', 'C8'), ('C7', 'C9'), ('C8', 'C10'), ('C9', 'C10'), ('C9', 'C11'), ('C10', 'C12'), ('C11', 'C12'),\n",
        "         ('C13', 'C14'), ('C13', 'C15'), ('C14', 'C16'), ('C15', 'C16')}\n",
        "graph = CoreGraph(cores, edges)\n",
        "\n",
        "partition1, partition2 = kl_partitioning(graph, 0, cores)\n",
        "\n",
        "print( \"Cost:\" f\"{calculate_cost( graph, partition1, partition2 )}\" )\n",
        "print(\"Final Partition 1:\", partition1)\n",
        "print(\"Final Partition 2:\", partition2)"
      ],
      "metadata": {
        "colab": {
          "base_uri": "https://localhost:8080/"
        },
        "id": "euyZi2c1zlae",
        "outputId": "2061012d-0258-4e5e-ba46-351cc98d606b"
      },
      "execution_count": null,
      "outputs": [
        {
          "output_type": "stream",
          "name": "stdout",
          "text": [
            "Level 0:\n",
            "Complete Set: {'C15', 'C4', 'C7', 'C10', 'C2', 'C1', 'C13', 'C16', 'C6', 'C14', 'C9', 'C8', 'C3', 'C11', 'C5', 'C12'}\n",
            "Start Partitions Cost: 54\n",
            " Partition 1: {'C15', 'C4', 'C6', 'C11', 'C8', 'C3', 'C1', 'C13'}\n",
            " Partition 2: {'C7', 'C16', 'C14', 'C9', 'C10', 'C2', 'C5', 'C12'}\n",
            "Final Partitions Cost: 5\n",
            " Partition 1: {'C13', 'C4', 'C6', 'C14', 'C3', 'C2', 'C1', 'C5'}\n",
            " Partition 2: {'C15', 'C7', 'C16', 'C9', 'C11', 'C8', 'C10', 'C12'}\n",
            "    Level 1:\n",
            "    Complete Set: {'C13', 'C4', 'C6', 'C14', 'C3', 'C2', 'C1', 'C5'}\n",
            "    Start Partitions Cost: 29\n",
            "     Partition 1: {'C2', 'C5', 'C3', 'C14'}\n",
            "     Partition 2: {'C4', 'C1', 'C6', 'C13'}\n",
            "    Final Partitions Cost: 13\n",
            "     Partition 1: {'C2', 'C1', 'C3', 'C5'}\n",
            "     Partition 2: {'C13', 'C4', 'C6', 'C14'}\n",
            "        Level 2:\n",
            "        Complete Set: {'C2', 'C1', 'C3', 'C5'}\n",
            "        Start Partitions Cost: 6\n",
            "         Partition 1: {'C3', 'C5'}\n",
            "         Partition 2: {'C2', 'C1'}\n",
            "        Final Partitions Cost: 6\n",
            "         Partition 1: {'C3', 'C5'}\n",
            "         Partition 2: {'C2', 'C1'}\n",
            "        Level 2:\n",
            "        Complete Set: {'C13', 'C4', 'C6', 'C14'}\n",
            "        Start Partitions Cost: 15\n",
            "         Partition 1: {'C4', 'C14'}\n",
            "         Partition 2: {'C6', 'C13'}\n",
            "        Final Partitions Cost: 0\n",
            "         Partition 1: {'C13', 'C14'}\n",
            "         Partition 2: {'C4', 'C6'}\n",
            "    Level 1:\n",
            "    Complete Set: {'C15', 'C7', 'C16', 'C9', 'C11', 'C8', 'C10', 'C12'}\n",
            "    Start Partitions Cost: 31\n",
            "     Partition 1: {'C9', 'C8', 'C7', 'C12'}\n",
            "     Partition 2: {'C15', 'C11', 'C16', 'C10'}\n",
            "    Final Partitions Cost: 10\n",
            "     Partition 1: {'C12', 'C7', 'C11', 'C9'}\n",
            "     Partition 2: {'C15', 'C8', 'C16', 'C10'}\n",
            "        Level 2:\n",
            "        Complete Set: {'C12', 'C7', 'C11', 'C9'}\n",
            "        Start Partitions Cost: 10\n",
            "         Partition 1: {'C11', 'C12'}\n",
            "         Partition 2: {'C7', 'C9'}\n",
            "        Final Partitions Cost: 9\n",
            "         Partition 1: {'C7', 'C12'}\n",
            "         Partition 2: {'C11', 'C9'}\n",
            "        Level 2:\n",
            "        Complete Set: {'C15', 'C8', 'C16', 'C10'}\n",
            "        Start Partitions Cost: 13\n",
            "         Partition 1: {'C15', 'C10'}\n",
            "         Partition 2: {'C16', 'C8'}\n",
            "        Final Partitions Cost: 0\n",
            "         Partition 1: {'C8', 'C10'}\n",
            "         Partition 2: {'C15', 'C16'}\n",
            "Cost:0\n",
            "Final Partition 1: ((('C3', 'C5'), ('C2', 'C1')), (('C13', 'C14'), ('C4', 'C6')))\n",
            "Final Partition 2: ((('C7', 'C12'), ('C11', 'C9')), (('C8', 'C10'), ('C15', 'C16')))\n"
          ]
        }
      ]
    },
    {
      "cell_type": "markdown",
      "source": [
        "# Weighted Internal-External Kernighan-Lin Partition"
      ],
      "metadata": {
        "id": "f2UtBks2MEmB"
      }
    },
    {
      "cell_type": "markdown",
      "source": [
        "## Graph"
      ],
      "metadata": {
        "id": "nUTI2zLqMfX1"
      }
    },
    {
      "cell_type": "code",
      "source": [
        "import random\n",
        "class CoreGraph:\n",
        "    def __init__(self, cores, edges):\n",
        "        self.cores = cores\n",
        "        self.edges = edges\n",
        "        self.weights = {edge: random.randint(1, 10) for edge in edges}"
      ],
      "metadata": {
        "id": "iPbE-VeVMfX4"
      },
      "execution_count": null,
      "outputs": []
    },
    {
      "cell_type": "markdown",
      "source": [
        "## Calculate Cost"
      ],
      "metadata": {
        "id": "-qE0Z_zYMfX4"
      }
    },
    {
      "cell_type": "code",
      "source": [
        "def calculate_cost(graph, partition1, partition2):\n",
        "    external_cost = 0\n",
        "    internal_cost = 0\n",
        "\n",
        "    for edge, weight in graph.weights.items():\n",
        "        if (edge[0] in partition1 and edge[1] in partition2) or (edge[0] in partition2 and edge[1] in partition1):\n",
        "            external_cost += weight\n",
        "        elif (edge[0] in partition1 and edge[1] in partition1) or (edge[0] in partition2 and edge[1] in partition2):\n",
        "            internal_cost += weight\n",
        "\n",
        "    return external_cost - internal_cost"
      ],
      "metadata": {
        "id": "m5GcuHlaMfX5"
      },
      "execution_count": null,
      "outputs": []
    },
    {
      "cell_type": "markdown",
      "source": [
        "## Swap Core"
      ],
      "metadata": {
        "id": "hfVyohrJMfX5"
      }
    },
    {
      "cell_type": "code",
      "source": [
        "def get_next_move(graph, partition1, partition2, locked_vertices):\n",
        "  best_cost = calculate_cost( graph, partition1, partition2 )\n",
        "  best_move = None\n",
        "  for ci in partition1:\n",
        "    if ci in locked_vertices:\n",
        "      continue\n",
        "    for cj in partition2:\n",
        "      if cj in locked_vertices:\n",
        "        continue\n",
        "      current_cost = calculate_cost(graph, partition1 - {ci} | {cj}, partition2 - {cj} | {ci})\n",
        "      if current_cost < best_cost:\n",
        "        best_cost = current_cost\n",
        "        best_move = (ci, cj)\n",
        "  return best_move"
      ],
      "metadata": {
        "id": "rsv4bjU5MfX6"
      },
      "execution_count": null,
      "outputs": []
    },
    {
      "cell_type": "markdown",
      "source": [
        "## Kernighan_Lin Partition"
      ],
      "metadata": {
        "id": "WyWIvJfyMfX6"
      }
    },
    {
      "cell_type": "code",
      "source": [
        "def kernighan_lin(graph, partition1, partition2, level=0):\n",
        "    best_partition1, best_partition2 = partition1.copy(), partition2.copy()\n",
        "    current_partition1, current_partition2 = partition1.copy(), partition2.copy()\n",
        "\n",
        "    max_iterations = 5\n",
        "\n",
        "    for iteration in range(max_iterations):\n",
        "      locked_vertices = set()\n",
        "      print( iteration )\n",
        "      while( len(current_partition1) > 1 ):\n",
        "        next_move = get_next_move(graph, current_partition1, current_partition2, locked_vertices)\n",
        "        print( next_move )\n",
        "        if next_move is None:\n",
        "            break  # Salimos del ciclo si no encontramos una mejor jugada\n",
        "        ci, cj = next_move\n",
        "        current_partition1.remove(ci)\n",
        "        current_partition2.remove(cj)\n",
        "        current_partition1.add(cj)\n",
        "        current_partition2.add(ci)\n",
        "        locked_vertices.add(ci)\n",
        "        locked_vertices.add(cj)\n",
        "\n",
        "        if calculate_cost(graph, current_partition1, current_partition2) < calculate_cost(graph, best_partition1, best_partition2):\n",
        "            best_partition1, best_partition2 = current_partition1.copy(), current_partition2.copy()\n",
        "\n",
        "    if len(best_partition1) == len(partition1) and len(best_partition2) == len(partition2):\n",
        "      return best_partition1, best_partition2\n",
        "\n",
        "    p1, p2 = best_partition1, best_partition2\n",
        "    return p1, p2"
      ],
      "metadata": {
        "id": "MYNPOHW6MfX7"
      },
      "execution_count": null,
      "outputs": []
    },
    {
      "cell_type": "markdown",
      "source": [
        "## Extend Kernighan-Lin Partition"
      ],
      "metadata": {
        "id": "L3s4ASs7MfX8"
      }
    },
    {
      "cell_type": "code",
      "execution_count": null,
      "metadata": {
        "id": "n3iq-fETMfX8"
      },
      "outputs": [],
      "source": [
        "def kl_partitioning(graph, level, cores_to_be_partitioned):\n",
        "  cores_to_be_partitioned = set(cores_to_be_partitioned)  # Convert to set to allow set operations\n",
        "\n",
        "  if len(cores_to_be_partitioned) < 4:\n",
        "    return cores_to_be_partitioned\n",
        "\n",
        "  cores_list = list(cores_to_be_partitioned)\n",
        "\n",
        "  partition1 = set(random.sample(cores_list, len(cores_list) // 2))\n",
        "  partition2 = cores_to_be_partitioned - partition1\n",
        "\n",
        "  indent = \" \" * (level * 4)\n",
        "  print(indent + f\"Level {level}:\")\n",
        "  print(indent + f\"Complete Set: {cores_to_be_partitioned}\")\n",
        "  print(indent + f\"Start Partitions\" + f\" Cost: {calculate_cost(graph, partition1, partition2)}\")\n",
        "  print(indent + f\" Partition 1: {set(partition1)}\")\n",
        "  print(indent + f\" Partition 2: {set(partition2)}\")\n",
        "\n",
        "  partition1, partition2 = kernighan_lin(graph, partition1, partition2)\n",
        "\n",
        "  indent = \" \" * (level * 4)\n",
        "  print(indent + f\"Final Partitions\" + f\" Cost: {calculate_cost(graph, partition1, partition2)}\")\n",
        "  print(indent + f\" Partition 1: {set(partition1)}\")\n",
        "  print(indent + f\" Partition 2: {set(partition2)}\")\n",
        "\n",
        "  partition1_1, partition1_2 = kl_partitioning(graph, level + 1, partition1)\n",
        "  partition2_1, partition2_2 = kl_partitioning(graph, level + 1, partition2)\n",
        "\n",
        "  partition1 = (partition1_1, partition1_2)\n",
        "  partition2 = (partition2_1, partition2_2)\n",
        "\n",
        "  return partition1, partition2\n"
      ]
    },
    {
      "cell_type": "markdown",
      "source": [
        "## Test"
      ],
      "metadata": {
        "id": "2vls-UmZMfX8"
      }
    },
    {
      "cell_type": "code",
      "source": [
        "# Ejemplo de uso\n",
        "cores = {'C1', 'C2', 'C3', 'C4', 'C5', 'C6', 'C7', 'C8', 'C9', 'C10', 'C11', 'C12', 'C13', 'C14', 'C15', 'C16'}\n",
        "edges = {('C1', 'C2'), ('C1', 'C3'), ('C2', 'C4'), ('C3', 'C4'), ('C3', 'C5'), ('C4', 'C6'), ('C5', 'C6'),\n",
        "         ('C7', 'C8'), ('C7', 'C9'), ('C8', 'C10'), ('C9', 'C10'), ('C9', 'C11'), ('C10', 'C12'), ('C11', 'C12'),\n",
        "         ('C13', 'C14'), ('C13', 'C15'), ('C14', 'C16'), ('C15', 'C16')}\n",
        "graph = CoreGraph(cores, edges)\n",
        "\n",
        "partition1, partition2 = kl_partitioning(graph, 0, cores)\n",
        "\n",
        "print( \"Cost:\" f\"{calculate_cost( graph, partition1, partition2 )}\" )\n",
        "print(\"Final Partition 1:\", partition1)\n",
        "print(\"Final Partition 2:\", partition2)"
      ],
      "metadata": {
        "colab": {
          "base_uri": "https://localhost:8080/"
        },
        "outputId": "d1be6a8e-9cf7-4de7-80d7-7530e432f1a2",
        "id": "6XKz6BB6MfX9"
      },
      "execution_count": null,
      "outputs": [
        {
          "output_type": "stream",
          "name": "stdout",
          "text": [
            "Level 0:\n",
            "Complete Set: {'C5', 'C7', 'C2', 'C14', 'C6', 'C4', 'C1', 'C3', 'C9', 'C10', 'C12', 'C11', 'C15', 'C13', 'C16', 'C8'}\n",
            "Start Partitions Cost: 49\n",
            " Partition 1: {'C5', 'C7', 'C12', 'C11', 'C15', 'C2', 'C14', 'C6'}\n",
            " Partition 2: {'C4', 'C1', 'C3', 'C9', 'C10', 'C13', 'C16', 'C8'}\n",
            "0\n",
            "('C2', 'C13')\n",
            "('C7', 'C16')\n",
            "('C5', 'C9')\n",
            "('C6', 'C10')\n",
            "None\n",
            "1\n",
            "None\n",
            "2\n",
            "None\n",
            "3\n",
            "None\n",
            "4\n",
            "None\n",
            "Final Partitions Cost: -95\n",
            " Partition 1: {'C9', 'C10', 'C12', 'C11', 'C15', 'C13', 'C14', 'C16'}\n",
            " Partition 2: {'C4', 'C1', 'C3', 'C5', 'C7', 'C2', 'C6', 'C8'}\n",
            "    Level 1:\n",
            "    Complete Set: {'C9', 'C10', 'C12', 'C11', 'C15', 'C13', 'C14', 'C16'}\n",
            "    Start Partitions Cost: -7\n",
            "     Partition 1: {'C9', 'C12', 'C15', 'C11'}\n",
            "     Partition 2: {'C16', 'C14', 'C10', 'C13'}\n",
            "0\n",
            "('C15', 'C10')\n",
            "None\n",
            "1\n",
            "None\n",
            "2\n",
            "None\n",
            "3\n",
            "None\n",
            "4\n",
            "None\n",
            "    Final Partitions Cost: -55\n",
            "     Partition 1: {'C9', 'C12', 'C11', 'C10'}\n",
            "     Partition 2: {'C14', 'C15', 'C16', 'C13'}\n",
            "        Level 2:\n",
            "        Complete Set: {'C9', 'C12', 'C11', 'C10'}\n",
            "        Start Partitions Cost: 9\n",
            "         Partition 1: {'C12', 'C11'}\n",
            "         Partition 2: {'C9', 'C10'}\n",
            "0\n",
            "('C12', 'C9')\n",
            "None\n",
            "1\n",
            "None\n",
            "2\n",
            "None\n",
            "3\n",
            "None\n",
            "4\n",
            "None\n",
            "        Final Partitions Cost: -9\n",
            "         Partition 1: {'C9', 'C11'}\n",
            "         Partition 2: {'C12', 'C10'}\n",
            "        Level 2:\n",
            "        Complete Set: {'C14', 'C15', 'C16', 'C13'}\n",
            "        Start Partitions Cost: 4\n",
            "         Partition 1: {'C15', 'C16'}\n",
            "         Partition 2: {'C14', 'C13'}\n",
            "0\n",
            "('C15', 'C14')\n",
            "None\n",
            "1\n",
            "None\n",
            "2\n",
            "None\n",
            "3\n",
            "None\n",
            "4\n",
            "None\n",
            "        Final Partitions Cost: -4\n",
            "         Partition 1: {'C14', 'C16'}\n",
            "         Partition 2: {'C15', 'C13'}\n",
            "    Level 1:\n",
            "    Complete Set: {'C4', 'C1', 'C3', 'C5', 'C7', 'C2', 'C6', 'C8'}\n",
            "    Start Partitions Cost: 17\n",
            "     Partition 1: {'C4', 'C3', 'C2', 'C7'}\n",
            "     Partition 2: {'C6', 'C1', 'C8', 'C5'}\n",
            "0\n",
            "('C3', 'C8')\n",
            "None\n",
            "1\n",
            "None\n",
            "2\n",
            "None\n",
            "3\n",
            "None\n",
            "4\n",
            "None\n",
            "    Final Partitions Cost: -21\n",
            "     Partition 1: {'C4', 'C2', 'C7', 'C8'}\n",
            "     Partition 2: {'C3', 'C1', 'C6', 'C5'}\n",
            "        Level 2:\n",
            "        Complete Set: {'C4', 'C2', 'C7', 'C8'}\n",
            "        Start Partitions Cost: 11\n",
            "         Partition 1: {'C2', 'C7'}\n",
            "         Partition 2: {'C4', 'C8'}\n",
            "0\n",
            "('C2', 'C8')\n",
            "None\n",
            "1\n",
            "None\n",
            "2\n",
            "None\n",
            "3\n",
            "None\n",
            "4\n",
            "None\n",
            "        Final Partitions Cost: -11\n",
            "         Partition 1: {'C7', 'C8'}\n",
            "         Partition 2: {'C4', 'C2'}\n",
            "        Level 2:\n",
            "        Complete Set: {'C3', 'C1', 'C6', 'C5'}\n",
            "        Start Partitions Cost: 3\n",
            "         Partition 1: {'C3', 'C5'}\n",
            "         Partition 2: {'C6', 'C1'}\n",
            "0\n",
            "('C3', 'C6')\n",
            "None\n",
            "1\n",
            "None\n",
            "2\n",
            "None\n",
            "3\n",
            "None\n",
            "4\n",
            "None\n",
            "        Final Partitions Cost: -3\n",
            "         Partition 1: {'C6', 'C5'}\n",
            "         Partition 2: {'C3', 'C1'}\n",
            "Cost:0\n",
            "Final Partition 1: ((('C9', 'C11'), ('C12', 'C10')), (('C14', 'C16'), ('C15', 'C13')))\n",
            "Final Partition 2: ((('C7', 'C8'), ('C4', 'C2')), (('C6', 'C5'), ('C3', 'C1')))\n"
          ]
        }
      ]
    },
    {
      "cell_type": "markdown",
      "source": [
        "# Weighted Example - Algorithm Kernighan-Lin"
      ],
      "metadata": {
        "id": "L_gGWEVlKFel"
      }
    },
    {
      "cell_type": "markdown",
      "source": [
        "## Funciones"
      ],
      "metadata": {
        "id": "XdThA4EVKQ_U"
      }
    },
    {
      "cell_type": "code",
      "source": [
        "import numpy as np\n",
        "\n",
        "def create_external_adj_matrix(partition1, partition2, num_nodes):\n",
        "  external_adj_matrix = np.zeros((num_nodes,num_nodes))\n",
        "\n",
        "  for node1 in partition1:\n",
        "    for node2 in partition2:\n",
        "      external_adj_matrix[node1][node2] = 1\n",
        "      external_adj_matrix[node2][node1] = 1\n",
        "\n",
        "  return external_adj_matrix\n",
        "\n",
        "\n",
        "def create_internal_adj_matrix( partition1, partition2, num_nodes ):\n",
        "\n",
        "  internal_adj_matrix = np.ones((num_nodes,num_nodes))\n",
        "\n",
        "  for node1 in partition1:\n",
        "    for node2 in partition2:\n",
        "      internal_adj_matrix[node1][node2] = 0\n",
        "      internal_adj_matrix[node2][node1] = 0\n",
        "\n",
        "  return internal_adj_matrix\n",
        "\n",
        "def create_external_cost_matrix( cost_matrix, num_nodes ):\n",
        "\n",
        "  external_adj_matrix = create_external_adj_matrix(partition1, partition2, num_nodes)\n",
        "  external_cost_matrix = np.zeros((num_nodes,num_nodes))\n",
        "  for i in range(num_nodes):\n",
        "    for j in range(num_nodes):\n",
        "      external_cost_matrix[i][j] = cost_matrix[i][j] * external_adj_matrix[i][j]\n",
        "\n",
        "  return external_cost_matrix\n",
        "\n",
        "\n",
        "def create_internal_cost_matrix( cost_matrix, num_nodes ):\n",
        "\n",
        "  internal_adj_matrix = create_internal_adj_matrix(partition1, partition2, num_nodes)\n",
        "  internal_cost_matrix = np.zeros((num_nodes,num_nodes))\n",
        "  for i in range(num_nodes):\n",
        "    for j in range(num_nodes):\n",
        "      if i != j:\n",
        "        internal_cost_matrix[i][j] = cost_matrix[i][j] * internal_adj_matrix[i][j]\n",
        "\n",
        "  return internal_cost_matrix\n",
        "\n",
        "\n",
        "def calculate_difference_cost_vector(  partition1, partition2, num_nodes ):\n",
        "\n",
        "  external_cost_matrix = create_external_cost_matrix( cost_matrix, num_nodes )\n",
        "  internal_cost_matrix = create_internal_cost_matrix( cost_matrix, num_nodes )\n",
        "  difference_cost_matrix = np.zeros((num_nodes, num_nodes))\n",
        "  for i in range(num_nodes):\n",
        "    for j in range(num_nodes):\n",
        "     difference_cost_matrix[i][j] += external_cost_matrix[i][j] - internal_cost_matrix[i][j]\n",
        "\n",
        "\n",
        "  print(\"*-\"*20)\n",
        "  print( \"External Cost Matrix\" )\n",
        "  print( external_cost_matrix )\n",
        "\n",
        "\n",
        "  print(\"-\"*40)\n",
        "  print( \"Internal Cost Matrix\" )\n",
        "  print( internal_cost_matrix )\n",
        "\n",
        "  print(\"*-\"*20)\n",
        "  print( \"\\n\" )\n",
        "\n",
        "  return np.dot([1,1,1,1,1,1],difference_cost_matrix)\n",
        "\n",
        "def update_difference_cost_vector(  difference_cost_vector, partition1, partition2, available_nodes, swap_nodes  ):\n",
        "\n",
        "    internal_adj_matrix = create_internal_adj_matrix( partition1, partition2, num_nodes)\n",
        "    difference_cost_internal_matrix = np.zeros( (num_nodes, num_nodes)  )\n",
        "    for i in range(num_nodes):\n",
        "      for j in range(num_nodes):\n",
        "        difference_cost_internal_matrix[i][j] = cost_matrix[i][j] * internal_adj_matrix[i][j]\n",
        "\n",
        "    external_adj_matrix = create_external_adj_matrix( partition1, partition2, num_nodes)\n",
        "    difference_cost_external_matrix = np.zeros( (num_nodes, num_nodes)  )\n",
        "    for i in range(num_nodes):\n",
        "      for j in range(num_nodes):\n",
        "          difference_cost_external_matrix[i][j] = cost_matrix[i][j] * external_adj_matrix[i][j]\n",
        "\n",
        "    difference_cost_prime_matrix = np.zeros((num_nodes,num_nodes))\n",
        "    for i in range(num_nodes):\n",
        "      for j in range(num_nodes):\n",
        "        difference_cost_prime_matrix[i][j] = difference_cost_internal_matrix[i][j] - difference_cost_external_matrix[i][j]\n",
        "\n",
        "    difference_cost_vector          = np.multiply(available_nodes, difference_cost_vector)\n",
        "    difference_cost_internal_vector = np.dot(swap_nodes, difference_cost_internal_matrix)\n",
        "    difference_cost_external_vector = np.dot(swap_nodes, difference_cost_external_matrix)\n",
        "    difference_cost_prime_vector    = difference_cost_vector + 2 * difference_cost_internal_vector - 2 * difference_cost_external_vector\n",
        "\n",
        "    print(internal_adj_matrix)\n",
        "    print(\"*-\"*20)\n",
        "    print( \"Difference Cost Internal Matrix\")\n",
        "    for row in difference_cost_internal_matrix:\n",
        "      print(row, np.sum(row))\n",
        "\n",
        "    print(\"-\"*40)\n",
        "\n",
        "    print( \"Difference Cost Internal Vector\")\n",
        "    print( difference_cost_internal_vector )\n",
        "    print(\"*-\"*20)\n",
        "\n",
        "    print(\"\\n\")\n",
        "\n",
        "    print(\"*-\"*20)\n",
        "    print( \"Difference Cost External Matrix\")\n",
        "    for row in difference_cost_external_matrix:\n",
        "      print(row, np.sum(row))\n",
        "\n",
        "    print(\"-\"*40)\n",
        "\n",
        "    print( \"Difference Cost External Vector\")\n",
        "    print( difference_cost_external_vector )\n",
        "    print(\"*-\"*20)\n",
        "\n",
        "    print(\"\\n\")\n",
        "\n",
        "    print(\"*-\"*20)\n",
        "    print( \"Difference Cost Vector\")\n",
        "    print( difference_cost_vector)\n",
        "\n",
        "    print(\"-\"*40)\n",
        "\n",
        "    print( \"Difference Cost Updated Vector\")\n",
        "    print( difference_cost_prime_vector )\n",
        "\n",
        "    print(\"*-\"*20)\n",
        "    print(\"\\n\")\n",
        "\n",
        "    return difference_cost_prime_vector\n",
        "\n",
        "def calculate_gain_cost_matrix( difference_cost_vector, external_adj_matrix, cost_matrix ):\n",
        "  gain_cost_matrix = np.full((num_nodes,num_nodes), 0)\n",
        "\n",
        "  for i in range(num_nodes):\n",
        "    for j in range(num_nodes):\n",
        "      if external_adj_matrix[i][j] == 1:\n",
        "        gain_cost_matrix[i][j] = difference_cost_vector[i] + difference_cost_vector[j] - 2 * cost_matrix[i][j]\n",
        "\n",
        "  return gain_cost_matrix\n",
        "\n",
        "\n",
        "def swap_cores_partition( partition1, partition2, gain_cost_matrix, available_nodes ):\n",
        "  partition1_copy = partition1.copy()\n",
        "  partition2_copy = partition2.copy()\n",
        "  max_gain = -float('inf')\n",
        "  max_i, max_j = None, None\n",
        "\n",
        "  for i in range( num_nodes ):\n",
        "    for j in range( num_nodes ):\n",
        "      if max_gain < gain_cost_matrix[i][j] and gain_cost_matrix[i][j] != 0 and available_nodes[i] == 1 and available_nodes[j] == 1:\n",
        "        max_gain = gain_cost_matrix[i][j]\n",
        "        max_i = i\n",
        "        max_j = j\n",
        "\n",
        "  print( max_i, max_j, max_gain )\n",
        "  next_move = [max_gain, max_i, max_j]\n",
        "  for ci in partition1:\n",
        "    for cj in partition2:\n",
        "      if ci == max_i and cj == max_j:\n",
        "        partition1_copy.remove(ci)\n",
        "        partition2_copy.remove(cj)\n",
        "        partition1_copy.add(cj)\n",
        "        partition2_copy.add(ci)\n",
        "\n",
        "  return partition1_copy, partition2_copy, next_move\n",
        "\n",
        "def max_subarray_sum(next_moves):\n",
        "    select_next_moves = []\n",
        "\n",
        "    current_sum = 0\n",
        "    max_sum = 0\n",
        "\n",
        "    for next_move in next_moves:\n",
        "        current_sum += int(next_move[0])\n",
        "        if current_sum > max_sum:\n",
        "          max_sum = current_sum\n",
        "          select_next_moves.append( next_move )\n",
        "\n",
        "    return max_sum, select_next_moves\n",
        "\n",
        "def swap_cores(  partial_next_moves, partition1, partition2  ):\n",
        "  for next_move in partial_next_moves:\n",
        "    for ci in partition1:\n",
        "     for cj in partition2:\n",
        "        if ci == next_move[1] and cj == next_move[2]:\n",
        "          partition1.remove(ci)\n",
        "          partition2.remove(cj)\n",
        "          partition1.add(cj)\n",
        "          partition2.add(ci)\n",
        "  return partition1, partition2\n"
      ],
      "metadata": {
        "id": "ltPaiVF8g6CF"
      },
      "execution_count": null,
      "outputs": []
    },
    {
      "cell_type": "markdown",
      "source": [
        "## Ejemplo"
      ],
      "metadata": {
        "id": "r3nOmlIVKVPU"
      }
    },
    {
      "cell_type": "code",
      "source": [
        "# Ejemplo de uso\n",
        "if __name__ == \"__main__\":\n",
        "  partition1 = {0, 1, 2}\n",
        "  partition2 = {3, 4, 5}\n",
        "  num_nodes = 6\n",
        "  next_moves = []\n",
        "\n",
        "  cost_matrix = [ [0,1,2,3,2,4],\n",
        "                  [1,0,1,4,2,1],\n",
        "                  [2,1,0,3,2,1],\n",
        "                  [3,4,3,0,4,3],\n",
        "                  [2,2,2,4,0,2],\n",
        "                  [4,1,1,3,2,0] ]\n",
        "\n",
        "\n"
      ],
      "metadata": {
        "id": "gR3V62E4llNj"
      },
      "execution_count": null,
      "outputs": []
    },
    {
      "cell_type": "code",
      "source": [
        "  external_adj_matrix = create_external_adj_matrix(partition1, partition2, num_nodes)\n",
        "  internal_adj_matrix = create_internal_adj_matrix(partition1, partition2, num_nodes)\n",
        "  #external_cost_matrix = create_external_cost_matrix( cost_matrix, external_adj_matrix, num_nodes )\n",
        "  #internal_cost_matrix = create_internal_cost_matrix( cost_matrix, internal_adj_matrix, num_nodes )\n",
        "\n",
        "  external_cost_matrix = create_external_cost_matrix( cost_matrix, num_nodes )\n",
        "  internal_cost_matrix = create_internal_cost_matrix( cost_matrix, num_nodes )"
      ],
      "metadata": {
        "id": "LKAMfP6vKaPV"
      },
      "execution_count": null,
      "outputs": []
    },
    {
      "cell_type": "markdown",
      "source": [
        "### Iteracion #1"
      ],
      "metadata": {
        "id": "br-_3UmZKchd"
      }
    },
    {
      "cell_type": "markdown",
      "source": [
        "#### Intercambio #1"
      ],
      "metadata": {
        "id": "JffhzHRDLwRI"
      }
    },
    {
      "cell_type": "code",
      "source": [
        "  difference_cost_vector =  calculate_difference_cost_vector( partition1, partition2, num_nodes  )\n",
        "  gain_cost_matrix       =  calculate_gain_cost_matrix( difference_cost_vector, external_adj_matrix, cost_matrix )\n",
        "\n",
        "  available_nodes = [1,1,1,1,1,1]\n",
        "  partition1_swapped, partition2_swapped, next_move = swap_cores_partition( partition1, partition2, gain_cost_matrix, available_nodes )\n",
        "\n",
        "  next_moves.append( next_move )\n",
        "\n",
        "  print(\"-\"*40)\n",
        "  print(\"Difference cost Vector\")\n",
        "  print( difference_cost_vector )\n",
        "  print(\"-\"*40)\n",
        "\n",
        "  print(\"\\n\")\n",
        "\n",
        "  print(\"-\"*40)\n",
        "  print(\"Gain Cost Matrix\")\n",
        "  print( gain_cost_matrix )\n",
        "  print(\"-\"*40)\n",
        "\n",
        "  print(\"\\n\")\n",
        "\n",
        "  print(\"-\"*40)\n",
        "  print(\"Particiones\")\n",
        "  print( \"Partition1:\", partition1_swapped )\n",
        "  print( \"Partition2:\", partition2_swapped )"
      ],
      "metadata": {
        "id": "bzs1CVqyFtzq",
        "colab": {
          "base_uri": "https://localhost:8080/"
        },
        "outputId": "ca275e07-4a71-400b-dda7-6146b7f6273b"
      },
      "execution_count": null,
      "outputs": [
        {
          "output_type": "stream",
          "name": "stdout",
          "text": [
            "*-*-*-*-*-*-*-*-*-*-*-*-*-*-*-*-*-*-*-*-\n",
            "External Cost Matrix\n",
            "[[0. 0. 0. 3. 2. 4.]\n",
            " [0. 0. 0. 4. 2. 1.]\n",
            " [0. 0. 0. 3. 2. 1.]\n",
            " [3. 4. 3. 0. 0. 0.]\n",
            " [2. 2. 2. 0. 0. 0.]\n",
            " [4. 1. 1. 0. 0. 0.]]\n",
            "----------------------------------------\n",
            "Internal Cost Matrix\n",
            "[[0. 1. 2. 0. 0. 0.]\n",
            " [1. 0. 1. 0. 0. 0.]\n",
            " [2. 1. 0. 0. 0. 0.]\n",
            " [0. 0. 0. 0. 4. 3.]\n",
            " [0. 0. 0. 4. 0. 2.]\n",
            " [0. 0. 0. 3. 2. 0.]]\n",
            "*-*-*-*-*-*-*-*-*-*-*-*-*-*-*-*-*-*-*-*-\n",
            "\n",
            "\n",
            "1 5 4\n",
            "----------------------------------------\n",
            "Difference cost Vector\n",
            "[6. 5. 3. 3. 0. 1.]\n",
            "----------------------------------------\n",
            "\n",
            "\n",
            "----------------------------------------\n",
            "Gain Cost Matrix\n",
            "[[ 0  0  0  3  2 -1]\n",
            " [ 0  0  0  0  1  4]\n",
            " [ 0  0  0  0 -1  2]\n",
            " [ 3  0  0  0  0  0]\n",
            " [ 2  1 -1  0  0  0]\n",
            " [-1  4  2  0  0  0]]\n",
            "----------------------------------------\n",
            "\n",
            "\n",
            "----------------------------------------\n",
            "Particiones\n",
            "Partition1: {0, 2, 5}\n",
            "Partition2: {1, 3, 4}\n"
          ]
        }
      ]
    },
    {
      "cell_type": "markdown",
      "source": [
        "#### Intercambio #2"
      ],
      "metadata": {
        "id": "l1C7cTHDL0gj"
      }
    },
    {
      "cell_type": "code",
      "source": [
        "  available_nodes = [1,0,1,1,1,0]\n",
        "  swap_nodes      = [0,1,0,0,0,1]\n",
        "\n",
        "  difference_cost_prime_vector =  update_difference_cost_vector( difference_cost_vector, partition1, partition2, available_nodes, swap_nodes )\n",
        "  gain_cost_matrix = calculate_gain_cost_matrix( difference_cost_prime_vector,  create_external_adj_matrix( partition1_swapped, partition2_swapped, num_nodes ), cost_matrix  )\n",
        "\n",
        "  print(  gain_cost_matrix  )\n",
        "\n",
        "  partition1_swapped, partition2_swapped, next_move =  swap_cores_partition( partition1_swapped, partition2_swapped, gain_cost_matrix, available_nodes )\n",
        "  next_moves.append( next_move )\n",
        "\n",
        "  print( \"Partition1:\", partition1_swapped )\n",
        "  print( \"Partition2:\", partition2_swapped )"
      ],
      "metadata": {
        "id": "piOEMZ6WTE9e",
        "colab": {
          "base_uri": "https://localhost:8080/"
        },
        "outputId": "7f761f79-d684-410f-e74f-80f699a14b4c"
      },
      "execution_count": null,
      "outputs": [
        {
          "output_type": "stream",
          "name": "stdout",
          "text": [
            "[[1. 1. 1. 0. 0. 0.]\n",
            " [1. 1. 1. 0. 0. 0.]\n",
            " [1. 1. 1. 0. 0. 0.]\n",
            " [0. 0. 0. 1. 1. 1.]\n",
            " [0. 0. 0. 1. 1. 1.]\n",
            " [0. 0. 0. 1. 1. 1.]]\n",
            "*-*-*-*-*-*-*-*-*-*-*-*-*-*-*-*-*-*-*-*-\n",
            "Difference Cost Internal Matrix\n",
            "[0. 1. 2. 0. 0. 0.] 3.0\n",
            "[1. 0. 1. 0. 0. 0.] 2.0\n",
            "[2. 1. 0. 0. 0. 0.] 3.0\n",
            "[0. 0. 0. 0. 4. 3.] 7.0\n",
            "[0. 0. 0. 4. 0. 2.] 6.0\n",
            "[0. 0. 0. 3. 2. 0.] 5.0\n",
            "----------------------------------------\n",
            "Difference Cost Internal Vector\n",
            "[1. 0. 1. 3. 2. 0.]\n",
            "*-*-*-*-*-*-*-*-*-*-*-*-*-*-*-*-*-*-*-*-\n",
            "\n",
            "\n",
            "*-*-*-*-*-*-*-*-*-*-*-*-*-*-*-*-*-*-*-*-\n",
            "Difference Cost External Matrix\n",
            "[0. 0. 0. 3. 2. 4.] 9.0\n",
            "[0. 0. 0. 4. 2. 1.] 7.0\n",
            "[0. 0. 0. 3. 2. 1.] 6.0\n",
            "[3. 4. 3. 0. 0. 0.] 10.0\n",
            "[2. 2. 2. 0. 0. 0.] 6.0\n",
            "[4. 1. 1. 0. 0. 0.] 6.0\n",
            "----------------------------------------\n",
            "Difference Cost External Vector\n",
            "[4. 1. 1. 4. 2. 1.]\n",
            "*-*-*-*-*-*-*-*-*-*-*-*-*-*-*-*-*-*-*-*-\n",
            "\n",
            "\n",
            "*-*-*-*-*-*-*-*-*-*-*-*-*-*-*-*-*-*-*-*-\n",
            "Difference Cost Vector\n",
            "[6. 0. 3. 3. 0. 0.]\n",
            "----------------------------------------\n",
            "Difference Cost Updated Vector\n",
            "[ 0. -2.  3.  1.  0. -2.]\n",
            "*-*-*-*-*-*-*-*-*-*-*-*-*-*-*-*-*-*-*-*-\n",
            "\n",
            "\n",
            "[[ 0 -4  0 -5 -4  0]\n",
            " [-4  0 -1  0  0 -6]\n",
            " [ 0 -1  0 -2 -1  0]\n",
            " [-5  0 -2  0  0 -7]\n",
            " [-4  0 -1  0  0 -6]\n",
            " [ 0 -6  0 -7 -6  0]]\n",
            "2 4 -1\n",
            "Partition1: {0, 4, 5}\n",
            "Partition2: {1, 2, 3}\n"
          ]
        }
      ]
    },
    {
      "cell_type": "markdown",
      "source": [
        "#### Intercambio #3"
      ],
      "metadata": {
        "id": "S2OJZwhZL37T"
      }
    },
    {
      "cell_type": "code",
      "source": [
        "  available_nodes = [1,0,0,1,0,0]\n",
        "  swap_nodes = [0,0,1,0,1,0]\n",
        "\n",
        "  difference_cost_prime_vector =  update_difference_cost_vector( difference_cost_prime_vector, partition1, partition2, available_nodes, swap_nodes )\n",
        "  gain_cost_matrix = calculate_gain_cost_matrix( difference_cost_prime_vector,  create_external_adj_matrix( partition1, partition2, num_nodes ), cost_matrix  )\n",
        "  print( gain_cost_matrix  )\n",
        "  available_nodes = [1,0,0,1,0,0]\n",
        "  partition1_swapped, partition2_swapped, next_move =  swap_cores_partition( partition1_swapped, partition2_swapped, gain_cost_matrix, available_nodes )\n",
        "  next_moves.append( next_move )"
      ],
      "metadata": {
        "id": "urE7EzzEoG6g",
        "colab": {
          "base_uri": "https://localhost:8080/"
        },
        "outputId": "6c8de890-b2b0-4ad3-873e-f0f4c7c8881f"
      },
      "execution_count": null,
      "outputs": [
        {
          "output_type": "stream",
          "name": "stdout",
          "text": [
            "[[1. 1. 1. 0. 0. 0.]\n",
            " [1. 1. 1. 0. 0. 0.]\n",
            " [1. 1. 1. 0. 0. 0.]\n",
            " [0. 0. 0. 1. 1. 1.]\n",
            " [0. 0. 0. 1. 1. 1.]\n",
            " [0. 0. 0. 1. 1. 1.]]\n",
            "*-*-*-*-*-*-*-*-*-*-*-*-*-*-*-*-*-*-*-*-\n",
            "Difference Cost Internal Matrix\n",
            "[0. 1. 2. 0. 0. 0.] 3.0\n",
            "[1. 0. 1. 0. 0. 0.] 2.0\n",
            "[2. 1. 0. 0. 0. 0.] 3.0\n",
            "[0. 0. 0. 0. 4. 3.] 7.0\n",
            "[0. 0. 0. 4. 0. 2.] 6.0\n",
            "[0. 0. 0. 3. 2. 0.] 5.0\n",
            "----------------------------------------\n",
            "Difference Cost Internal Vector\n",
            "[2. 1. 0. 4. 0. 2.]\n",
            "*-*-*-*-*-*-*-*-*-*-*-*-*-*-*-*-*-*-*-*-\n",
            "\n",
            "\n",
            "*-*-*-*-*-*-*-*-*-*-*-*-*-*-*-*-*-*-*-*-\n",
            "Difference Cost External Matrix\n",
            "[0. 0. 0. 3. 2. 4.] 9.0\n",
            "[0. 0. 0. 4. 2. 1.] 7.0\n",
            "[0. 0. 0. 3. 2. 1.] 6.0\n",
            "[3. 4. 3. 0. 0. 0.] 10.0\n",
            "[2. 2. 2. 0. 0. 0.] 6.0\n",
            "[4. 1. 1. 0. 0. 0.] 6.0\n",
            "----------------------------------------\n",
            "Difference Cost External Vector\n",
            "[2. 2. 2. 3. 2. 1.]\n",
            "*-*-*-*-*-*-*-*-*-*-*-*-*-*-*-*-*-*-*-*-\n",
            "\n",
            "\n",
            "*-*-*-*-*-*-*-*-*-*-*-*-*-*-*-*-*-*-*-*-\n",
            "Difference Cost Vector\n",
            "[ 0. -0.  0.  1.  0. -0.]\n",
            "----------------------------------------\n",
            "Difference Cost Updated Vector\n",
            "[ 0. -2. -4.  3. -4.  2.]\n",
            "*-*-*-*-*-*-*-*-*-*-*-*-*-*-*-*-*-*-*-*-\n",
            "\n",
            "\n",
            "[[  0   0   0  -3  -8  -6]\n",
            " [  0   0   0  -7 -10  -2]\n",
            " [  0   0   0  -7 -12  -4]\n",
            " [ -3  -7  -7   0   0   0]\n",
            " [ -8 -10 -12   0   0   0]\n",
            " [ -6  -2  -4   0   0   0]]\n",
            "0 3 -3\n"
          ]
        }
      ]
    },
    {
      "cell_type": "markdown",
      "source": [
        "#### Movimientos Parciales"
      ],
      "metadata": {
        "id": "rOKJ-zuvMSNX"
      }
    },
    {
      "cell_type": "code",
      "source": [
        "  max_partial_sum, partial_next_moves = max_subarray_sum( next_moves )\n",
        "  print(max_partial_sum, partial_next_moves)"
      ],
      "metadata": {
        "colab": {
          "base_uri": "https://localhost:8080/"
        },
        "id": "KFnVFOOxXBzE",
        "outputId": "3d930610-12fb-440a-a5ff-aeeb2ce6fb66"
      },
      "execution_count": null,
      "outputs": [
        {
          "output_type": "stream",
          "name": "stdout",
          "text": [
            "4 [[4, 1, 5]]\n"
          ]
        }
      ]
    },
    {
      "cell_type": "markdown",
      "source": [
        "#### Intercambio"
      ],
      "metadata": {
        "id": "SbjlMEbGPM2M"
      }
    },
    {
      "cell_type": "code",
      "source": [
        "  partition1, partition2 = swap_cores( partial_next_moves, partition1, partition2 )\n",
        "  print( partition1 )\n",
        "  print( partition2 )"
      ],
      "metadata": {
        "colab": {
          "base_uri": "https://localhost:8080/"
        },
        "id": "DNWA98JW8TO-",
        "outputId": "e2cbe2e5-55f7-43c1-c386-2ad07077af74"
      },
      "execution_count": null,
      "outputs": [
        {
          "output_type": "stream",
          "name": "stdout",
          "text": [
            "{0, 2, 5}\n",
            "{1, 3, 4}\n"
          ]
        }
      ]
    },
    {
      "cell_type": "markdown",
      "source": [
        "### Iteracion #2"
      ],
      "metadata": {
        "id": "3keYMT2iPd1K"
      }
    },
    {
      "cell_type": "code",
      "source": [
        "  external_adj_matrix = create_external_adj_matrix(partition1, partition2, num_nodes)\n",
        "  internal_adj_matrix = create_internal_adj_matrix(partition1, partition2, num_nodes)\n",
        "  #external_cost_matrix = create_external_cost_matrix( cost_matrix, external_adj_matrix, num_nodes )\n",
        "  #internal_cost_matrix = create_internal_cost_matrix( cost_matrix, internal_adj_matrix, num_nodes )\n",
        "\n",
        "  external_cost_matrix = create_external_cost_matrix( cost_matrix, num_nodes )\n",
        "  internal_cost_matrix = create_internal_cost_matrix( cost_matrix, num_nodes )\n",
        "  next_moves = []"
      ],
      "metadata": {
        "id": "0PenKpBTQ9wY"
      },
      "execution_count": null,
      "outputs": []
    },
    {
      "cell_type": "markdown",
      "source": [
        "#### Intercambio #1"
      ],
      "metadata": {
        "id": "M35t0uzfPd1M"
      }
    },
    {
      "cell_type": "code",
      "source": [
        "  difference_cost_vector =  calculate_difference_cost_vector( partition1, partition2, num_nodes  )\n",
        "  gain_cost_matrix       =  calculate_gain_cost_matrix( difference_cost_vector, external_adj_matrix, cost_matrix )\n",
        "\n",
        "  available_nodes = [1,1,1,1,1,1]\n",
        "  partition1_swapped, partition2_swapped, next_move = swap_cores_partition( partition1, partition2, gain_cost_matrix, available_nodes )\n",
        "\n",
        "  next_moves.append( next_move )\n",
        "\n",
        "  print(\"-\"*40)\n",
        "  print(\"Difference cost Vector\")\n",
        "  print( difference_cost_vector )\n",
        "  print(\"-\"*40)\n",
        "\n",
        "  print(\"\\n\")\n",
        "\n",
        "  print(\"-\"*40)\n",
        "  print(\"Gain Cost Matrix\")\n",
        "  print( gain_cost_matrix )\n",
        "  print(\"-\"*40)\n",
        "\n",
        "  print(\"\\n\")\n",
        "\n",
        "  print(\"-\"*40)\n",
        "  print(\"Particiones\")\n",
        "  print( \"Partition1:\", partition1_swapped )\n",
        "  print( \"Partition2:\", partition2_swapped )"
      ],
      "metadata": {
        "colab": {
          "base_uri": "https://localhost:8080/"
        },
        "outputId": "c6c2610b-b62f-41d0-8baa-a40fe8d8c17b",
        "id": "qE9iUaqpPd1M"
      },
      "execution_count": null,
      "outputs": [
        {
          "output_type": "stream",
          "name": "stdout",
          "text": [
            "*-*-*-*-*-*-*-*-*-*-*-*-*-*-*-*-*-*-*-*-\n",
            "External Cost Matrix\n",
            "[[0. 1. 0. 3. 2. 0.]\n",
            " [1. 0. 1. 0. 0. 1.]\n",
            " [0. 1. 0. 3. 2. 0.]\n",
            " [3. 0. 3. 0. 0. 3.]\n",
            " [2. 0. 2. 0. 0. 2.]\n",
            " [0. 1. 0. 3. 2. 0.]]\n",
            "----------------------------------------\n",
            "Internal Cost Matrix\n",
            "[[0. 0. 2. 0. 0. 4.]\n",
            " [0. 0. 0. 4. 2. 0.]\n",
            " [2. 0. 0. 0. 0. 1.]\n",
            " [0. 4. 0. 0. 4. 0.]\n",
            " [0. 2. 0. 4. 0. 0.]\n",
            " [4. 0. 1. 0. 0. 0.]]\n",
            "*-*-*-*-*-*-*-*-*-*-*-*-*-*-*-*-*-*-*-*-\n",
            "\n",
            "\n",
            "2 4 -1\n",
            "----------------------------------------\n",
            "Difference cost Vector\n",
            "[ 0. -3.  3.  1.  0.  1.]\n",
            "----------------------------------------\n",
            "\n",
            "\n",
            "----------------------------------------\n",
            "Gain Cost Matrix\n",
            "[[ 0 -5  0 -5 -4  0]\n",
            " [-5  0 -2  0  0 -4]\n",
            " [ 0 -2  0 -2 -1  0]\n",
            " [-5  0 -2  0  0 -4]\n",
            " [-4  0 -1  0  0 -3]\n",
            " [ 0 -4  0 -4 -3  0]]\n",
            "----------------------------------------\n",
            "\n",
            "\n",
            "----------------------------------------\n",
            "Particiones\n",
            "Partition1: {0, 4, 5}\n",
            "Partition2: {1, 2, 3}\n"
          ]
        }
      ]
    },
    {
      "cell_type": "markdown",
      "source": [
        "#### Intercambio #2"
      ],
      "metadata": {
        "id": "JyQyhBB2Pd1N"
      }
    },
    {
      "cell_type": "code",
      "source": [
        "  available_nodes = [1,1,0,1,0,1]\n",
        "  swap_nodes      = [0,0,1,0,1,0]\n",
        "\n",
        "  difference_cost_prime_vector =  update_difference_cost_vector( difference_cost_vector, partition1, partition2, available_nodes, swap_nodes )\n",
        "  gain_cost_matrix = calculate_gain_cost_matrix( difference_cost_prime_vector,  create_external_adj_matrix( partition1_swapped, partition2_swapped, num_nodes ), cost_matrix  )\n",
        "\n",
        "  print(  gain_cost_matrix  )\n",
        "\n",
        "  partition1_swapped, partition2_swapped, next_move =  swap_cores_partition( partition1_swapped, partition2_swapped, gain_cost_matrix, available_nodes )\n",
        "  next_moves.append( next_move )\n",
        "\n",
        "  print( \"Partition1:\", partition1_swapped )\n",
        "  print( \"Partition2:\", partition2_swapped )"
      ],
      "metadata": {
        "colab": {
          "base_uri": "https://localhost:8080/"
        },
        "outputId": "ad870cb7-48ea-4f0c-ff2a-6156d23b95cb",
        "id": "r5tePhxXPd1N"
      },
      "execution_count": null,
      "outputs": [
        {
          "output_type": "stream",
          "name": "stdout",
          "text": [
            "[[1. 0. 1. 0. 0. 1.]\n",
            " [0. 1. 0. 1. 1. 0.]\n",
            " [1. 0. 1. 0. 0. 1.]\n",
            " [0. 1. 0. 1. 1. 0.]\n",
            " [0. 1. 0. 1. 1. 0.]\n",
            " [1. 0. 1. 0. 0. 1.]]\n",
            "*-*-*-*-*-*-*-*-*-*-*-*-*-*-*-*-*-*-*-*-\n",
            "Difference Cost Internal Matrix\n",
            "[0. 0. 2. 0. 0. 4.] 6.0\n",
            "[0. 0. 0. 4. 2. 0.] 6.0\n",
            "[2. 0. 0. 0. 0. 1.] 3.0\n",
            "[0. 4. 0. 0. 4. 0.] 8.0\n",
            "[0. 2. 0. 4. 0. 0.] 6.0\n",
            "[4. 0. 1. 0. 0. 0.] 5.0\n",
            "----------------------------------------\n",
            "Difference Cost Internal Vector\n",
            "[2. 2. 0. 4. 0. 1.]\n",
            "*-*-*-*-*-*-*-*-*-*-*-*-*-*-*-*-*-*-*-*-\n",
            "\n",
            "\n",
            "*-*-*-*-*-*-*-*-*-*-*-*-*-*-*-*-*-*-*-*-\n",
            "Difference Cost External Matrix\n",
            "[0. 1. 0. 3. 2. 0.] 6.0\n",
            "[1. 0. 1. 0. 0. 1.] 3.0\n",
            "[0. 1. 0. 3. 2. 0.] 6.0\n",
            "[3. 0. 3. 0. 0. 3.] 9.0\n",
            "[2. 0. 2. 0. 0. 2.] 6.0\n",
            "[0. 1. 0. 3. 2. 0.] 6.0\n",
            "----------------------------------------\n",
            "Difference Cost External Vector\n",
            "[2. 1. 2. 3. 2. 2.]\n",
            "*-*-*-*-*-*-*-*-*-*-*-*-*-*-*-*-*-*-*-*-\n",
            "\n",
            "\n",
            "*-*-*-*-*-*-*-*-*-*-*-*-*-*-*-*-*-*-*-*-\n",
            "Difference Cost Vector\n",
            "[ 0. -3.  0.  1.  0.  1.]\n",
            "----------------------------------------\n",
            "Difference Cost Updated Vector\n",
            "[ 0. -1. -4.  3. -4. -1.]\n",
            "*-*-*-*-*-*-*-*-*-*-*-*-*-*-*-*-*-*-*-*-\n",
            "\n",
            "\n",
            "[[  0  -3  -8  -3   0   0]\n",
            " [ -3   0   0   0  -9  -4]\n",
            " [ -8   0   0   0 -12  -7]\n",
            " [ -3   0   0   0  -9  -4]\n",
            " [  0  -9 -12  -9   0   0]\n",
            " [  0  -4  -7  -4   0   0]]\n",
            "0 1 -3\n",
            "Partition1: {1, 4, 5}\n",
            "Partition2: {0, 2, 3}\n"
          ]
        }
      ]
    },
    {
      "cell_type": "markdown",
      "source": [
        "#### Intercambio #3"
      ],
      "metadata": {
        "id": "Sal4DyhrPd1O"
      }
    },
    {
      "cell_type": "code",
      "source": [
        "  available_nodes = [0,0,0,1,0,1]\n",
        "  swap_nodes      = [1,1,0,0,0,0]\n",
        "\n",
        "  difference_cost_prime_vector =  update_difference_cost_vector( difference_cost_prime_vector, partition1, partition2, available_nodes, swap_nodes )\n",
        "  gain_cost_matrix = calculate_gain_cost_matrix( difference_cost_prime_vector,  create_external_adj_matrix( partition1, partition2, num_nodes ), cost_matrix  )\n",
        "  print( gain_cost_matrix  )\n",
        "\n",
        "  partition1_swapped, partition2_swapped, next_move =  swap_cores_partition( partition1_swapped, partition2_swapped, gain_cost_matrix, available_nodes )\n",
        "  next_moves.append( next_move )"
      ],
      "metadata": {
        "colab": {
          "base_uri": "https://localhost:8080/"
        },
        "outputId": "9df16118-b155-4cb1-9e5a-deba83a7e9a0",
        "id": "eOOK_YoAPd1P"
      },
      "execution_count": null,
      "outputs": [
        {
          "output_type": "stream",
          "name": "stdout",
          "text": [
            "[[1. 0. 1. 0. 0. 1.]\n",
            " [0. 1. 0. 1. 1. 0.]\n",
            " [1. 0. 1. 0. 0. 1.]\n",
            " [0. 1. 0. 1. 1. 0.]\n",
            " [0. 1. 0. 1. 1. 0.]\n",
            " [1. 0. 1. 0. 0. 1.]]\n",
            "*-*-*-*-*-*-*-*-*-*-*-*-*-*-*-*-*-*-*-*-\n",
            "Difference Cost Internal Matrix\n",
            "[0. 0. 2. 0. 0. 4.] 6.0\n",
            "[0. 0. 0. 4. 2. 0.] 6.0\n",
            "[2. 0. 0. 0. 0. 1.] 3.0\n",
            "[0. 4. 0. 0. 4. 0.] 8.0\n",
            "[0. 2. 0. 4. 0. 0.] 6.0\n",
            "[4. 0. 1. 0. 0. 0.] 5.0\n",
            "----------------------------------------\n",
            "Difference Cost Internal Vector\n",
            "[0. 0. 2. 4. 2. 4.]\n",
            "*-*-*-*-*-*-*-*-*-*-*-*-*-*-*-*-*-*-*-*-\n",
            "\n",
            "\n",
            "*-*-*-*-*-*-*-*-*-*-*-*-*-*-*-*-*-*-*-*-\n",
            "Difference Cost External Matrix\n",
            "[0. 1. 0. 3. 2. 0.] 6.0\n",
            "[1. 0. 1. 0. 0. 1.] 3.0\n",
            "[0. 1. 0. 3. 2. 0.] 6.0\n",
            "[3. 0. 3. 0. 0. 3.] 9.0\n",
            "[2. 0. 2. 0. 0. 2.] 6.0\n",
            "[0. 1. 0. 3. 2. 0.] 6.0\n",
            "----------------------------------------\n",
            "Difference Cost External Vector\n",
            "[1. 1. 1. 3. 2. 1.]\n",
            "*-*-*-*-*-*-*-*-*-*-*-*-*-*-*-*-*-*-*-*-\n",
            "\n",
            "\n",
            "*-*-*-*-*-*-*-*-*-*-*-*-*-*-*-*-*-*-*-*-\n",
            "Difference Cost Vector\n",
            "[ 0. -0. -0.  3. -0. -1.]\n",
            "----------------------------------------\n",
            "Difference Cost Updated Vector\n",
            "[-2. -2.  2.  5.  0.  5.]\n",
            "*-*-*-*-*-*-*-*-*-*-*-*-*-*-*-*-*-*-*-*-\n",
            "\n",
            "\n",
            "[[ 0 -6  0 -3 -6  0]\n",
            " [-6  0 -2  0  0  1]\n",
            " [ 0 -2  0  1 -2  0]\n",
            " [-3  0  1  0  0  4]\n",
            " [-6  0 -2  0  0  1]\n",
            " [ 0  1  0  4  1  0]]\n",
            "3 5 4\n"
          ]
        }
      ]
    },
    {
      "cell_type": "markdown",
      "source": [
        "#### Movimientos Parciales"
      ],
      "metadata": {
        "id": "pwwbwUpoPd1P"
      }
    },
    {
      "cell_type": "code",
      "source": [
        "  max_partial_sum, partial_next_moves = max_subarray_sum( next_moves )\n",
        "\n",
        "  print(max_partial_sum, partial_next_moves)\n",
        "  print( partial_next_moves  )"
      ],
      "metadata": {
        "colab": {
          "base_uri": "https://localhost:8080/"
        },
        "outputId": "5344d07e-de17-40a2-bc16-d2c86709b9a0",
        "id": "MzgvxAZxPd1Q"
      },
      "execution_count": null,
      "outputs": [
        {
          "output_type": "stream",
          "name": "stdout",
          "text": [
            "0 []\n",
            "[]\n"
          ]
        }
      ]
    },
    {
      "cell_type": "markdown",
      "source": [
        "#### Intercambio"
      ],
      "metadata": {
        "id": "50TkMFagPd1Q"
      }
    },
    {
      "cell_type": "code",
      "source": [
        "partition1, partition2 = swap_cores( partial_next_moves, partition1, partition2 )\n",
        "print( partition1 )\n",
        "print( partition2 )"
      ],
      "metadata": {
        "colab": {
          "base_uri": "https://localhost:8080/"
        },
        "outputId": "d3a6af33-ee67-4350-b9ef-132c64fb8934",
        "id": "a3LUtKncPd1Q"
      },
      "execution_count": null,
      "outputs": [
        {
          "output_type": "stream",
          "name": "stdout",
          "text": [
            "{0, 2, 5}\n",
            "{1, 3, 4}\n"
          ]
        }
      ]
    },
    {
      "cell_type": "markdown",
      "source": [
        "# Implementación Algoritmo Kernighan-Lin"
      ],
      "metadata": {
        "id": "d67Oa_fTfhMe"
      }
    },
    {
      "cell_type": "markdown",
      "source": [
        "# Bibliotecas"
      ],
      "metadata": {
        "id": "BdfUDeu8huzF"
      }
    },
    {
      "cell_type": "code",
      "source": [
        "import numpy as np"
      ],
      "metadata": {
        "id": "a93FN8qkhx47"
      },
      "execution_count": 128,
      "outputs": []
    },
    {
      "cell_type": "markdown",
      "source": [
        "## Funciones"
      ],
      "metadata": {
        "id": "3MUwjq1hwrqq"
      }
    },
    {
      "cell_type": "code",
      "source": [
        "import numpy as np\n",
        "\n",
        "def create_external_adj_matrix(partition1, partition2, num_nodes):\n",
        "  external_adj_matrix = np.zeros((num_nodes,num_nodes))\n",
        "\n",
        "  for node1 in partition1:\n",
        "    for node2 in partition2:\n",
        "      external_adj_matrix[node1][node2] = 1\n",
        "      external_adj_matrix[node2][node1] = 1\n",
        "\n",
        "  return external_adj_matrix\n",
        "\n",
        "\n",
        "def create_internal_adj_matrix( partition1, partition2, num_nodes ):\n",
        "\n",
        "  internal_adj_matrix = np.ones((num_nodes,num_nodes))\n",
        "\n",
        "  for node1 in partition1:\n",
        "    for node2 in partition2:\n",
        "      internal_adj_matrix[node1][node2] = 0\n",
        "      internal_adj_matrix[node2][node1] = 0\n",
        "\n",
        "  return internal_adj_matrix\n",
        "\n",
        "def create_external_cost_matrix( cost_matrix, num_nodes ):\n",
        "\n",
        "  external_adj_matrix = create_external_adj_matrix(partition1, partition2, num_nodes)\n",
        "  external_cost_matrix = np.zeros((num_nodes,num_nodes))\n",
        "  for i in range(num_nodes):\n",
        "    for j in range(num_nodes):\n",
        "      external_cost_matrix[i][j] = cost_matrix[i][j] * external_adj_matrix[i][j]\n",
        "\n",
        "  return external_cost_matrix\n",
        "\n",
        "\n",
        "def create_internal_cost_matrix( cost_matrix, num_nodes ):\n",
        "\n",
        "  internal_adj_matrix = create_internal_adj_matrix(partition1, partition2, num_nodes)\n",
        "  internal_cost_matrix = np.zeros((num_nodes,num_nodes))\n",
        "  for i in range(num_nodes):\n",
        "    for j in range(num_nodes):\n",
        "      if i != j:\n",
        "        internal_cost_matrix[i][j] = cost_matrix[i][j] * internal_adj_matrix[i][j]\n",
        "\n",
        "  return internal_cost_matrix\n",
        "\n",
        "\n",
        "def calculate_difference_cost_vector(  partition1, partition2, num_nodes ):\n",
        "\n",
        "  external_cost_matrix = create_external_cost_matrix( cost_matrix, num_nodes )\n",
        "  internal_cost_matrix = create_internal_cost_matrix( cost_matrix, num_nodes )\n",
        "  difference_cost_matrix = np.zeros((num_nodes, num_nodes))\n",
        "  for i in range(num_nodes):\n",
        "    for j in range(num_nodes):\n",
        "     difference_cost_matrix[i][j] += external_cost_matrix[i][j] - internal_cost_matrix[i][j]\n",
        "\n",
        "\n",
        "  print(\"*-\"*20)\n",
        "  print( \"External Cost Matrix\" )\n",
        "  print( external_cost_matrix )\n",
        "\n",
        "\n",
        "  print(\"-\"*40)\n",
        "  print( \"Internal Cost Matrix\" )\n",
        "  print( internal_cost_matrix )\n",
        "\n",
        "  print(\"*-\"*20)\n",
        "  print( \"\\n\" )\n",
        "\n",
        "  return np.dot([1,1,1,1,1,1],difference_cost_matrix)\n",
        "\n",
        "def update_difference_cost_vector(  difference_cost_vector, partition1, partition2, available_nodes, swap_nodes  ):\n",
        "\n",
        "    internal_adj_matrix = create_internal_adj_matrix( partition1, partition2, num_nodes)\n",
        "    difference_cost_internal_matrix = np.zeros( (num_nodes, num_nodes)  )\n",
        "    for i in range(num_nodes):\n",
        "      for j in range(num_nodes):\n",
        "        difference_cost_internal_matrix[i][j] = cost_matrix[i][j] * internal_adj_matrix[i][j]\n",
        "\n",
        "    external_adj_matrix = create_external_adj_matrix( partition1, partition2, num_nodes)\n",
        "    difference_cost_external_matrix = np.zeros( (num_nodes, num_nodes)  )\n",
        "    for i in range(num_nodes):\n",
        "      for j in range(num_nodes):\n",
        "          difference_cost_external_matrix[i][j] = cost_matrix[i][j] * external_adj_matrix[i][j]\n",
        "\n",
        "    difference_cost_prime_matrix = np.zeros((num_nodes,num_nodes))\n",
        "    for i in range(num_nodes):\n",
        "      for j in range(num_nodes):\n",
        "        difference_cost_prime_matrix[i][j] = difference_cost_internal_matrix[i][j] - difference_cost_external_matrix[i][j]\n",
        "\n",
        "    difference_cost_vector          = np.multiply(available_nodes, difference_cost_vector)\n",
        "    difference_cost_internal_vector = np.dot(swap_nodes, difference_cost_internal_matrix)\n",
        "    difference_cost_external_vector = np.dot(swap_nodes, difference_cost_external_matrix)\n",
        "    difference_cost_prime_vector    = difference_cost_vector + 2 * difference_cost_internal_vector - 2 * difference_cost_external_vector\n",
        "\n",
        "    print(internal_adj_matrix)\n",
        "    print(\"*-\"*20)\n",
        "    print( \"Difference Cost Internal Matrix\")\n",
        "    for row in difference_cost_internal_matrix:\n",
        "      print(row, np.sum(row))\n",
        "\n",
        "    print(\"-\"*40)\n",
        "\n",
        "    print( \"Difference Cost Internal Vector\")\n",
        "    print( difference_cost_internal_vector )\n",
        "    print(\"*-\"*20)\n",
        "\n",
        "    print(\"\\n\")\n",
        "\n",
        "    print(\"*-\"*20)\n",
        "    print( \"Difference Cost External Matrix\")\n",
        "    for row in difference_cost_external_matrix:\n",
        "      print(row, np.sum(row))\n",
        "\n",
        "    print(\"-\"*40)\n",
        "\n",
        "    print( \"Difference Cost External Vector\")\n",
        "    print( difference_cost_external_vector )\n",
        "    print(\"*-\"*20)\n",
        "\n",
        "    print(\"\\n\")\n",
        "\n",
        "    print(\"*-\"*20)\n",
        "    print( \"Difference Cost Vector\")\n",
        "    print( difference_cost_vector)\n",
        "\n",
        "    print(\"-\"*40)\n",
        "\n",
        "    print( \"Difference Cost Updated Vector\")\n",
        "    print( difference_cost_prime_vector )\n",
        "\n",
        "    print(\"*-\"*20)\n",
        "    print(\"\\n\")\n",
        "\n",
        "    return difference_cost_prime_vector\n",
        "\n",
        "def calculate_gain_cost_matrix( difference_cost_vector, external_adj_matrix, cost_matrix ):\n",
        "  gain_cost_matrix = np.full((num_nodes,num_nodes), 0)\n",
        "\n",
        "  for i in range(num_nodes):\n",
        "    for j in range(num_nodes):\n",
        "      if external_adj_matrix[i][j] == 1:\n",
        "        gain_cost_matrix[i][j] = difference_cost_vector[i] + difference_cost_vector[j] - 2 * cost_matrix[i][j]\n",
        "\n",
        "  return gain_cost_matrix\n",
        "\n",
        "\n",
        "def swap_cores_partition( partition1, partition2, gain_cost_matrix, available_nodes ):\n",
        "  partition1_copy = partition1.copy()\n",
        "  partition2_copy = partition2.copy()\n",
        "  max_gain = -float('inf')\n",
        "  max_i, max_j = None, None\n",
        "\n",
        "  for i in range( num_nodes ):\n",
        "    for j in range( num_nodes ):\n",
        "      if max_gain < gain_cost_matrix[i][j] and gain_cost_matrix[i][j] != 0 and available_nodes[i] == 1 and available_nodes[j] == 1:\n",
        "        max_gain = gain_cost_matrix[i][j]\n",
        "        max_i = i\n",
        "        max_j = j\n",
        "\n",
        "  print( max_i, max_j, max_gain )\n",
        "  next_move = [max_gain, max_i, max_j]\n",
        "  for ci in partition1:\n",
        "    for cj in partition2:\n",
        "      if ci == max_i and cj == max_j:\n",
        "        partition1_copy.remove(ci)\n",
        "        partition2_copy.remove(cj)\n",
        "        partition1_copy.add(cj)\n",
        "        partition2_copy.add(ci)\n",
        "\n",
        "  return partition1_copy, partition2_copy, next_move\n",
        "\n",
        "def max_subarray_sum(next_moves):\n",
        "    select_next_moves = []\n",
        "\n",
        "    current_sum = 0\n",
        "    max_sum = 0\n",
        "\n",
        "    for next_move in next_moves:\n",
        "        current_sum += int(next_move[0])\n",
        "        if current_sum > max_sum:\n",
        "          max_sum = current_sum\n",
        "          select_next_moves.append( next_move )\n",
        "\n",
        "    return max_sum, select_next_moves\n",
        "\n",
        "def swap_cores(  partial_next_moves, partition1, partition2  ):\n",
        "  for next_move in partial_next_moves:\n",
        "    for ci in partition1:\n",
        "     for cj in partition2:\n",
        "        if ci == next_move[1] and cj == next_move[2]:\n",
        "          partition1.remove(ci)\n",
        "          partition2.remove(cj)\n",
        "          partition1.add(cj)\n",
        "          partition2.add(ci)\n",
        "  return partition1, partition2\n",
        "\n",
        "def update_available_nodes( available_nodes, swap_nodes ):\n",
        "  return  [a ^ b for a, b in zip(available_nodes, swap_nodes)]\n",
        "\n",
        "def update_swap_nodes( next_move ):\n",
        "  indices = next_move[1:3]\n",
        "  swap_nodes = [1 if i in indices else 0 for i in range(num_nodes)]\n",
        "  return swap_nodes\n"
      ],
      "metadata": {
        "id": "C86Qei67wrqs"
      },
      "execution_count": 4,
      "outputs": []
    },
    {
      "cell_type": "markdown",
      "source": [
        "## Ejemplo"
      ],
      "metadata": {
        "id": "fd6v3NeIjRFn"
      }
    },
    {
      "cell_type": "markdown",
      "source": [
        "# Iteración # 1"
      ],
      "metadata": {
        "id": "26F9EpuwSKZp"
      }
    },
    {
      "cell_type": "code",
      "source": [
        "  def kernighan_lin( partition1, partition2, cost_matrix ):\n",
        "    next_moves = []\n",
        "\n",
        "    number_of_iteration   = 0\n",
        "    number_of_interchange = 0\n",
        "\n",
        "    if number_of_iteration == 0:\n",
        "      print( \"### Iteración 0 ###\"  )\n",
        "      number_of_interchange = 0\n",
        "      print( \"  # Intercambio 0 #\" )\n",
        "\n",
        "      if number_of_interchange == 0:\n",
        "        difference_cost_vector =  calculate_difference_cost_vector( partition1, partition2, num_nodes  )\n",
        "        gain_cost_matrix       =  calculate_gain_cost_matrix( difference_cost_vector, external_adj_matrix, cost_matrix )\n",
        "\n",
        "        available_nodes = [1,1,1,1,1,1]\n",
        "        partition1_swapped, partition2_swapped, next_move = swap_cores_partition( partition1, partition2, gain_cost_matrix, available_nodes )\n",
        "\n",
        "        next_moves.append( next_move )\n",
        "\n",
        "        print(\"-\"*40)\n",
        "        print(\"Difference cost Vector\")\n",
        "        print( difference_cost_vector )\n",
        "        print(\"-\"*40)\n",
        "\n",
        "        print(\"\\n\")\n",
        "\n",
        "        print(\"-\"*40)\n",
        "        print(\"Gain Cost Matrix\")\n",
        "        print( gain_cost_matrix )\n",
        "        print(\"-\"*40)\n",
        "\n",
        "        print(\"\\n\")\n",
        "\n",
        "        print(\"-\"*40)\n",
        "        print(\"Particiones\")\n",
        "        print( \"Partition1:\", partition1_swapped )\n",
        "        print( \"Partition2:\", partition2_swapped )\n",
        "\n",
        "        number_of_interchange = 1\n",
        "\n",
        "      if number_of_interchange == 1:\n",
        "        print( \"  # Intercambio 1 #\" )\n",
        "        #available_nodes = [1,0,1,1,1,0]\n",
        "        swap_nodes      = [0,1,0,0,0,1]\n",
        "\n",
        "\n",
        "        swap_nodes      = update_swap_nodes( next_move )\n",
        "        available_nodes = update_available_nodes( available_nodes, swap_nodes )\n",
        "\n",
        "        difference_cost_prime_vector =  update_difference_cost_vector( difference_cost_vector, partition1, partition2, available_nodes, swap_nodes )\n",
        "        gain_cost_matrix = calculate_gain_cost_matrix( difference_cost_prime_vector,  create_external_adj_matrix( partition1_swapped, partition2_swapped, num_nodes ), cost_matrix  )\n",
        "\n",
        "        print(  gain_cost_matrix  )\n",
        "\n",
        "      partition1_swapped, partition2_swapped, next_move =  swap_cores_partition( partition1_swapped, partition2_swapped, gain_cost_matrix, available_nodes )\n",
        "      next_moves.append( next_move )\n",
        "\n",
        "      print( \"Partition1:\", partition1_swapped )\n",
        "      print( \"Partition2:\", partition2_swapped )\n",
        "\n",
        "      number_of_interchange = 2\n",
        "\n",
        "      if number_of_interchange == 2:\n",
        "        print( \"  # Intercambio 2 #\" )\n",
        "        #available_nodes = [1,0,0,1,0,0]\n",
        "        swap_nodes = [0,0,1,0,1,0]\n",
        "\n",
        "        swap_nodes      = update_swap_nodes( next_move )\n",
        "        available_nodes = update_available_nodes( available_nodes, swap_nodes )\n",
        "\n",
        "        difference_cost_prime_vector =  update_difference_cost_vector( difference_cost_prime_vector, partition1, partition2, available_nodes, swap_nodes )\n",
        "        gain_cost_matrix = calculate_gain_cost_matrix( difference_cost_prime_vector,  create_external_adj_matrix( partition1, partition2, num_nodes ), cost_matrix  )\n",
        "        print( gain_cost_matrix  )\n",
        "\n",
        "        partition1_swapped, partition2_swapped, next_move =  swap_cores_partition( partition1_swapped, partition2_swapped, gain_cost_matrix, available_nodes )\n",
        "        next_moves.append( next_move )\n",
        "\n",
        "      max_partial_sum, partial_next_moves = max_subarray_sum( next_moves )\n",
        "      print(max_partial_sum, partial_next_moves)\n",
        "\n",
        "      partition1, partition2 = swap_cores( partial_next_moves, partition1, partition2 )\n",
        "      print( partition1 )\n",
        "      print( partition2 )\n",
        "\n",
        "      number_of_iteration = 1\n",
        "\n",
        "    if number_of_iteration == 1:\n",
        "      print( \"### Iteración 1 ###\"  )\n",
        "      print( partition1 )\n",
        "      print( partition2 )\n",
        "\n",
        "      external_adj_matrix_1 = create_external_adj_matrix(partition1, partition2, num_nodes)\n",
        "      internal_adj_matrix_1 = create_internal_adj_matrix(partition1, partition2, num_nodes)\n",
        "\n",
        "      external_cost_matrix_1 = create_external_cost_matrix( cost_matrix, num_nodes )\n",
        "      internal_cost_matrix_1 = create_internal_cost_matrix( cost_matrix, num_nodes )\n",
        "      number_of_interchange = 0\n",
        "\n",
        "      print( \"# Intercambio 0 #\" )\n",
        "      if number_of_interchange == 0:\n",
        "\n",
        "        difference_cost_vector =  calculate_difference_cost_vector( partition1, partition2, num_nodes  )\n",
        "        gain_cost_matrix       =  calculate_gain_cost_matrix( difference_cost_vector, external_adj_matrix_1, cost_matrix )\n",
        "\n",
        "        available_nodes = [1,1,1,1,1,1]\n",
        "        partition1_swapped, partition2_swapped, next_move = swap_cores_partition( partition1, partition2, gain_cost_matrix, available_nodes )\n",
        "\n",
        "        next_moves.append( next_move )\n",
        "\n",
        "        print(\"-\"*40)\n",
        "        print(\"Difference cost Vector\")\n",
        "        print( difference_cost_vector )\n",
        "        print(\"-\"*40)\n",
        "\n",
        "        print(\"\\n\")\n",
        "\n",
        "        print(\"-\"*40)\n",
        "        print(\"Gain Cost Matrix\")\n",
        "        print( gain_cost_matrix )\n",
        "        print(\"-\"*40)\n",
        "\n",
        "        print(\"\\n\")\n",
        "\n",
        "        print(\"-\"*40)\n",
        "        print(\"Particiones\")\n",
        "        print( \"Partition1:\", partition1_swapped )\n",
        "        print( \"Partition2:\", partition2_swapped )\n",
        "\n",
        "        number_of_interchange = 1\n",
        "\n",
        "      if number_of_interchange == 1:\n",
        "        print( \"# Intercambio 1 #\" )\n",
        "\n",
        "        #available_nodes = [1,1,0,1,0,1]\n",
        "        swap_nodes      = [0,0,1,0,1,0]\n",
        "\n",
        "        swap_nodes      = update_swap_nodes( next_move )\n",
        "        available_nodes = update_available_nodes( available_nodes, swap_nodes )\n",
        "\n",
        "        difference_cost_prime_vector =  update_difference_cost_vector( difference_cost_vector, partition1, partition2, available_nodes, swap_nodes )\n",
        "        gain_cost_matrix = calculate_gain_cost_matrix( difference_cost_prime_vector,  create_external_adj_matrix( partition1_swapped, partition2_swapped, num_nodes ), cost_matrix  )\n",
        "\n",
        "        print(  gain_cost_matrix  )\n",
        "\n",
        "        partition1_swapped, partition2_swapped, next_move =  swap_cores_partition( partition1_swapped, partition2_swapped, gain_cost_matrix, available_nodes )\n",
        "        next_moves.append( next_move )\n",
        "\n",
        "        print( \"Partition1:\", partition1_swapped )\n",
        "        print( \"Partition2:\", partition2_swapped )\n",
        "        number_of_interchange = 2\n",
        "\n",
        "      if number_of_interchange == 2:\n",
        "        print( \"# Intercambio 2 #\" )\n",
        "        #available_nodes = [0,0,0,1,0,1]\n",
        "        swap_nodes      = [1,1,0,0,0,0]\n",
        "\n",
        "\n",
        "        swap_nodes      = update_swap_nodes( next_move )\n",
        "        available_nodes = update_available_nodes( available_nodes, swap_nodes )\n",
        "\n",
        "        print( next_move  )\n",
        "        print( available_nodes )\n",
        "        print( swap_nodes )\n",
        "\n",
        "        difference_cost_prime_vector =  update_difference_cost_vector( difference_cost_prime_vector, partition1, partition2, available_nodes, swap_nodes )\n",
        "        gain_cost_matrix = calculate_gain_cost_matrix( difference_cost_prime_vector,  create_external_adj_matrix( partition1, partition2, num_nodes ), cost_matrix  )\n",
        "        print( gain_cost_matrix  )\n",
        "\n",
        "        partition1_swapped, partition2_swapped, next_move =  swap_cores_partition( partition1_swapped, partition2_swapped, gain_cost_matrix, available_nodes )\n",
        "        next_moves.append( next_move )\n",
        "\n",
        "    max_partial_sum, partial_next_moves = max_subarray_sum( next_moves )\n",
        "    print(max_partial_sum, partial_next_moves)\n",
        "    print( partial_next_moves  )\n",
        "\n",
        "\n",
        "    partition1, partition2 = swap_cores( partial_next_moves, partition1, partition2 )\n",
        "    print( partition1 )\n",
        "    print( partition2 )\n",
        "\n",
        "\n"
      ],
      "metadata": {
        "id": "ne9zprtBjRFr"
      },
      "execution_count": 239,
      "outputs": []
    },
    {
      "cell_type": "markdown",
      "source": [
        "# Iteracion #*2*"
      ],
      "metadata": {
        "id": "Eir267BAjRFq"
      }
    },
    {
      "cell_type": "code",
      "source": [
        "def kernighan_lin( partition1, partition2, cost_matrix ):\n",
        "    next_moves = []\n",
        "\n",
        "    number_of_iteration   = 0\n",
        "    number_of_interchange = 0\n",
        "\n",
        "    for number_of_iteration in range(2):\n",
        "    #if number_of_iteration == 0:\n",
        "\n",
        "      print( \"### Iteración 0 ###\"  )\n",
        "\n",
        "      available_nodes = [1,1,1,1,1,1]\n",
        "      external_adj_matrix = create_external_adj_matrix(partition1, partition2, num_nodes)\n",
        "      internal_adj_matrix = create_internal_adj_matrix(partition1, partition2, num_nodes)\n",
        "      external_cost_matrix = create_external_cost_matrix( cost_matrix, num_nodes )\n",
        "      internal_cost_matrix = create_internal_cost_matrix( cost_matrix, num_nodes )\n",
        "\n",
        "      number_of_interchange = 0\n",
        "\n",
        "      if number_of_interchange == 0:\n",
        "        print( \"  # Intercambio #\" + f\"{number_of_interchange}\" )\n",
        "        difference_cost_vector =  calculate_difference_cost_vector( partition1, partition2, num_nodes  )\n",
        "        gain_cost_matrix       =  calculate_gain_cost_matrix( difference_cost_vector, external_adj_matrix, cost_matrix )\n",
        "        partition1_swapped, partition2_swapped, next_move = swap_cores_partition( partition1, partition2, gain_cost_matrix, available_nodes )\n",
        "        next_moves.append( next_move )\n",
        "\n",
        "        print(\"-\"*40)\n",
        "        print(\"Difference cost Vector\")\n",
        "        print( difference_cost_vector )\n",
        "        print(\"-\"*40)\n",
        "\n",
        "        print(\"\\n\")\n",
        "\n",
        "        print(\"-\"*40)\n",
        "        print(\"Gain Cost Matrix\")\n",
        "        print( gain_cost_matrix )\n",
        "        print(\"-\"*40)\n",
        "\n",
        "        print(\"\\n\")\n",
        "\n",
        "        print(\"-\"*40)\n",
        "        print(\"Particiones\")\n",
        "        print( \"Partition1:\", partition1_swapped )\n",
        "        print( \"Partition2:\", partition2_swapped )\n",
        "\n",
        "        swap_nodes      = update_swap_nodes( next_move )\n",
        "        available_nodes = update_available_nodes( available_nodes, swap_nodes )\n",
        "\n",
        "        number_of_interchange = 1\n",
        "\n",
        "      while np.sum(available_nodes):\n",
        "        print( \"  # Intercambio #\" + f\"{number_of_interchange}\" )\n",
        "\n",
        "        difference_cost_vector =  update_difference_cost_vector( difference_cost_vector, partition1, partition2, available_nodes, swap_nodes )\n",
        "        gain_cost_matrix = calculate_gain_cost_matrix( difference_cost_vector,  create_external_adj_matrix( partition1_swapped, partition2_swapped, num_nodes ), cost_matrix  )\n",
        "        partition1_swapped, partition2_swapped, next_move =  swap_cores_partition( partition1_swapped, partition2_swapped, gain_cost_matrix, available_nodes )\n",
        "        next_moves.append( next_move )\n",
        "\n",
        "        print(\"-\"*40)\n",
        "        print(\"Difference cost Vector\")\n",
        "        print( difference_cost_vector )\n",
        "        print(\"-\"*40)\n",
        "\n",
        "        print(\"\\n\")\n",
        "\n",
        "        print(\"-\"*40)\n",
        "        print(\"Gain Cost Matrix\")\n",
        "        print( gain_cost_matrix )\n",
        "        print(\"-\"*40)\n",
        "\n",
        "        print(\"\\n\")\n",
        "\n",
        "        print(\"-\"*40)\n",
        "        print(\"Particiones\")\n",
        "        print( \"Partition1:\", partition1_swapped )\n",
        "        print( \"Partition2:\", partition2_swapped )\n",
        "\n",
        "        swap_nodes      = update_swap_nodes( next_move )\n",
        "        available_nodes = update_available_nodes( available_nodes, swap_nodes )\n",
        "\n",
        "        number_of_interchange += 1\n",
        "\n",
        "      max_partial_sum, partial_next_moves = max_subarray_sum( next_moves )\n",
        "      print(max_partial_sum, partial_next_moves)\n",
        "\n",
        "      partition1, partition2 = swap_cores( partial_next_moves, partition1, partition2 )\n",
        "      print( partition1 )\n",
        "      print( partition2 )\n",
        "\n"
      ],
      "metadata": {
        "id": "7HtmfplTSM63"
      },
      "execution_count": 1,
      "outputs": []
    },
    {
      "cell_type": "markdown",
      "source": [
        "# Ejemplo"
      ],
      "metadata": {
        "id": "ilrJHfJuSWL3"
      }
    },
    {
      "cell_type": "code",
      "source": [
        "# Ejemplo de uso\n",
        "if __name__ == \"__main__\":\n",
        "  partition1 = {0, 1, 2}\n",
        "  partition2 = {3, 4, 5}\n",
        "  num_nodes = 6\n",
        "\n",
        "\n",
        "  cost_matrix = [ [0,1,2,3,2,4],\n",
        "                  [1,0,1,4,2,1],\n",
        "                  [2,1,0,3,2,1],\n",
        "                  [3,4,3,0,4,3],\n",
        "                  [2,2,2,4,0,2],\n",
        "                  [4,1,1,3,2,0] ]"
      ],
      "metadata": {
        "id": "rrc6w6bXjRFo"
      },
      "execution_count": 5,
      "outputs": []
    },
    {
      "cell_type": "code",
      "source": [
        "kernighan_lin( partition1, partition2, cost_matrix )"
      ],
      "metadata": {
        "colab": {
          "base_uri": "https://localhost:8080/"
        },
        "outputId": "26b2ee8c-5e9e-4d62-cd97-90fec3a03443",
        "id": "EOgySWh9jRFs"
      },
      "execution_count": 6,
      "outputs": [
        {
          "output_type": "stream",
          "name": "stdout",
          "text": [
            "### Iteración 0 ###\n",
            "  # Intercambio #0\n",
            "*-*-*-*-*-*-*-*-*-*-*-*-*-*-*-*-*-*-*-*-\n",
            "External Cost Matrix\n",
            "[[0. 0. 0. 3. 2. 4.]\n",
            " [0. 0. 0. 4. 2. 1.]\n",
            " [0. 0. 0. 3. 2. 1.]\n",
            " [3. 4. 3. 0. 0. 0.]\n",
            " [2. 2. 2. 0. 0. 0.]\n",
            " [4. 1. 1. 0. 0. 0.]]\n",
            "----------------------------------------\n",
            "Internal Cost Matrix\n",
            "[[0. 1. 2. 0. 0. 0.]\n",
            " [1. 0. 1. 0. 0. 0.]\n",
            " [2. 1. 0. 0. 0. 0.]\n",
            " [0. 0. 0. 0. 4. 3.]\n",
            " [0. 0. 0. 4. 0. 2.]\n",
            " [0. 0. 0. 3. 2. 0.]]\n",
            "*-*-*-*-*-*-*-*-*-*-*-*-*-*-*-*-*-*-*-*-\n",
            "\n",
            "\n",
            "1 5 4\n",
            "----------------------------------------\n",
            "Difference cost Vector\n",
            "[6. 5. 3. 3. 0. 1.]\n",
            "----------------------------------------\n",
            "\n",
            "\n",
            "----------------------------------------\n",
            "Gain Cost Matrix\n",
            "[[ 0  0  0  3  2 -1]\n",
            " [ 0  0  0  0  1  4]\n",
            " [ 0  0  0  0 -1  2]\n",
            " [ 3  0  0  0  0  0]\n",
            " [ 2  1 -1  0  0  0]\n",
            " [-1  4  2  0  0  0]]\n",
            "----------------------------------------\n",
            "\n",
            "\n",
            "----------------------------------------\n",
            "Particiones\n",
            "Partition1: {0, 2, 5}\n",
            "Partition2: {1, 3, 4}\n",
            "  # Intercambio #1\n",
            "[[1. 1. 1. 0. 0. 0.]\n",
            " [1. 1. 1. 0. 0. 0.]\n",
            " [1. 1. 1. 0. 0. 0.]\n",
            " [0. 0. 0. 1. 1. 1.]\n",
            " [0. 0. 0. 1. 1. 1.]\n",
            " [0. 0. 0. 1. 1. 1.]]\n",
            "*-*-*-*-*-*-*-*-*-*-*-*-*-*-*-*-*-*-*-*-\n",
            "Difference Cost Internal Matrix\n",
            "[0. 1. 2. 0. 0. 0.] 3.0\n",
            "[1. 0. 1. 0. 0. 0.] 2.0\n",
            "[2. 1. 0. 0. 0. 0.] 3.0\n",
            "[0. 0. 0. 0. 4. 3.] 7.0\n",
            "[0. 0. 0. 4. 0. 2.] 6.0\n",
            "[0. 0. 0. 3. 2. 0.] 5.0\n",
            "----------------------------------------\n",
            "Difference Cost Internal Vector\n",
            "[1. 0. 1. 3. 2. 0.]\n",
            "*-*-*-*-*-*-*-*-*-*-*-*-*-*-*-*-*-*-*-*-\n",
            "\n",
            "\n",
            "*-*-*-*-*-*-*-*-*-*-*-*-*-*-*-*-*-*-*-*-\n",
            "Difference Cost External Matrix\n",
            "[0. 0. 0. 3. 2. 4.] 9.0\n",
            "[0. 0. 0. 4. 2. 1.] 7.0\n",
            "[0. 0. 0. 3. 2. 1.] 6.0\n",
            "[3. 4. 3. 0. 0. 0.] 10.0\n",
            "[2. 2. 2. 0. 0. 0.] 6.0\n",
            "[4. 1. 1. 0. 0. 0.] 6.0\n",
            "----------------------------------------\n",
            "Difference Cost External Vector\n",
            "[4. 1. 1. 4. 2. 1.]\n",
            "*-*-*-*-*-*-*-*-*-*-*-*-*-*-*-*-*-*-*-*-\n",
            "\n",
            "\n",
            "*-*-*-*-*-*-*-*-*-*-*-*-*-*-*-*-*-*-*-*-\n",
            "Difference Cost Vector\n",
            "[6. 0. 3. 3. 0. 0.]\n",
            "----------------------------------------\n",
            "Difference Cost Updated Vector\n",
            "[ 0. -2.  3.  1.  0. -2.]\n",
            "*-*-*-*-*-*-*-*-*-*-*-*-*-*-*-*-*-*-*-*-\n",
            "\n",
            "\n",
            "2 4 -1\n",
            "----------------------------------------\n",
            "Difference cost Vector\n",
            "[ 0. -2.  3.  1.  0. -2.]\n",
            "----------------------------------------\n",
            "\n",
            "\n",
            "----------------------------------------\n",
            "Gain Cost Matrix\n",
            "[[ 0 -4  0 -5 -4  0]\n",
            " [-4  0 -1  0  0 -6]\n",
            " [ 0 -1  0 -2 -1  0]\n",
            " [-5  0 -2  0  0 -7]\n",
            " [-4  0 -1  0  0 -6]\n",
            " [ 0 -6  0 -7 -6  0]]\n",
            "----------------------------------------\n",
            "\n",
            "\n",
            "----------------------------------------\n",
            "Particiones\n",
            "Partition1: {0, 4, 5}\n",
            "Partition2: {1, 2, 3}\n",
            "  # Intercambio #2\n",
            "[[1. 1. 1. 0. 0. 0.]\n",
            " [1. 1. 1. 0. 0. 0.]\n",
            " [1. 1. 1. 0. 0. 0.]\n",
            " [0. 0. 0. 1. 1. 1.]\n",
            " [0. 0. 0. 1. 1. 1.]\n",
            " [0. 0. 0. 1. 1. 1.]]\n",
            "*-*-*-*-*-*-*-*-*-*-*-*-*-*-*-*-*-*-*-*-\n",
            "Difference Cost Internal Matrix\n",
            "[0. 1. 2. 0. 0. 0.] 3.0\n",
            "[1. 0. 1. 0. 0. 0.] 2.0\n",
            "[2. 1. 0. 0. 0. 0.] 3.0\n",
            "[0. 0. 0. 0. 4. 3.] 7.0\n",
            "[0. 0. 0. 4. 0. 2.] 6.0\n",
            "[0. 0. 0. 3. 2. 0.] 5.0\n",
            "----------------------------------------\n",
            "Difference Cost Internal Vector\n",
            "[2. 1. 0. 4. 0. 2.]\n",
            "*-*-*-*-*-*-*-*-*-*-*-*-*-*-*-*-*-*-*-*-\n",
            "\n",
            "\n",
            "*-*-*-*-*-*-*-*-*-*-*-*-*-*-*-*-*-*-*-*-\n",
            "Difference Cost External Matrix\n",
            "[0. 0. 0. 3. 2. 4.] 9.0\n",
            "[0. 0. 0. 4. 2. 1.] 7.0\n",
            "[0. 0. 0. 3. 2. 1.] 6.0\n",
            "[3. 4. 3. 0. 0. 0.] 10.0\n",
            "[2. 2. 2. 0. 0. 0.] 6.0\n",
            "[4. 1. 1. 0. 0. 0.] 6.0\n",
            "----------------------------------------\n",
            "Difference Cost External Vector\n",
            "[2. 2. 2. 3. 2. 1.]\n",
            "*-*-*-*-*-*-*-*-*-*-*-*-*-*-*-*-*-*-*-*-\n",
            "\n",
            "\n",
            "*-*-*-*-*-*-*-*-*-*-*-*-*-*-*-*-*-*-*-*-\n",
            "Difference Cost Vector\n",
            "[ 0. -0.  0.  1.  0. -0.]\n",
            "----------------------------------------\n",
            "Difference Cost Updated Vector\n",
            "[ 0. -2. -4.  3. -4.  2.]\n",
            "*-*-*-*-*-*-*-*-*-*-*-*-*-*-*-*-*-*-*-*-\n",
            "\n",
            "\n",
            "0 3 -3\n",
            "----------------------------------------\n",
            "Difference cost Vector\n",
            "[ 0. -2. -4.  3. -4.  2.]\n",
            "----------------------------------------\n",
            "\n",
            "\n",
            "----------------------------------------\n",
            "Gain Cost Matrix\n",
            "[[  0  -4  -8  -3   0   0]\n",
            " [ -4   0   0   0 -10  -2]\n",
            " [ -8   0   0   0 -12  -4]\n",
            " [ -3   0   0   0  -9  -1]\n",
            " [  0 -10 -12  -9   0   0]\n",
            " [  0  -2  -4  -1   0   0]]\n",
            "----------------------------------------\n",
            "\n",
            "\n",
            "----------------------------------------\n",
            "Particiones\n",
            "Partition1: {3, 4, 5}\n",
            "Partition2: {0, 1, 2}\n",
            "4 [[4, 1, 5]]\n",
            "{0, 2, 5}\n",
            "{1, 3, 4}\n",
            "### Iteración 0 ###\n",
            "  # Intercambio #0\n",
            "*-*-*-*-*-*-*-*-*-*-*-*-*-*-*-*-*-*-*-*-\n",
            "External Cost Matrix\n",
            "[[0. 1. 0. 3. 2. 0.]\n",
            " [1. 0. 1. 0. 0. 1.]\n",
            " [0. 1. 0. 3. 2. 0.]\n",
            " [3. 0. 3. 0. 0. 3.]\n",
            " [2. 0. 2. 0. 0. 2.]\n",
            " [0. 1. 0. 3. 2. 0.]]\n",
            "----------------------------------------\n",
            "Internal Cost Matrix\n",
            "[[0. 0. 2. 0. 0. 4.]\n",
            " [0. 0. 0. 4. 2. 0.]\n",
            " [2. 0. 0. 0. 0. 1.]\n",
            " [0. 4. 0. 0. 4. 0.]\n",
            " [0. 2. 0. 4. 0. 0.]\n",
            " [4. 0. 1. 0. 0. 0.]]\n",
            "*-*-*-*-*-*-*-*-*-*-*-*-*-*-*-*-*-*-*-*-\n",
            "\n",
            "\n",
            "2 4 -1\n",
            "----------------------------------------\n",
            "Difference cost Vector\n",
            "[ 0. -3.  3.  1.  0.  1.]\n",
            "----------------------------------------\n",
            "\n",
            "\n",
            "----------------------------------------\n",
            "Gain Cost Matrix\n",
            "[[ 0 -5  0 -5 -4  0]\n",
            " [-5  0 -2  0  0 -4]\n",
            " [ 0 -2  0 -2 -1  0]\n",
            " [-5  0 -2  0  0 -4]\n",
            " [-4  0 -1  0  0 -3]\n",
            " [ 0 -4  0 -4 -3  0]]\n",
            "----------------------------------------\n",
            "\n",
            "\n",
            "----------------------------------------\n",
            "Particiones\n",
            "Partition1: {0, 4, 5}\n",
            "Partition2: {1, 2, 3}\n",
            "  # Intercambio #1\n",
            "[[1. 0. 1. 0. 0. 1.]\n",
            " [0. 1. 0. 1. 1. 0.]\n",
            " [1. 0. 1. 0. 0. 1.]\n",
            " [0. 1. 0. 1. 1. 0.]\n",
            " [0. 1. 0. 1. 1. 0.]\n",
            " [1. 0. 1. 0. 0. 1.]]\n",
            "*-*-*-*-*-*-*-*-*-*-*-*-*-*-*-*-*-*-*-*-\n",
            "Difference Cost Internal Matrix\n",
            "[0. 0. 2. 0. 0. 4.] 6.0\n",
            "[0. 0. 0. 4. 2. 0.] 6.0\n",
            "[2. 0. 0. 0. 0. 1.] 3.0\n",
            "[0. 4. 0. 0. 4. 0.] 8.0\n",
            "[0. 2. 0. 4. 0. 0.] 6.0\n",
            "[4. 0. 1. 0. 0. 0.] 5.0\n",
            "----------------------------------------\n",
            "Difference Cost Internal Vector\n",
            "[2. 2. 0. 4. 0. 1.]\n",
            "*-*-*-*-*-*-*-*-*-*-*-*-*-*-*-*-*-*-*-*-\n",
            "\n",
            "\n",
            "*-*-*-*-*-*-*-*-*-*-*-*-*-*-*-*-*-*-*-*-\n",
            "Difference Cost External Matrix\n",
            "[0. 1. 0. 3. 2. 0.] 6.0\n",
            "[1. 0. 1. 0. 0. 1.] 3.0\n",
            "[0. 1. 0. 3. 2. 0.] 6.0\n",
            "[3. 0. 3. 0. 0. 3.] 9.0\n",
            "[2. 0. 2. 0. 0. 2.] 6.0\n",
            "[0. 1. 0. 3. 2. 0.] 6.0\n",
            "----------------------------------------\n",
            "Difference Cost External Vector\n",
            "[2. 1. 2. 3. 2. 2.]\n",
            "*-*-*-*-*-*-*-*-*-*-*-*-*-*-*-*-*-*-*-*-\n",
            "\n",
            "\n",
            "*-*-*-*-*-*-*-*-*-*-*-*-*-*-*-*-*-*-*-*-\n",
            "Difference Cost Vector\n",
            "[ 0. -3.  0.  1.  0.  1.]\n",
            "----------------------------------------\n",
            "Difference Cost Updated Vector\n",
            "[ 0. -1. -4.  3. -4. -1.]\n",
            "*-*-*-*-*-*-*-*-*-*-*-*-*-*-*-*-*-*-*-*-\n",
            "\n",
            "\n",
            "0 1 -3\n",
            "----------------------------------------\n",
            "Difference cost Vector\n",
            "[ 0. -1. -4.  3. -4. -1.]\n",
            "----------------------------------------\n",
            "\n",
            "\n",
            "----------------------------------------\n",
            "Gain Cost Matrix\n",
            "[[  0  -3  -8  -3   0   0]\n",
            " [ -3   0   0   0  -9  -4]\n",
            " [ -8   0   0   0 -12  -7]\n",
            " [ -3   0   0   0  -9  -4]\n",
            " [  0  -9 -12  -9   0   0]\n",
            " [  0  -4  -7  -4   0   0]]\n",
            "----------------------------------------\n",
            "\n",
            "\n",
            "----------------------------------------\n",
            "Particiones\n",
            "Partition1: {1, 4, 5}\n",
            "Partition2: {0, 2, 3}\n",
            "  # Intercambio #2\n",
            "[[1. 0. 1. 0. 0. 1.]\n",
            " [0. 1. 0. 1. 1. 0.]\n",
            " [1. 0. 1. 0. 0. 1.]\n",
            " [0. 1. 0. 1. 1. 0.]\n",
            " [0. 1. 0. 1. 1. 0.]\n",
            " [1. 0. 1. 0. 0. 1.]]\n",
            "*-*-*-*-*-*-*-*-*-*-*-*-*-*-*-*-*-*-*-*-\n",
            "Difference Cost Internal Matrix\n",
            "[0. 0. 2. 0. 0. 4.] 6.0\n",
            "[0. 0. 0. 4. 2. 0.] 6.0\n",
            "[2. 0. 0. 0. 0. 1.] 3.0\n",
            "[0. 4. 0. 0. 4. 0.] 8.0\n",
            "[0. 2. 0. 4. 0. 0.] 6.0\n",
            "[4. 0. 1. 0. 0. 0.] 5.0\n",
            "----------------------------------------\n",
            "Difference Cost Internal Vector\n",
            "[0. 0. 2. 4. 2. 4.]\n",
            "*-*-*-*-*-*-*-*-*-*-*-*-*-*-*-*-*-*-*-*-\n",
            "\n",
            "\n",
            "*-*-*-*-*-*-*-*-*-*-*-*-*-*-*-*-*-*-*-*-\n",
            "Difference Cost External Matrix\n",
            "[0. 1. 0. 3. 2. 0.] 6.0\n",
            "[1. 0. 1. 0. 0. 1.] 3.0\n",
            "[0. 1. 0. 3. 2. 0.] 6.0\n",
            "[3. 0. 3. 0. 0. 3.] 9.0\n",
            "[2. 0. 2. 0. 0. 2.] 6.0\n",
            "[0. 1. 0. 3. 2. 0.] 6.0\n",
            "----------------------------------------\n",
            "Difference Cost External Vector\n",
            "[1. 1. 1. 3. 2. 1.]\n",
            "*-*-*-*-*-*-*-*-*-*-*-*-*-*-*-*-*-*-*-*-\n",
            "\n",
            "\n",
            "*-*-*-*-*-*-*-*-*-*-*-*-*-*-*-*-*-*-*-*-\n",
            "Difference Cost Vector\n",
            "[ 0. -0. -0.  3. -0. -1.]\n",
            "----------------------------------------\n",
            "Difference Cost Updated Vector\n",
            "[-2. -2.  2.  5.  0.  5.]\n",
            "*-*-*-*-*-*-*-*-*-*-*-*-*-*-*-*-*-*-*-*-\n",
            "\n",
            "\n",
            "3 5 4\n",
            "----------------------------------------\n",
            "Difference cost Vector\n",
            "[-2. -2.  2.  5.  0.  5.]\n",
            "----------------------------------------\n",
            "\n",
            "\n",
            "----------------------------------------\n",
            "Gain Cost Matrix\n",
            "[[ 0 -6  0  0 -6 -5]\n",
            " [-6  0 -2 -5  0  0]\n",
            " [ 0 -2  0  0 -2  5]\n",
            " [ 0 -5  0  0 -3  4]\n",
            " [-6  0 -2 -3  0  0]\n",
            " [-5  0  5  4  0  0]]\n",
            "----------------------------------------\n",
            "\n",
            "\n",
            "----------------------------------------\n",
            "Particiones\n",
            "Partition1: {1, 4, 5}\n",
            "Partition2: {0, 2, 3}\n",
            "4 [[4, 1, 5]]\n",
            "{0, 2, 5}\n",
            "{1, 3, 4}\n"
          ]
        }
      ]
    }
  ]
}