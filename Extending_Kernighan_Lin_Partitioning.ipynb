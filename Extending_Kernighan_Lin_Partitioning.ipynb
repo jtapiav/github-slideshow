{
  "nbformat": 4,
  "nbformat_minor": 0,
  "metadata": {
    "colab": {
      "provenance": [],
      "collapsed_sections": [
        "yhJkm4phGuXg",
        "pzjcvI8zG10_",
        "TBRvVLGXHBlW",
        "EIQGEbPrHUoO",
        "IqLxRKe_HccF",
        "03oj77QWLTBJ",
        "CKnZRJfnKKrx",
        "4LQMxw09KKrz",
        "l84NKHI0KKr0",
        "1xB9m2-UKKr0",
        "DfmWK7R5JEHO",
        "nUTI2zLqMfX1",
        "-qE0Z_zYMfX4",
        "hfVyohrJMfX5",
        "WyWIvJfyMfX6",
        "L3s4ASs7MfX8",
        "2vls-UmZMfX8"
      ],
      "authorship_tag": "ABX9TyMzlTx5kfric9Gaev4PWLX/",
      "include_colab_link": true
    },
    "kernelspec": {
      "name": "python3",
      "display_name": "Python 3"
    },
    "language_info": {
      "name": "python"
    }
  },
  "cells": [
    {
      "cell_type": "markdown",
      "metadata": {
        "id": "view-in-github",
        "colab_type": "text"
      },
      "source": [
        "<a href=\"https://colab.research.google.com/github/jtapiav/github-slideshow/blob/master/Extending_Kernighan_Lin_Partitioning.ipynb\" target=\"_parent\"><img src=\"https://colab.research.google.com/assets/colab-badge.svg\" alt=\"Open In Colab\"/></a>"
      ]
    },
    {
      "cell_type": "markdown",
      "source": [
        "# Bibliotecas"
      ],
      "metadata": {
        "id": "Rdrb448QH5dx"
      }
    },
    {
      "cell_type": "code",
      "source": [
        "import random"
      ],
      "metadata": {
        "id": "N3dZFZG7H9Gx"
      },
      "execution_count": null,
      "outputs": []
    },
    {
      "cell_type": "markdown",
      "source": [
        "#Original Kernighan-Lin Partition"
      ],
      "metadata": {
        "id": "R2WLlR_BBN3X"
      }
    },
    {
      "cell_type": "markdown",
      "source": [
        "## Graph"
      ],
      "metadata": {
        "id": "yhJkm4phGuXg"
      }
    },
    {
      "cell_type": "code",
      "source": [
        "class CoreGraph:\n",
        "    def __init__(self, cores, edges):\n",
        "        self.cores = cores\n",
        "        self.edges = edges"
      ],
      "metadata": {
        "id": "BAo_gmdKGzv4"
      },
      "execution_count": null,
      "outputs": []
    },
    {
      "cell_type": "markdown",
      "source": [
        "## Calculate Cost"
      ],
      "metadata": {
        "id": "pzjcvI8zG10_"
      }
    },
    {
      "cell_type": "code",
      "source": [
        "def calculate_cost(graph, partition1, partition2):\n",
        "    cost = 0\n",
        "    for edge in graph.edges:\n",
        "        if (edge[0] in partition1 and edge[1] in partition2) or (edge[0] in partition2 and edge[1] in partition1):\n",
        "            cost += 1\n",
        "    return cost"
      ],
      "metadata": {
        "id": "C5wGNDEvG_nT"
      },
      "execution_count": null,
      "outputs": []
    },
    {
      "cell_type": "markdown",
      "source": [
        "## Swap Core"
      ],
      "metadata": {
        "id": "TBRvVLGXHBlW"
      }
    },
    {
      "cell_type": "code",
      "source": [
        "def get_next_move(graph, partition1, partition2):\n",
        "    best_cost = calculate_cost( graph, partition1, partition2 )\n",
        "    best_move = None\n",
        "    for ci in partition1:\n",
        "        for cj in partition2:\n",
        "            current_cost = calculate_cost(graph, partition1 - {ci} | {cj}, partition2 - {cj} | {ci})\n",
        "            if current_cost < best_cost:\n",
        "                best_cost = current_cost\n",
        "                best_move = (ci, cj)\n",
        "    return best_move"
      ],
      "metadata": {
        "id": "J0cV9DOsHO-p"
      },
      "execution_count": null,
      "outputs": []
    },
    {
      "cell_type": "markdown",
      "source": [
        "## Kernighan_Lin Partition"
      ],
      "metadata": {
        "id": "EIQGEbPrHUoO"
      }
    },
    {
      "cell_type": "code",
      "source": [
        "def kernighan_lin(graph, partition1, partition2, level=0):\n",
        "    best_partition1, best_partition2 = partition1.copy(), partition2.copy()\n",
        "    current_partition1, current_partition2 = partition1.copy(), partition2.copy()\n",
        "\n",
        "    max_iterations = 50\n",
        "\n",
        "    for iteration in range(max_iterations):\n",
        "        next_move = get_next_move(graph, current_partition1, current_partition2)\n",
        "        if next_move is None:\n",
        "            break  # Salimos del ciclo si no encontramos una mejor jugada\n",
        "        ci, cj = next_move\n",
        "        current_partition1.remove(ci)\n",
        "        current_partition2.remove(cj)\n",
        "        current_partition1.add(cj)\n",
        "        current_partition2.add(ci)\n",
        "\n",
        "        if calculate_cost(graph, current_partition1, current_partition2) < calculate_cost(graph, best_partition1, best_partition2):\n",
        "            best_partition1, best_partition2 = current_partition1.copy(), current_partition2.copy()\n",
        "\n",
        "    if len(best_partition1) == len(partition1) and len(best_partition2) == len(partition2):\n",
        "        return best_partition1, best_partition2\n",
        "\n",
        "    p1, p2 = best_partition1, best_partition2\n",
        "    return p1, p2"
      ],
      "metadata": {
        "id": "1Vlp6CstHZ2l"
      },
      "execution_count": null,
      "outputs": []
    },
    {
      "cell_type": "markdown",
      "source": [
        "## Extend Kernighan-Lin Partition"
      ],
      "metadata": {
        "id": "IqLxRKe_HccF"
      }
    },
    {
      "cell_type": "code",
      "execution_count": null,
      "metadata": {
        "id": "JbDgXqXzeLgn"
      },
      "outputs": [],
      "source": [
        "def kl_partitioning(graph, level, cores_to_be_partitioned):\n",
        "  cores_to_be_partitioned = set(cores_to_be_partitioned)  # Convert to set to allow set operations\n",
        "\n",
        "  if len(cores_to_be_partitioned) < 4:\n",
        "    return cores_to_be_partitioned\n",
        "\n",
        "  cores_list = list(cores_to_be_partitioned)\n",
        "\n",
        "  partition1 = set(random.sample(cores_list, len(cores_list) // 2))\n",
        "  partition2 = cores_to_be_partitioned - partition1\n",
        "\n",
        "  indent = \" \" * (level * 4)\n",
        "  print(indent + f\"Level {level}:\")\n",
        "  print(indent + f\"Complete Set: {cores_to_be_partitioned}\")\n",
        "  print(indent + f\"Start Partitions\" + f\" Cost: {calculate_cost(graph, partition1, partition2)}\")\n",
        "  print(indent + f\" Partition 1: {set(partition1)}\")\n",
        "  print(indent + f\" Partition 2: {set(partition2)}\")\n",
        "\n",
        "  partition1, partition2 = kernighan_lin(graph, partition1, partition2)\n",
        "\n",
        "  indent = \" \" * (level * 4)\n",
        "  print(indent + f\"Final Partitions\" + f\" Cost: {calculate_cost(graph, partition1, partition2)}\")\n",
        "  print(indent + f\" Partition 1: {set(partition1)}\")\n",
        "  print(indent + f\" Partition 2: {set(partition2)}\")\n",
        "\n",
        "  partition1_1, partition1_2 = kl_partitioning(graph, level + 1, partition1)\n",
        "  partition2_1, partition2_2 = kl_partitioning(graph, level + 1, partition2)\n",
        "\n",
        "  partition1 = (partition1_1, partition1_2)\n",
        "  partition2 = (partition2_1, partition2_2)\n",
        "\n",
        "  return partition1, partition2\n"
      ]
    },
    {
      "cell_type": "markdown",
      "source": [
        "## Test"
      ],
      "metadata": {
        "id": "bSmrqu4lI_RK"
      }
    },
    {
      "cell_type": "code",
      "source": [
        "# Ejemplo de uso\n",
        "cores = {'C1', 'C2', 'C3', 'C4', 'C5', 'C6', 'C7', 'C8', 'C9', 'C10', 'C11', 'C12', 'C13', 'C14', 'C15', 'C16'}\n",
        "edges = {('C1', 'C2'), ('C1', 'C3'), ('C2', 'C4'), ('C3', 'C4'), ('C3', 'C5'), ('C4', 'C6'), ('C5', 'C6'),\n",
        "         ('C7', 'C8'), ('C7', 'C9'), ('C8', 'C10'), ('C9', 'C10'), ('C9', 'C11'), ('C10', 'C12'), ('C11', 'C12'),\n",
        "         ('C13', 'C14'), ('C13', 'C15'), ('C14', 'C16'), ('C15', 'C16')}\n",
        "graph = CoreGraph(cores, edges)\n",
        "\n",
        "partition1, partition2 = kl_partitioning(graph, 0, cores)\n",
        "\n",
        "print( \"Cost:\" f\"{calculate_cost( graph, partition1, partition2 )}\" )\n",
        "print(\"Final Partition 1:\", partition1)\n",
        "print(\"Final Partition 2:\", partition2)"
      ],
      "metadata": {
        "colab": {
          "base_uri": "https://localhost:8080/"
        },
        "id": "bBP7PvlgeTXG",
        "outputId": "ec6b6de4-8388-4f8f-ccc9-6215afdda9ed"
      },
      "execution_count": null,
      "outputs": [
        {
          "output_type": "stream",
          "name": "stdout",
          "text": [
            "Level 0:\n",
            "Complete Set: {'C15', 'C4', 'C7', 'C10', 'C2', 'C1', 'C13', 'C16', 'C6', 'C14', 'C9', 'C8', 'C3', 'C11', 'C5', 'C12'}\n",
            "Start Partitions Cost: 10\n",
            " Partition 1: {'C13', 'C4', 'C7', 'C16', 'C6', 'C8', 'C10', 'C5'}\n",
            " Partition 2: {'C15', 'C14', 'C9', 'C11', 'C3', 'C2', 'C1', 'C12'}\n",
            "Final Partitions Cost: 4\n",
            " Partition 1: {'C4', 'C7', 'C6', 'C9', 'C8', 'C3', 'C10', 'C5'}\n",
            " Partition 2: {'C15', 'C16', 'C14', 'C11', 'C2', 'C1', 'C13', 'C12'}\n",
            "    Level 1:\n",
            "    Complete Set: {'C4', 'C7', 'C6', 'C9', 'C8', 'C3', 'C10', 'C5'}\n",
            "    Start Partitions Cost: 4\n",
            "     Partition 1: {'C4', 'C7', 'C8', 'C6'}\n",
            "     Partition 2: {'C9', 'C3', 'C5', 'C10'}\n",
            "    Final Partitions Cost: 4\n",
            "     Partition 1: {'C4', 'C7', 'C8', 'C6'}\n",
            "     Partition 2: {'C9', 'C3', 'C5', 'C10'}\n",
            "        Level 2:\n",
            "        Complete Set: {'C4', 'C7', 'C8', 'C6'}\n",
            "        Start Partitions Cost: 2\n",
            "         Partition 1: {'C4', 'C8'}\n",
            "         Partition 2: {'C7', 'C6'}\n",
            "        Final Partitions Cost: 0\n",
            "         Partition 1: {'C7', 'C8'}\n",
            "         Partition 2: {'C4', 'C6'}\n",
            "        Level 2:\n",
            "        Complete Set: {'C9', 'C3', 'C5', 'C10'}\n",
            "        Start Partitions Cost: 0\n",
            "         Partition 1: {'C9', 'C10'}\n",
            "         Partition 2: {'C5', 'C3'}\n",
            "        Final Partitions Cost: 0\n",
            "         Partition 1: {'C9', 'C10'}\n",
            "         Partition 2: {'C5', 'C3'}\n",
            "    Level 1:\n",
            "    Complete Set: {'C15', 'C16', 'C14', 'C11', 'C2', 'C1', 'C13', 'C12'}\n",
            "    Start Partitions Cost: 3\n",
            "     Partition 1: {'C2', 'C11', 'C13', 'C12'}\n",
            "     Partition 2: {'C15', 'C1', 'C16', 'C14'}\n",
            "    Final Partitions Cost: 0\n",
            "     Partition 1: {'C2', 'C11', 'C1', 'C12'}\n",
            "     Partition 2: {'C15', 'C16', 'C13', 'C14'}\n",
            "        Level 2:\n",
            "        Complete Set: {'C2', 'C11', 'C1', 'C12'}\n",
            "        Start Partitions Cost: 2\n",
            "         Partition 1: {'C2', 'C11'}\n",
            "         Partition 2: {'C1', 'C12'}\n",
            "        Final Partitions Cost: 0\n",
            "         Partition 1: {'C11', 'C12'}\n",
            "         Partition 2: {'C2', 'C1'}\n",
            "        Level 2:\n",
            "        Complete Set: {'C15', 'C16', 'C13', 'C14'}\n",
            "        Start Partitions Cost: 2\n",
            "         Partition 1: {'C15', 'C16'}\n",
            "         Partition 2: {'C13', 'C14'}\n",
            "        Final Partitions Cost: 2\n",
            "         Partition 1: {'C15', 'C16'}\n",
            "         Partition 2: {'C13', 'C14'}\n",
            "Cost:0\n",
            "Final Partition 1: ((('C7', 'C8'), ('C4', 'C6')), (('C9', 'C10'), ('C5', 'C3')))\n",
            "Final Partition 2: ((('C11', 'C12'), ('C2', 'C1')), (('C15', 'C16'), ('C13', 'C14')))\n"
          ]
        }
      ]
    },
    {
      "cell_type": "markdown",
      "source": [
        "# Weighted Kernighan-Lin Partition"
      ],
      "metadata": {
        "id": "t7ZmjEFXBz0F"
      }
    },
    {
      "cell_type": "markdown",
      "source": [
        "## Graph"
      ],
      "metadata": {
        "id": "03oj77QWLTBJ"
      }
    },
    {
      "cell_type": "code",
      "source": [
        "class CoreGraph:\n",
        "    def __init__(self, cores, edges):\n",
        "        self.cores = cores\n",
        "        self.edges = edges\n",
        "        self.weights = {edge: random.randint(1, 10) for edge in edges}"
      ],
      "metadata": {
        "id": "Ta3N2TwDLUbQ"
      },
      "execution_count": null,
      "outputs": []
    },
    {
      "cell_type": "markdown",
      "source": [
        "## Calculate Cost"
      ],
      "metadata": {
        "id": "CKnZRJfnKKrx"
      }
    },
    {
      "cell_type": "code",
      "source": [
        "def calculate_cost(graph, partition1, partition2):\n",
        "    cost = 0\n",
        "    for edge, weight in graph.weights.items():\n",
        "        if (edge[0] in partition1 and edge[1] in partition2) or (edge[0] in partition2 and edge[1] in partition1):\n",
        "            cost += weight\n",
        "    return cost"
      ],
      "metadata": {
        "id": "_ww7sm_gKKry"
      },
      "execution_count": null,
      "outputs": []
    },
    {
      "cell_type": "markdown",
      "source": [
        "## Swap Core"
      ],
      "metadata": {
        "id": "4LQMxw09KKrz"
      }
    },
    {
      "cell_type": "code",
      "source": [
        "def get_next_move(graph, partition1, partition2):\n",
        "    best_cost = calculate_cost( graph, partition1, partition2 )\n",
        "    best_move = None\n",
        "    for ci in partition1:\n",
        "        for cj in partition2:\n",
        "            current_cost = calculate_cost(graph, partition1 - {ci} | {cj}, partition2 - {cj} | {ci})\n",
        "            if current_cost < best_cost:\n",
        "                best_cost = current_cost\n",
        "                best_move = (ci, cj)\n",
        "    return best_move"
      ],
      "metadata": {
        "id": "u8Qh1v_vKKr0"
      },
      "execution_count": null,
      "outputs": []
    },
    {
      "cell_type": "markdown",
      "source": [
        "## Kernighan_Lin Partition"
      ],
      "metadata": {
        "id": "l84NKHI0KKr0"
      }
    },
    {
      "cell_type": "code",
      "source": [
        "def kernighan_lin(graph, partition1, partition2, level=0):\n",
        "    best_partition1, best_partition2 = partition1.copy(), partition2.copy()\n",
        "    current_partition1, current_partition2 = partition1.copy(), partition2.copy()\n",
        "\n",
        "    max_iterations = 50\n",
        "\n",
        "    for iteration in range(max_iterations):\n",
        "        next_move = get_next_move(graph, current_partition1, current_partition2)\n",
        "        if next_move is None:\n",
        "            break  # Salimos del ciclo si no encontramos una mejor jugada\n",
        "        ci, cj = next_move\n",
        "        current_partition1.remove(ci)\n",
        "        current_partition2.remove(cj)\n",
        "        current_partition1.add(cj)\n",
        "        current_partition2.add(ci)\n",
        "\n",
        "        if calculate_cost(graph, current_partition1, current_partition2) < calculate_cost(graph, best_partition1, best_partition2):\n",
        "            best_partition1, best_partition2 = current_partition1.copy(), current_partition2.copy()\n",
        "\n",
        "    if len(best_partition1) == len(partition1) and len(best_partition2) == len(partition2):\n",
        "        return best_partition1, best_partition2\n",
        "\n",
        "    p1, p2 = best_partition1, best_partition2\n",
        "    return p1, p2"
      ],
      "metadata": {
        "id": "nJDDV-N8KKr0"
      },
      "execution_count": null,
      "outputs": []
    },
    {
      "cell_type": "markdown",
      "source": [
        "## Extend Kernighan-Lin Partition"
      ],
      "metadata": {
        "id": "1xB9m2-UKKr0"
      }
    },
    {
      "cell_type": "code",
      "execution_count": null,
      "metadata": {
        "id": "XvHpUVr3KKr1"
      },
      "outputs": [],
      "source": [
        "def kl_partitioning(graph, level, cores_to_be_partitioned):\n",
        "  cores_to_be_partitioned = set(cores_to_be_partitioned)  # Convert to set to allow set operations\n",
        "\n",
        "  if len(cores_to_be_partitioned) < 4:\n",
        "    return cores_to_be_partitioned\n",
        "\n",
        "  cores_list = list(cores_to_be_partitioned)\n",
        "\n",
        "  partition1 = set(random.sample(cores_list, len(cores_list) // 2))\n",
        "  partition2 = cores_to_be_partitioned - partition1\n",
        "\n",
        "  indent = \" \" * (level * 4)\n",
        "  print(indent + f\"Level {level}:\")\n",
        "  print(indent + f\"Complete Set: {cores_to_be_partitioned}\")\n",
        "  print(indent + f\"Start Partitions\" + f\" Cost: {calculate_cost(graph, partition1, partition2)}\")\n",
        "  print(indent + f\" Partition 1: {set(partition1)}\")\n",
        "  print(indent + f\" Partition 2: {set(partition2)}\")\n",
        "\n",
        "  partition1, partition2 = kernighan_lin(graph, partition1, partition2)\n",
        "\n",
        "  indent = \" \" * (level * 4)\n",
        "  print(indent + f\"Final Partitions\" + f\" Cost: {calculate_cost(graph, partition1, partition2)}\")\n",
        "  print(indent + f\" Partition 1: {set(partition1)}\")\n",
        "  print(indent + f\" Partition 2: {set(partition2)}\")\n",
        "\n",
        "  partition1_1, partition1_2 = kl_partitioning(graph, level + 1, partition1)\n",
        "  partition2_1, partition2_2 = kl_partitioning(graph, level + 1, partition2)\n",
        "\n",
        "  partition1 = (partition1_1, partition1_2)\n",
        "  partition2 = (partition2_1, partition2_2)\n",
        "\n",
        "  return partition1, partition2\n"
      ]
    },
    {
      "cell_type": "markdown",
      "source": [
        "## Test"
      ],
      "metadata": {
        "id": "DfmWK7R5JEHO"
      }
    },
    {
      "cell_type": "code",
      "source": [
        "# Ejemplo de uso\n",
        "cores = {'C1', 'C2', 'C3', 'C4', 'C5', 'C6', 'C7', 'C8', 'C9', 'C10', 'C11', 'C12', 'C13', 'C14', 'C15', 'C16'}\n",
        "edges = {('C1', 'C2'), ('C1', 'C3'), ('C2', 'C4'), ('C3', 'C4'), ('C3', 'C5'), ('C4', 'C6'), ('C5', 'C6'),\n",
        "         ('C7', 'C8'), ('C7', 'C9'), ('C8', 'C10'), ('C9', 'C10'), ('C9', 'C11'), ('C10', 'C12'), ('C11', 'C12'),\n",
        "         ('C13', 'C14'), ('C13', 'C15'), ('C14', 'C16'), ('C15', 'C16')}\n",
        "graph = CoreGraph(cores, edges)\n",
        "\n",
        "partition1, partition2 = kl_partitioning(graph, 0, cores)\n",
        "\n",
        "print( \"Cost:\" f\"{calculate_cost( graph, partition1, partition2 )}\" )\n",
        "print(\"Final Partition 1:\", partition1)\n",
        "print(\"Final Partition 2:\", partition2)"
      ],
      "metadata": {
        "colab": {
          "base_uri": "https://localhost:8080/"
        },
        "id": "euyZi2c1zlae",
        "outputId": "2061012d-0258-4e5e-ba46-351cc98d606b"
      },
      "execution_count": null,
      "outputs": [
        {
          "output_type": "stream",
          "name": "stdout",
          "text": [
            "Level 0:\n",
            "Complete Set: {'C15', 'C4', 'C7', 'C10', 'C2', 'C1', 'C13', 'C16', 'C6', 'C14', 'C9', 'C8', 'C3', 'C11', 'C5', 'C12'}\n",
            "Start Partitions Cost: 54\n",
            " Partition 1: {'C15', 'C4', 'C6', 'C11', 'C8', 'C3', 'C1', 'C13'}\n",
            " Partition 2: {'C7', 'C16', 'C14', 'C9', 'C10', 'C2', 'C5', 'C12'}\n",
            "Final Partitions Cost: 5\n",
            " Partition 1: {'C13', 'C4', 'C6', 'C14', 'C3', 'C2', 'C1', 'C5'}\n",
            " Partition 2: {'C15', 'C7', 'C16', 'C9', 'C11', 'C8', 'C10', 'C12'}\n",
            "    Level 1:\n",
            "    Complete Set: {'C13', 'C4', 'C6', 'C14', 'C3', 'C2', 'C1', 'C5'}\n",
            "    Start Partitions Cost: 29\n",
            "     Partition 1: {'C2', 'C5', 'C3', 'C14'}\n",
            "     Partition 2: {'C4', 'C1', 'C6', 'C13'}\n",
            "    Final Partitions Cost: 13\n",
            "     Partition 1: {'C2', 'C1', 'C3', 'C5'}\n",
            "     Partition 2: {'C13', 'C4', 'C6', 'C14'}\n",
            "        Level 2:\n",
            "        Complete Set: {'C2', 'C1', 'C3', 'C5'}\n",
            "        Start Partitions Cost: 6\n",
            "         Partition 1: {'C3', 'C5'}\n",
            "         Partition 2: {'C2', 'C1'}\n",
            "        Final Partitions Cost: 6\n",
            "         Partition 1: {'C3', 'C5'}\n",
            "         Partition 2: {'C2', 'C1'}\n",
            "        Level 2:\n",
            "        Complete Set: {'C13', 'C4', 'C6', 'C14'}\n",
            "        Start Partitions Cost: 15\n",
            "         Partition 1: {'C4', 'C14'}\n",
            "         Partition 2: {'C6', 'C13'}\n",
            "        Final Partitions Cost: 0\n",
            "         Partition 1: {'C13', 'C14'}\n",
            "         Partition 2: {'C4', 'C6'}\n",
            "    Level 1:\n",
            "    Complete Set: {'C15', 'C7', 'C16', 'C9', 'C11', 'C8', 'C10', 'C12'}\n",
            "    Start Partitions Cost: 31\n",
            "     Partition 1: {'C9', 'C8', 'C7', 'C12'}\n",
            "     Partition 2: {'C15', 'C11', 'C16', 'C10'}\n",
            "    Final Partitions Cost: 10\n",
            "     Partition 1: {'C12', 'C7', 'C11', 'C9'}\n",
            "     Partition 2: {'C15', 'C8', 'C16', 'C10'}\n",
            "        Level 2:\n",
            "        Complete Set: {'C12', 'C7', 'C11', 'C9'}\n",
            "        Start Partitions Cost: 10\n",
            "         Partition 1: {'C11', 'C12'}\n",
            "         Partition 2: {'C7', 'C9'}\n",
            "        Final Partitions Cost: 9\n",
            "         Partition 1: {'C7', 'C12'}\n",
            "         Partition 2: {'C11', 'C9'}\n",
            "        Level 2:\n",
            "        Complete Set: {'C15', 'C8', 'C16', 'C10'}\n",
            "        Start Partitions Cost: 13\n",
            "         Partition 1: {'C15', 'C10'}\n",
            "         Partition 2: {'C16', 'C8'}\n",
            "        Final Partitions Cost: 0\n",
            "         Partition 1: {'C8', 'C10'}\n",
            "         Partition 2: {'C15', 'C16'}\n",
            "Cost:0\n",
            "Final Partition 1: ((('C3', 'C5'), ('C2', 'C1')), (('C13', 'C14'), ('C4', 'C6')))\n",
            "Final Partition 2: ((('C7', 'C12'), ('C11', 'C9')), (('C8', 'C10'), ('C15', 'C16')))\n"
          ]
        }
      ]
    },
    {
      "cell_type": "markdown",
      "source": [
        "# Weighted Internal-External Kernighan-Lin Partition"
      ],
      "metadata": {
        "id": "f2UtBks2MEmB"
      }
    },
    {
      "cell_type": "markdown",
      "source": [
        "## Graph"
      ],
      "metadata": {
        "id": "nUTI2zLqMfX1"
      }
    },
    {
      "cell_type": "code",
      "source": [
        "import random\n",
        "class CoreGraph:\n",
        "    def __init__(self, cores, edges):\n",
        "        self.cores = cores\n",
        "        self.edges = edges\n",
        "        self.weights = {edge: random.randint(1, 10) for edge in edges}"
      ],
      "metadata": {
        "id": "iPbE-VeVMfX4"
      },
      "execution_count": null,
      "outputs": []
    },
    {
      "cell_type": "markdown",
      "source": [
        "## Calculate Cost"
      ],
      "metadata": {
        "id": "-qE0Z_zYMfX4"
      }
    },
    {
      "cell_type": "code",
      "source": [
        "def calculate_cost(graph, partition1, partition2):\n",
        "    external_cost = 0\n",
        "    internal_cost = 0\n",
        "\n",
        "    for edge, weight in graph.weights.items():\n",
        "        if (edge[0] in partition1 and edge[1] in partition2) or (edge[0] in partition2 and edge[1] in partition1):\n",
        "            external_cost += weight\n",
        "        elif (edge[0] in partition1 and edge[1] in partition1) or (edge[0] in partition2 and edge[1] in partition2):\n",
        "            internal_cost += weight\n",
        "\n",
        "    return external_cost - internal_cost"
      ],
      "metadata": {
        "id": "m5GcuHlaMfX5"
      },
      "execution_count": null,
      "outputs": []
    },
    {
      "cell_type": "markdown",
      "source": [
        "## Swap Core"
      ],
      "metadata": {
        "id": "hfVyohrJMfX5"
      }
    },
    {
      "cell_type": "code",
      "source": [
        "def get_next_move(graph, partition1, partition2, locked_vertices):\n",
        "  best_cost = calculate_cost( graph, partition1, partition2 )\n",
        "  best_move = None\n",
        "  for ci in partition1:\n",
        "    if ci in locked_vertices:\n",
        "      continue\n",
        "    for cj in partition2:\n",
        "      if cj in locked_vertices:\n",
        "        continue\n",
        "      current_cost = calculate_cost(graph, partition1 - {ci} | {cj}, partition2 - {cj} | {ci})\n",
        "      if current_cost < best_cost:\n",
        "        best_cost = current_cost\n",
        "        best_move = (ci, cj)\n",
        "  return best_move"
      ],
      "metadata": {
        "id": "rsv4bjU5MfX6"
      },
      "execution_count": null,
      "outputs": []
    },
    {
      "cell_type": "markdown",
      "source": [
        "## Kernighan_Lin Partition"
      ],
      "metadata": {
        "id": "WyWIvJfyMfX6"
      }
    },
    {
      "cell_type": "code",
      "source": [
        "def kernighan_lin(graph, partition1, partition2, level=0):\n",
        "    best_partition1, best_partition2 = partition1.copy(), partition2.copy()\n",
        "    current_partition1, current_partition2 = partition1.copy(), partition2.copy()\n",
        "\n",
        "    max_iterations = 5\n",
        "\n",
        "    for iteration in range(max_iterations):\n",
        "      locked_vertices = set()\n",
        "      print( iteration )\n",
        "      while( len(current_partition1) > 1 ):\n",
        "        next_move = get_next_move(graph, current_partition1, current_partition2, locked_vertices)\n",
        "        print( next_move )\n",
        "        if next_move is None:\n",
        "            break  # Salimos del ciclo si no encontramos una mejor jugada\n",
        "        ci, cj = next_move\n",
        "        current_partition1.remove(ci)\n",
        "        current_partition2.remove(cj)\n",
        "        current_partition1.add(cj)\n",
        "        current_partition2.add(ci)\n",
        "        locked_vertices.add(ci)\n",
        "        locked_vertices.add(cj)\n",
        "\n",
        "        if calculate_cost(graph, current_partition1, current_partition2) < calculate_cost(graph, best_partition1, best_partition2):\n",
        "            best_partition1, best_partition2 = current_partition1.copy(), current_partition2.copy()\n",
        "\n",
        "    if len(best_partition1) == len(partition1) and len(best_partition2) == len(partition2):\n",
        "      return best_partition1, best_partition2\n",
        "\n",
        "    p1, p2 = best_partition1, best_partition2\n",
        "    return p1, p2"
      ],
      "metadata": {
        "id": "MYNPOHW6MfX7"
      },
      "execution_count": null,
      "outputs": []
    },
    {
      "cell_type": "markdown",
      "source": [
        "## Extend Kernighan-Lin Partition"
      ],
      "metadata": {
        "id": "L3s4ASs7MfX8"
      }
    },
    {
      "cell_type": "code",
      "execution_count": null,
      "metadata": {
        "id": "n3iq-fETMfX8"
      },
      "outputs": [],
      "source": [
        "def kl_partitioning(graph, level, cores_to_be_partitioned):\n",
        "  cores_to_be_partitioned = set(cores_to_be_partitioned)  # Convert to set to allow set operations\n",
        "\n",
        "  if len(cores_to_be_partitioned) < 4:\n",
        "    return cores_to_be_partitioned\n",
        "\n",
        "  cores_list = list(cores_to_be_partitioned)\n",
        "\n",
        "  partition1 = set(random.sample(cores_list, len(cores_list) // 2))\n",
        "  partition2 = cores_to_be_partitioned - partition1\n",
        "\n",
        "  indent = \" \" * (level * 4)\n",
        "  print(indent + f\"Level {level}:\")\n",
        "  print(indent + f\"Complete Set: {cores_to_be_partitioned}\")\n",
        "  print(indent + f\"Start Partitions\" + f\" Cost: {calculate_cost(graph, partition1, partition2)}\")\n",
        "  print(indent + f\" Partition 1: {set(partition1)}\")\n",
        "  print(indent + f\" Partition 2: {set(partition2)}\")\n",
        "\n",
        "  partition1, partition2 = kernighan_lin(graph, partition1, partition2)\n",
        "\n",
        "  indent = \" \" * (level * 4)\n",
        "  print(indent + f\"Final Partitions\" + f\" Cost: {calculate_cost(graph, partition1, partition2)}\")\n",
        "  print(indent + f\" Partition 1: {set(partition1)}\")\n",
        "  print(indent + f\" Partition 2: {set(partition2)}\")\n",
        "\n",
        "  partition1_1, partition1_2 = kl_partitioning(graph, level + 1, partition1)\n",
        "  partition2_1, partition2_2 = kl_partitioning(graph, level + 1, partition2)\n",
        "\n",
        "  partition1 = (partition1_1, partition1_2)\n",
        "  partition2 = (partition2_1, partition2_2)\n",
        "\n",
        "  return partition1, partition2\n"
      ]
    },
    {
      "cell_type": "markdown",
      "source": [
        "## Test"
      ],
      "metadata": {
        "id": "2vls-UmZMfX8"
      }
    },
    {
      "cell_type": "code",
      "source": [
        "# Ejemplo de uso\n",
        "cores = {'C1', 'C2', 'C3', 'C4', 'C5', 'C6', 'C7', 'C8', 'C9', 'C10', 'C11', 'C12', 'C13', 'C14', 'C15', 'C16'}\n",
        "edges = {('C1', 'C2'), ('C1', 'C3'), ('C2', 'C4'), ('C3', 'C4'), ('C3', 'C5'), ('C4', 'C6'), ('C5', 'C6'),\n",
        "         ('C7', 'C8'), ('C7', 'C9'), ('C8', 'C10'), ('C9', 'C10'), ('C9', 'C11'), ('C10', 'C12'), ('C11', 'C12'),\n",
        "         ('C13', 'C14'), ('C13', 'C15'), ('C14', 'C16'), ('C15', 'C16')}\n",
        "graph = CoreGraph(cores, edges)\n",
        "\n",
        "partition1, partition2 = kl_partitioning(graph, 0, cores)\n",
        "\n",
        "print( \"Cost:\" f\"{calculate_cost( graph, partition1, partition2 )}\" )\n",
        "print(\"Final Partition 1:\", partition1)\n",
        "print(\"Final Partition 2:\", partition2)"
      ],
      "metadata": {
        "colab": {
          "base_uri": "https://localhost:8080/"
        },
        "outputId": "3cca63dc-c067-429f-b3ec-bcaf9b03dcf9",
        "id": "6XKz6BB6MfX9"
      },
      "execution_count": null,
      "outputs": [
        {
          "output_type": "stream",
          "name": "stdout",
          "text": [
            "Level 0:\n",
            "Complete Set: {'C15', 'C4', 'C7', 'C10', 'C2', 'C1', 'C13', 'C16', 'C6', 'C14', 'C9', 'C8', 'C3', 'C11', 'C5', 'C12'}\n",
            "Start Partitions Cost: 13\n",
            " Partition 1: {'C15', 'C4', 'C14', 'C5', 'C11', 'C1', 'C13', 'C12'}\n",
            " Partition 2: {'C7', 'C16', 'C6', 'C9', 'C8', 'C3', 'C10', 'C2'}\n",
            "0\n",
            "('C5', 'C16')\n",
            "('C4', 'C2')\n",
            "None\n",
            "1\n",
            "None\n",
            "2\n",
            "None\n",
            "3\n",
            "None\n",
            "4\n",
            "None\n",
            "Final Partitions Cost: -63\n",
            " Partition 1: {'C15', 'C16', 'C14', 'C11', 'C2', 'C1', 'C13', 'C12'}\n",
            " Partition 2: {'C4', 'C7', 'C6', 'C9', 'C8', 'C3', 'C10', 'C5'}\n",
            "    Level 1:\n",
            "    Complete Set: {'C15', 'C16', 'C14', 'C11', 'C2', 'C1', 'C13', 'C12'}\n",
            "    Start Partitions Cost: -6\n",
            "     Partition 1: {'C15', 'C11', 'C13', 'C12'}\n",
            "     Partition 2: {'C2', 'C1', 'C16', 'C14'}\n",
            "0\n",
            "('C15', 'C14')\n",
            "None\n",
            "1\n",
            "None\n",
            "2\n",
            "None\n",
            "3\n",
            "None\n",
            "4\n",
            "None\n",
            "    Final Partitions Cost: -20\n",
            "     Partition 1: {'C12', 'C11', 'C13', 'C14'}\n",
            "     Partition 2: {'C15', 'C1', 'C2', 'C16'}\n",
            "        Level 2:\n",
            "        Complete Set: {'C12', 'C11', 'C13', 'C14'}\n",
            "        Start Partitions Cost: 19\n",
            "         Partition 1: {'C11', 'C13'}\n",
            "         Partition 2: {'C14', 'C12'}\n",
            "0\n",
            "('C11', 'C14')\n",
            "None\n",
            "1\n",
            "None\n",
            "2\n",
            "None\n",
            "3\n",
            "None\n",
            "4\n",
            "None\n",
            "        Final Partitions Cost: -19\n",
            "         Partition 1: {'C13', 'C14'}\n",
            "         Partition 2: {'C11', 'C12'}\n",
            "        Level 2:\n",
            "        Complete Set: {'C15', 'C1', 'C2', 'C16'}\n",
            "        Start Partitions Cost: -12\n",
            "         Partition 1: {'C15', 'C16'}\n",
            "         Partition 2: {'C2', 'C1'}\n",
            "0\n",
            "None\n",
            "1\n",
            "None\n",
            "2\n",
            "None\n",
            "3\n",
            "None\n",
            "4\n",
            "None\n",
            "        Final Partitions Cost: -12\n",
            "         Partition 1: {'C15', 'C16'}\n",
            "         Partition 2: {'C2', 'C1'}\n",
            "    Level 1:\n",
            "    Complete Set: {'C4', 'C7', 'C6', 'C9', 'C8', 'C3', 'C10', 'C5'}\n",
            "    Start Partitions Cost: -14\n",
            "     Partition 1: {'C4', 'C6', 'C5', 'C10'}\n",
            "     Partition 2: {'C7', 'C8', 'C3', 'C9'}\n",
            "0\n",
            "('C10', 'C3')\n",
            "None\n",
            "1\n",
            "None\n",
            "2\n",
            "None\n",
            "3\n",
            "None\n",
            "4\n",
            "None\n",
            "    Final Partitions Cost: -44\n",
            "     Partition 1: {'C4', 'C3', 'C6', 'C5'}\n",
            "     Partition 2: {'C7', 'C8', 'C10', 'C9'}\n",
            "        Level 2:\n",
            "        Complete Set: {'C4', 'C3', 'C6', 'C5'}\n",
            "        Start Partitions Cost: 18\n",
            "         Partition 1: {'C3', 'C6'}\n",
            "         Partition 2: {'C4', 'C5'}\n",
            "0\n",
            "('C3', 'C5')\n",
            "None\n",
            "1\n",
            "None\n",
            "2\n",
            "None\n",
            "3\n",
            "None\n",
            "4\n",
            "None\n",
            "        Final Partitions Cost: -8\n",
            "         Partition 1: {'C5', 'C6'}\n",
            "         Partition 2: {'C4', 'C3'}\n",
            "        Level 2:\n",
            "        Complete Set: {'C7', 'C8', 'C10', 'C9'}\n",
            "        Start Partitions Cost: -2\n",
            "         Partition 1: {'C9', 'C10'}\n",
            "         Partition 2: {'C7', 'C8'}\n",
            "0\n",
            "None\n",
            "1\n",
            "None\n",
            "2\n",
            "None\n",
            "3\n",
            "None\n",
            "4\n",
            "None\n",
            "        Final Partitions Cost: -2\n",
            "         Partition 1: {'C9', 'C10'}\n",
            "         Partition 2: {'C7', 'C8'}\n",
            "Cost:0\n",
            "Final Partition 1: ((('C13', 'C14'), ('C11', 'C12')), (('C15', 'C16'), ('C2', 'C1')))\n",
            "Final Partition 2: ((('C5', 'C6'), ('C4', 'C3')), (('C9', 'C10'), ('C7', 'C8')))\n"
          ]
        }
      ]
    },
    {
      "cell_type": "markdown",
      "source": [
        "# Weight Internal-External Kernighan-Lin Partition - Cost Matrix"
      ],
      "metadata": {
        "id": "DCKe0Kfm46fB"
      }
    },
    {
      "cell_type": "markdown",
      "source": [
        "## Graph"
      ],
      "metadata": {
        "id": "VfsjTLodaTiV"
      }
    },
    {
      "cell_type": "code",
      "source": [
        "import random\n",
        "class CoreGraph:\n",
        "    def __init__(self, cores, edges, weight_matrix):\n",
        "        self.cores = cores\n",
        "        self.edges = edges\n",
        "        self.weight_matrix = weight_matrix"
      ],
      "metadata": {
        "id": "lIc8V6rKaTiX"
      },
      "execution_count": null,
      "outputs": []
    },
    {
      "cell_type": "markdown",
      "source": [
        "## Calculate Cost"
      ],
      "metadata": {
        "id": "7_gj8ZKSaTiY"
      }
    },
    {
      "cell_type": "code",
      "source": [
        "def calculate_cost(graph, partition1, partition2):\n",
        "    external_cost = 0\n",
        "    internal_cost = 0\n",
        "\n",
        "    cores_list = list(graph.cores)  # Convertimos el conjunto de cores a lista\n",
        "    cores_internal_cost_list = []\n",
        "    cores_external_cost_list = []\n",
        "    cores_reduction_cost_list = []\n",
        "\n",
        "    for ci in partition1:\n",
        "      print( ci )\n",
        "\n",
        "    for edge in graph.edges:\n",
        "        i, j = cores_list.index(edge[0]), cores_list.index(edge[1])\n",
        "        weight = graph.weight_matrix[i][j]\n",
        "\n",
        "        if (edge[0] in partition1 and edge[1] in partition2) or (edge[0] in partition2 and edge[1] in partition1):\n",
        "            external_cost += weight\n",
        "        elif (edge[0] in partition1 and edge[1] in partition1) or (edge[0] in partition2 and edge[1] in partition2):\n",
        "            internal_cost += weight\n",
        "\n",
        "    return external_cost - internal_cost"
      ],
      "metadata": {
        "id": "Mhl1QwDSaTiZ"
      },
      "execution_count": null,
      "outputs": []
    },
    {
      "cell_type": "markdown",
      "source": [
        "## Swap Core"
      ],
      "metadata": {
        "id": "boS3AhEsaTiZ"
      }
    },
    {
      "cell_type": "code",
      "source": [
        "def get_next_move(graph, partition1, partition2, locked_vertices):\n",
        "  best_cost = calculate_cost( graph, partition1, partition2 )\n",
        "  best_move = None\n",
        "  for ci in partition1:\n",
        "    if ci in locked_vertices:\n",
        "      continue\n",
        "    for cj in partition2:\n",
        "      if cj in locked_vertices:\n",
        "        continue\n",
        "      current_cost = calculate_cost(graph, partition1 - {ci} | {cj}, partition2 - {cj} | {ci})\n",
        "      if current_cost < best_cost:\n",
        "        best_cost = current_cost\n",
        "        best_move = (ci, cj)\n",
        "  return best_move"
      ],
      "metadata": {
        "id": "7ETejJPEaTia"
      },
      "execution_count": null,
      "outputs": []
    },
    {
      "cell_type": "markdown",
      "source": [
        "## Kernighan_Lin Partition"
      ],
      "metadata": {
        "id": "mwBNSixoaTia"
      }
    },
    {
      "cell_type": "code",
      "source": [
        "def kernighan_lin(graph, partition1, partition2, level=0):\n",
        "    best_partition1, best_partition2 = partition1.copy(), partition2.copy()\n",
        "    current_partition1, current_partition2 = partition1.copy(), partition2.copy()\n",
        "\n",
        "    max_iterations = 5\n",
        "\n",
        "    for iteration in range(max_iterations):\n",
        "      locked_vertices = set()\n",
        "      print( iteration )\n",
        "      while( len(current_partition1) > 1 ):\n",
        "        next_move = get_next_move(graph, current_partition1, current_partition2, locked_vertices)\n",
        "        print( next_move )\n",
        "        if next_move is None:\n",
        "            break  # Salimos del ciclo si no encontramos una mejor jugada\n",
        "        ci, cj = next_move\n",
        "        current_partition1.remove(ci)\n",
        "        current_partition2.remove(cj)\n",
        "        current_partition1.add(cj)\n",
        "        current_partition2.add(ci)\n",
        "        locked_vertices.add(ci)\n",
        "        locked_vertices.add(cj)\n",
        "\n",
        "        if calculate_cost(graph, current_partition1, current_partition2) < calculate_cost(graph, best_partition1, best_partition2):\n",
        "            best_partition1, best_partition2 = current_partition1.copy(), current_partition2.copy()\n",
        "\n",
        "    if len(best_partition1) == len(partition1) and len(best_partition2) == len(partition2):\n",
        "      return best_partition1, best_partition2\n",
        "\n",
        "    p1, p2 = best_partition1, best_partition2\n",
        "    return p1, p2"
      ],
      "metadata": {
        "id": "yG87qj_-aTib"
      },
      "execution_count": null,
      "outputs": []
    },
    {
      "cell_type": "markdown",
      "source": [
        "## Extend Kernighan-Lin Partition"
      ],
      "metadata": {
        "id": "SJ9YFcLHaTib"
      }
    },
    {
      "cell_type": "code",
      "execution_count": null,
      "metadata": {
        "id": "XKSjCsCgaTic"
      },
      "outputs": [],
      "source": [
        "def kl_partitioning(graph, level, cores_to_be_partitioned):\n",
        "  cores_to_be_partitioned = set(cores_to_be_partitioned)  # Convert to set to allow set operations\n",
        "\n",
        "  if len(cores_to_be_partitioned) < 4:\n",
        "    return cores_to_be_partitioned\n",
        "\n",
        "  cores_list = list(cores_to_be_partitioned)\n",
        "\n",
        "  partition1 = set(random.sample(cores_list, len(cores_list) // 2))\n",
        "  partition2 = cores_to_be_partitioned - partition1\n",
        "\n",
        "  indent = \" \" * (level * 4)\n",
        "  print(indent + f\"Level {level}:\")\n",
        "  print(indent + f\"Complete Set: {cores_to_be_partitioned}\")\n",
        "  print(indent + f\"Start Partitions\" + f\" Cost: {calculate_cost(graph, partition1, partition2)}\")\n",
        "  print(indent + f\" Partition 1: {set(partition1)}\")\n",
        "  print(indent + f\" Partition 2: {set(partition2)}\")\n",
        "\n",
        "  partition1, partition2 = kernighan_lin(graph, partition1, partition2)\n",
        "\n",
        "  indent = \" \" * (level * 4)\n",
        "  print(indent + f\"Final Partitions\" + f\" Cost: {calculate_cost(graph, partition1, partition2)}\")\n",
        "  print(indent + f\" Partition 1: {set(partition1)}\")\n",
        "  print(indent + f\" Partition 2: {set(partition2)}\")\n",
        "\n",
        "  partition1_1, partition1_2 = kl_partitioning(graph, level + 1, partition1)\n",
        "  partition2_1, partition2_2 = kl_partitioning(graph, level + 1, partition2)\n",
        "\n",
        "  partition1 = (partition1_1, partition1_2)\n",
        "  partition2 = (partition2_1, partition2_2)\n",
        "\n",
        "  return partition1, partition2\n"
      ]
    },
    {
      "cell_type": "markdown",
      "source": [
        "## Test"
      ],
      "metadata": {
        "id": "lRRe3h85aTic"
      }
    },
    {
      "cell_type": "code",
      "source": [
        "# Ejemplo de uso\n",
        "cores = {'C1', 'C2', 'C3', 'C4', 'C5', 'C6'}\n",
        "\n",
        "edges = {('C1', 'C2'), ('C1', 'C3'), ('C1', 'C4'), ('C1', 'C5'),\n",
        "         ('C2', 'C1'), ('C2', 'C3'), ('C2', 'C4'), ('C2', 'C5'),\n",
        "         ('C3', 'C1'), ('C3', 'C2'), ('C3', 'C4'), ('C3', 'C5'),\n",
        "         ('C4', 'C1'), ('C4', 'C2'), ('C4', 'C3'), ('C4', 'C5'),\n",
        "         ('C5', 'C1'), ('C5', 'C2'), ('C5', 'C3'), ('C5', 'C4')}\n",
        "\n",
        "weight_matrix = [\n",
        "    [0, 1, 2, 3, 2, 4],\n",
        "    [1, 0, 1, 4, 2, 1],\n",
        "    [2, 1, 0, 3, 2, 1],\n",
        "    [3, 4, 3, 0, 4, 3],\n",
        "    [2, 2, 2, 4, 0, 2],\n",
        "    [4, 1, 1, 3, 2, 0]\n",
        "]\n",
        "\n",
        "\n",
        "\n",
        "graph = CoreGraph(cores, edges, weight_matrix)\n",
        "\n",
        "partition1, partition2 = kl_partitioning(graph, 0, cores)\n",
        "\n",
        "print( \"Cost:\" f\"{calculate_cost( graph, partition1, partition2 )}\" )\n",
        "print(\"Final Partition 1:\", partition1)\n",
        "print(\"Final Partition 2:\", partition2)"
      ],
      "metadata": {
        "colab": {
          "base_uri": "https://localhost:8080/",
          "height": 1000
        },
        "outputId": "18c134aa-61c5-436f-ae01-05743cb3bb84",
        "id": "5Xoyg3kWaTid"
      },
      "execution_count": null,
      "outputs": [
        {
          "output_type": "stream",
          "name": "stdout",
          "text": [
            "Level 0:\n",
            "Complete Set: {'C5', 'C3', 'C2', 'C4', 'C1', 'C6'}\n",
            "C4\n",
            "C3\n",
            "C6\n",
            "Start Partitions Cost: 8\n",
            " Partition 1: {'C4', 'C3', 'C6'}\n",
            " Partition 2: {'C2', 'C1', 'C5'}\n",
            "0\n",
            "C4\n",
            "C3\n",
            "C6\n",
            "C2\n",
            "C6\n",
            "C3\n",
            "C6\n",
            "C1\n",
            "C3\n",
            "C6\n",
            "C5\n",
            "C3\n",
            "C2\n",
            "C4\n",
            "C6\n",
            "C4\n",
            "C1\n",
            "C6\n",
            "C4\n",
            "C5\n",
            "C6\n",
            "C2\n",
            "C4\n",
            "C3\n",
            "C4\n",
            "C1\n",
            "C3\n",
            "C4\n",
            "C5\n",
            "C3\n",
            "('C6', 'C1')\n",
            "C4\n",
            "C3\n",
            "C1\n",
            "C4\n",
            "C3\n",
            "C6\n",
            "C4\n",
            "C3\n",
            "C1\n",
            "C2\n",
            "C1\n",
            "C3\n",
            "C1\n",
            "C3\n",
            "C5\n",
            "C2\n",
            "C4\n",
            "C1\n",
            "C4\n",
            "C1\n",
            "C5\n",
            "None\n",
            "1\n",
            "C4\n",
            "C3\n",
            "C1\n",
            "C2\n",
            "C1\n",
            "C3\n",
            "C6\n",
            "C1\n",
            "C3\n",
            "C1\n",
            "C3\n",
            "C5\n",
            "C2\n",
            "C4\n",
            "C1\n",
            "C4\n",
            "C1\n",
            "C6\n",
            "C4\n",
            "C1\n",
            "C5\n",
            "C2\n",
            "C4\n",
            "C3\n",
            "C4\n",
            "C6\n",
            "C3\n",
            "C4\n",
            "C5\n",
            "C3\n",
            "None\n",
            "2\n",
            "C4\n",
            "C3\n",
            "C1\n",
            "C2\n",
            "C1\n",
            "C3\n",
            "C6\n",
            "C1\n",
            "C3\n",
            "C1\n",
            "C3\n",
            "C5\n",
            "C2\n",
            "C4\n",
            "C1\n",
            "C4\n",
            "C1\n",
            "C6\n",
            "C4\n",
            "C1\n",
            "C5\n",
            "C2\n",
            "C4\n",
            "C3\n",
            "C4\n",
            "C6\n",
            "C3\n",
            "C4\n",
            "C5\n",
            "C3\n",
            "None\n",
            "3\n",
            "C4\n",
            "C3\n",
            "C1\n",
            "C2\n",
            "C1\n",
            "C3\n",
            "C6\n",
            "C1\n",
            "C3\n",
            "C1\n",
            "C3\n",
            "C5\n",
            "C2\n",
            "C4\n",
            "C1\n",
            "C4\n",
            "C1\n",
            "C6\n",
            "C4\n",
            "C1\n",
            "C5\n",
            "C2\n",
            "C4\n",
            "C3\n",
            "C4\n",
            "C6\n",
            "C3\n",
            "C4\n",
            "C5\n",
            "C3\n",
            "None\n",
            "4\n",
            "C4\n",
            "C3\n",
            "C1\n",
            "C2\n",
            "C1\n",
            "C3\n",
            "C6\n",
            "C1\n",
            "C3\n",
            "C1\n",
            "C3\n",
            "C5\n",
            "C2\n",
            "C4\n",
            "C1\n",
            "C4\n",
            "C1\n",
            "C6\n",
            "C4\n",
            "C1\n",
            "C5\n",
            "C2\n",
            "C4\n",
            "C3\n",
            "C4\n",
            "C6\n",
            "C3\n",
            "C4\n",
            "C5\n",
            "C3\n",
            "None\n",
            "C4\n",
            "C1\n",
            "C3\n",
            "Final Partitions Cost: 0\n",
            " Partition 1: {'C4', 'C1', 'C3'}\n",
            " Partition 2: {'C2', 'C5', 'C6'}\n"
          ]
        },
        {
          "output_type": "error",
          "ename": "ValueError",
          "evalue": "ignored",
          "traceback": [
            "\u001b[0;31m---------------------------------------------------------------------------\u001b[0m",
            "\u001b[0;31mValueError\u001b[0m                                Traceback (most recent call last)",
            "\u001b[0;32m<ipython-input-25-cc73fcc42bba>\u001b[0m in \u001b[0;36m<cell line: 23>\u001b[0;34m()\u001b[0m\n\u001b[1;32m     21\u001b[0m \u001b[0mgraph\u001b[0m \u001b[0;34m=\u001b[0m \u001b[0mCoreGraph\u001b[0m\u001b[0;34m(\u001b[0m\u001b[0mcores\u001b[0m\u001b[0;34m,\u001b[0m \u001b[0medges\u001b[0m\u001b[0;34m,\u001b[0m \u001b[0mweight_matrix\u001b[0m\u001b[0;34m)\u001b[0m\u001b[0;34m\u001b[0m\u001b[0;34m\u001b[0m\u001b[0m\n\u001b[1;32m     22\u001b[0m \u001b[0;34m\u001b[0m\u001b[0m\n\u001b[0;32m---> 23\u001b[0;31m \u001b[0mpartition1\u001b[0m\u001b[0;34m,\u001b[0m \u001b[0mpartition2\u001b[0m \u001b[0;34m=\u001b[0m \u001b[0mkl_partitioning\u001b[0m\u001b[0;34m(\u001b[0m\u001b[0mgraph\u001b[0m\u001b[0;34m,\u001b[0m \u001b[0;36m0\u001b[0m\u001b[0;34m,\u001b[0m \u001b[0mcores\u001b[0m\u001b[0;34m)\u001b[0m\u001b[0;34m\u001b[0m\u001b[0;34m\u001b[0m\u001b[0m\n\u001b[0m\u001b[1;32m     24\u001b[0m \u001b[0;34m\u001b[0m\u001b[0m\n\u001b[1;32m     25\u001b[0m \u001b[0mprint\u001b[0m\u001b[0;34m(\u001b[0m \u001b[0;34m\"Cost:\"\u001b[0m \u001b[0;34mf\"{calculate_cost( graph, partition1, partition2 )}\"\u001b[0m \u001b[0;34m)\u001b[0m\u001b[0;34m\u001b[0m\u001b[0;34m\u001b[0m\u001b[0m\n",
            "\u001b[0;32m<ipython-input-24-ff77b3d8be84>\u001b[0m in \u001b[0;36mkl_partitioning\u001b[0;34m(graph, level, cores_to_be_partitioned)\u001b[0m\n\u001b[1;32m     24\u001b[0m   \u001b[0mprint\u001b[0m\u001b[0;34m(\u001b[0m\u001b[0mindent\u001b[0m \u001b[0;34m+\u001b[0m \u001b[0;34mf\" Partition 2: {set(partition2)}\"\u001b[0m\u001b[0;34m)\u001b[0m\u001b[0;34m\u001b[0m\u001b[0;34m\u001b[0m\u001b[0m\n\u001b[1;32m     25\u001b[0m \u001b[0;34m\u001b[0m\u001b[0m\n\u001b[0;32m---> 26\u001b[0;31m   \u001b[0mpartition1_1\u001b[0m\u001b[0;34m,\u001b[0m \u001b[0mpartition1_2\u001b[0m \u001b[0;34m=\u001b[0m \u001b[0mkl_partitioning\u001b[0m\u001b[0;34m(\u001b[0m\u001b[0mgraph\u001b[0m\u001b[0;34m,\u001b[0m \u001b[0mlevel\u001b[0m \u001b[0;34m+\u001b[0m \u001b[0;36m1\u001b[0m\u001b[0;34m,\u001b[0m \u001b[0mpartition1\u001b[0m\u001b[0;34m)\u001b[0m\u001b[0;34m\u001b[0m\u001b[0;34m\u001b[0m\u001b[0m\n\u001b[0m\u001b[1;32m     27\u001b[0m   \u001b[0mpartition2_1\u001b[0m\u001b[0;34m,\u001b[0m \u001b[0mpartition2_2\u001b[0m \u001b[0;34m=\u001b[0m \u001b[0mkl_partitioning\u001b[0m\u001b[0;34m(\u001b[0m\u001b[0mgraph\u001b[0m\u001b[0;34m,\u001b[0m \u001b[0mlevel\u001b[0m \u001b[0;34m+\u001b[0m \u001b[0;36m1\u001b[0m\u001b[0;34m,\u001b[0m \u001b[0mpartition2\u001b[0m\u001b[0;34m)\u001b[0m\u001b[0;34m\u001b[0m\u001b[0;34m\u001b[0m\u001b[0m\n\u001b[1;32m     28\u001b[0m \u001b[0;34m\u001b[0m\u001b[0m\n",
            "\u001b[0;31mValueError\u001b[0m: too many values to unpack (expected 2)"
          ]
        }
      ]
    },
    {
      "cell_type": "code",
      "source": [
        "import numpy as np\n",
        "\n",
        "def create_external_adj_matrix(partition1, partition2, num_nodes):\n",
        "  external_adj_matrix = np.zeros((num_nodes,num_nodes))\n",
        "\n",
        "  for node1 in partition1:\n",
        "    for node2 in partition2:\n",
        "      external_adj_matrix[node1][node2] = 1\n",
        "      external_adj_matrix[node2][node1] = 1\n",
        "\n",
        "  return external_adj_matrix\n",
        "\n",
        "\n",
        "def create_internal_adj_matrix( partition1, partition2, num_nodes ):\n",
        "  internal_adj_matrix = np.ones((num_nodes,num_nodes))\n",
        "  for node1 in partition1:\n",
        "    for node2 in partition2:\n",
        "      internal_adj_matrix[node1][node2] = 0\n",
        "      internal_adj_matrix[node2][node1] = 0\n",
        "\n",
        "  return internal_adj_matrix\n",
        "\n",
        "def create_external_cost_matrix( cost_matrix, external_adj_matrix, num_nodes ):\n",
        "  external_cost_matrix = np.zeros((num_nodes,num_nodes))\n",
        "  for i in range(num_nodes):\n",
        "    for j in range(num_nodes):\n",
        "      external_cost_matrix[i][j] = cost_matrix[i][j] * external_adj_matrix[i][j]\n",
        "\n",
        "  return external_cost_matrix\n",
        "\n",
        "\n",
        "def create_internal_cost_matrix( cost_matrix, internal_adj_matrix, num_nodes ):\n",
        "  internal_cost_matrix = np.zeros((num_nodes,num_nodes))\n",
        "  for i in range(num_nodes):\n",
        "    for j in range(num_nodes):\n",
        "      if i != j:\n",
        "        internal_cost_matrix[i][j] = cost_matrix[i][j] * internal_adj_matrix[i][j]\n",
        "\n",
        "  return internal_cost_matrix\n",
        "\n",
        "\n",
        "def calculate_difference_cost_vector(  partition1, partition2, num_nodes ):\n",
        "\n",
        "  external_adj_matrix = create_external_adj_matrix(partition1, partition2, num_nodes)\n",
        "  internal_adj_matrix = create_internal_adj_matrix(partition1, partition2, num_nodes)\n",
        "\n",
        "\n",
        "  external_cost_matrix = create_external_cost_matrix( cost_matrix, external_adj_matrix, num_nodes )\n",
        "  internal_cost_matrix = create_internal_cost_matrix( cost_matrix, internal_adj_matrix, num_nodes )\n",
        "  difference_cost_matrix = np.zeros((num_nodes, num_nodes))\n",
        "  for i in range(num_nodes):\n",
        "    for j in range(num_nodes):\n",
        "     difference_cost_matrix[i][j] += external_cost_matrix[i][j] - internal_cost_matrix[i][j]\n",
        "\n",
        "  return np.dot([1,1,1,1,1,1],difference_cost_matrix)\n",
        "\n",
        "\n",
        "def calculate_gain_cost_matrix( difference_cost_vector, external_adj_matrix, cost_matrix ):\n",
        "  gain_cost_matrix = np.full((num_nodes,num_nodes), 0)\n",
        "\n",
        "  for i in range(num_nodes):\n",
        "    for j in range(num_nodes):\n",
        "      if external_adj_matrix[i][j] == 1:\n",
        "        gain_cost_matrix[i][j] = difference_cost_vector[i] + difference_cost_vector[j] - 2 * cost_matrix[i][j]\n",
        "\n",
        "  return gain_cost_matrix\n",
        "\n",
        "\n",
        "def swap_cores_partition( partition1, partition2, gain_cost_matrix, available_nodes ):\n",
        "  max_element = -10\n",
        "  i_max_element = 0\n",
        "  j_max_element = 0\n",
        "  for i in range( num_nodes ):\n",
        "    for j in range( num_nodes ):\n",
        "      if max_element < gain_cost_matrix[i][j] and gain_cost_matrix[i][j] != 0 and available_nodes[i] == 1 and available_nodes[j] == 1:\n",
        "        max_element = gain_cost_matrix[i][j]\n",
        "        i_max_element = i\n",
        "        j_max_element = j\n",
        "\n",
        "  print( i_max_element, j_max_element, max_element )\n",
        "  for ci in partition1:\n",
        "    for cj in partition2:\n",
        "      if ci == i_max_element and cj == j_max_element:\n",
        "        partition1.remove(ci)\n",
        "        partition2.remove(cj)\n",
        "        partition1.add(cj)\n",
        "        partition2.add(ci)\n",
        "\n",
        "  return partition1, partition2\n"
      ],
      "metadata": {
        "id": "ltPaiVF8g6CF"
      },
      "execution_count": 88,
      "outputs": []
    },
    {
      "cell_type": "code",
      "source": [
        "# Ejemplo de uso\n",
        "if __name__ == \"__main__\":\n",
        "  partition1 = {0, 1, 2}\n",
        "  partition2 = {3, 4, 5}\n",
        "  num_nodes = 6\n",
        "\n",
        "  cost_matrix = [ [0,1,2,3,2,4],\n",
        "                  [1,0,1,4,2,1],\n",
        "                  [2,1,0,3,2,1],\n",
        "                  [3,4,3,0,4,3],\n",
        "                  [2,2,2,4,0,2],\n",
        "                  [4,1,1,3,2,0] ]\n",
        "\n",
        "\n",
        "  external_adj_matrix = create_external_adj_matrix(partition1, partition2, num_nodes)\n",
        "  internal_adj_matrix = create_internal_adj_matrix(partition1, partition2, num_nodes)\n",
        "\n",
        "\n",
        "  external_cost_matrix = create_external_cost_matrix( cost_matrix, external_adj_matrix, num_nodes )\n",
        "  internal_cost_matrix = create_internal_cost_matrix( cost_matrix, internal_adj_matrix, num_nodes )\n",
        "\n",
        "  difference_cost_vector =  calculate_difference_cost_vector( partition1, partition2, num_nodes  )\n",
        "\n",
        "  gain_cost_matrix        =  calculate_gain_cost_matrix( difference_cost_vector, external_adj_matrix, cost_matrix )\n",
        "\n",
        "\n",
        "\n",
        "\n",
        "  print(\"*-\"*20)\n",
        "  for row in external_adj_matrix:\n",
        "    print(row)\n",
        "\n",
        "  print(\"-\"*40)\n",
        "  for row in internal_adj_matrix:\n",
        "    print(row)\n",
        "\n",
        "  print(\"*-\"*20)\n",
        "\n",
        "\n",
        "\n",
        "  for row in  internal_cost_matrix:\n",
        "    print(row, np.sum(row))\n",
        "\n",
        "  print(\"-\"*40)\n",
        "\n",
        "\n",
        "\n",
        "  for row in external_cost_matrix:\n",
        "    print(row, np.sum(row))\n",
        "\n",
        "  print(\"-\"*40)\n",
        "\n",
        "\n",
        "  print( difference_cost_vector )\n",
        "\n",
        "  print(\"*-\"*20)\n",
        "\n",
        "  for row in  gain_cost_matrix:\n",
        "    print(row, np.sum(row))\n"
      ],
      "metadata": {
        "colab": {
          "base_uri": "https://localhost:8080/"
        },
        "id": "gR3V62E4llNj",
        "outputId": "3c188fbc-dd86-4de1-d868-88cfcb0652f6"
      },
      "execution_count": 89,
      "outputs": [
        {
          "output_type": "stream",
          "name": "stdout",
          "text": [
            "*-*-*-*-*-*-*-*-*-*-*-*-*-*-*-*-*-*-*-*-\n",
            "[0. 0. 0. 1. 1. 1.]\n",
            "[0. 0. 0. 1. 1. 1.]\n",
            "[0. 0. 0. 1. 1. 1.]\n",
            "[1. 1. 1. 0. 0. 0.]\n",
            "[1. 1. 1. 0. 0. 0.]\n",
            "[1. 1. 1. 0. 0. 0.]\n",
            "----------------------------------------\n",
            "[1. 1. 1. 0. 0. 0.]\n",
            "[1. 1. 1. 0. 0. 0.]\n",
            "[1. 1. 1. 0. 0. 0.]\n",
            "[0. 0. 0. 1. 1. 1.]\n",
            "[0. 0. 0. 1. 1. 1.]\n",
            "[0. 0. 0. 1. 1. 1.]\n",
            "*-*-*-*-*-*-*-*-*-*-*-*-*-*-*-*-*-*-*-*-\n",
            "[0. 1. 2. 0. 0. 0.] 3.0\n",
            "[1. 0. 1. 0. 0. 0.] 2.0\n",
            "[2. 1. 0. 0. 0. 0.] 3.0\n",
            "[0. 0. 0. 0. 4. 3.] 7.0\n",
            "[0. 0. 0. 4. 0. 2.] 6.0\n",
            "[0. 0. 0. 3. 2. 0.] 5.0\n",
            "----------------------------------------\n",
            "[0. 0. 0. 3. 2. 4.] 9.0\n",
            "[0. 0. 0. 4. 2. 1.] 7.0\n",
            "[0. 0. 0. 3. 2. 1.] 6.0\n",
            "[3. 4. 3. 0. 0. 0.] 10.0\n",
            "[2. 2. 2. 0. 0. 0.] 6.0\n",
            "[4. 1. 1. 0. 0. 0.] 6.0\n",
            "----------------------------------------\n",
            "[6. 5. 3. 3. 0. 1.]\n",
            "*-*-*-*-*-*-*-*-*-*-*-*-*-*-*-*-*-*-*-*-\n",
            "[ 0  0  0  3  2 -1] 4\n",
            "[0 0 0 0 1 4] 5\n",
            "[ 0  0  0  0 -1  2] 1\n",
            "[3 0 0 0 0 0] 3\n",
            "[ 2  1 -1  0  0  0] 2\n",
            "[-1  4  2  0  0  0] 5\n"
          ]
        }
      ]
    },
    {
      "cell_type": "code",
      "source": [
        "  partition1, partition2 = swap_cores_partition( partition1, partition2, gain_cost_matrix, [1,1,1,1,1,1] )\n",
        "\n",
        "  print( \"Partition1:\", partition1 )\n",
        "  print( \"Partition2:\", partition2 )"
      ],
      "metadata": {
        "id": "bzs1CVqyFtzq",
        "colab": {
          "base_uri": "https://localhost:8080/"
        },
        "outputId": "7387318f-4f8f-4bf0-bfbb-da61518fb034"
      },
      "execution_count": 90,
      "outputs": [
        {
          "output_type": "stream",
          "name": "stdout",
          "text": [
            "1 5 4\n",
            "Partition1: {0, 2, 5}\n",
            "Partition2: {1, 3, 4}\n"
          ]
        }
      ]
    },
    {
      "cell_type": "code",
      "source": [
        "  def update_difference_cost_vector(  difference_cost_vector,   ):\n",
        "\n",
        "    difference_cost_internal_matrix = np.zeros( (num_nodes, num_nodes)  )\n",
        "    for i in range(num_nodes):\n",
        "      for j in range(num_nodes):\n",
        "        difference_cost_internal_matrix[i][j] = cost_matrix[i][j] * internal_adj_matrix[i][j]\n",
        "\n",
        "    difference_cost_external_matrix = np.zeros( (num_nodes, num_nodes)  )\n",
        "    for i in range(num_nodes):\n",
        "      for j in range(num_nodes):\n",
        "        if i == 1 and j!=5 or i == 5 and j!=1:\n",
        "          difference_cost_external_matrix[i][j] = cost_matrix[i][j] * external_adj_matrix[i][j]\n",
        "\n",
        "\n",
        "    difference_cost_prime_matrix = np.zeros((num_nodes,num_nodes))\n",
        "    for i in range(num_nodes):\n",
        "      for j in range(num_nodes):\n",
        "        difference_cost_prime_matrix[i][j] = difference_cost_internal_matrix[i][j] - difference_cost_external_matrix[i][j]\n",
        "\n",
        "\n",
        "\n",
        "    difference_cost_vector          = np.multiply([1,0,1,1,1,0], difference_cost_vector)\n",
        "    difference_cost_internal_vector = np.dot([0,1,0,0,0,1], difference_cost_internal_matrix)\n",
        "    difference_cost_external_vector = np.dot([0,1,0,0,0,1], difference_cost_external_matrix)\n",
        "    difference_cost_prime_vector = difference_cost_vector + 2 * difference_cost_internal_vector - 2 * difference_cost_external_vector\n",
        "\n",
        "\n",
        "\n",
        "\n",
        "\n",
        "    print(\"*-\"*20)\n",
        "    print( \"Difference Cost Internal Matrix\")\n",
        "    for row in difference_cost_internal_matrix:\n",
        "      print(row, np.sum(row))\n",
        "\n",
        "    print(\"-\"*40)\n",
        "\n",
        "    print( \"Difference Cost Internal Vector\")\n",
        "    print( difference_cost_internal_vector )\n",
        "    print(\"*-\"*20)\n",
        "\n",
        "    print(\"\\n\")\n",
        "\n",
        "    print(\"*-\"*20)\n",
        "    print( \"Difference Cost External Matrix\")\n",
        "    for row in difference_cost_external_matrix:\n",
        "      print(row, np.sum(row))\n",
        "\n",
        "    print(\"-\"*40)\n",
        "\n",
        "    print( \"Difference Cost External Vector\")\n",
        "    print( difference_cost_external_vector )\n",
        "    print(\"*-\"*20)\n",
        "\n",
        "    print(\"\\n\")\n",
        "\n",
        "    print( \"Difference Cost Vector\")\n",
        "    print( difference_cost_vector)\n",
        "\n",
        "    print(\"-\"*40)\n",
        "\n",
        "    print( \"Difference Cost Updated Vector\")\n",
        "    print( difference_cost_prime_vector )\n",
        "\n",
        "    print(\"-\"*40)\n",
        "\n",
        "    print(\"\\n\")\n",
        "\n",
        "    print(\"*-\"*20)\n",
        "    for row in difference_cost_external_matrix:\n",
        "      print(row, np.sum(row))\n",
        "\n",
        "    return difference_cost_external_matrix, difference_cost_internal_matrix, difference_cost_prime_vector\n",
        "\n",
        "  difference_cost_external_matrix, difference_cost_internal_matrix, difference_cost_prime_vector =  update_difference_cost_vector( difference_cost_vector )\n",
        "\n",
        "  print(\"*-\"*20)\n",
        "  print( np.dot([1,1,1,1,1,1], external_cost_matrix-internal_cost_matrix)  )\n",
        "  print(\"-\"*40)\n",
        "  print( np.dot([0,1,0,0,0,1], difference_cost_external_matrix)  )\n",
        "  print(\"-\"*40)\n",
        "  print( np.dot([0,1,0,0,0,1], difference_cost_internal_matrix)  )\n",
        "  print(\"*-\"*20)\n",
        "  print( np.dot([1,0,1,1,1,0], ( np.dot([1,1,1,1,1,1], external_cost_matrix-internal_cost_matrix)  ) + 2*( np.dot([0,1,0,0,0,1], difference_cost_internal_matrix)  ) - 2*( np.dot([0,1,0,0,0,1], difference_cost_external_matrix)  ) )  )\n",
        "  print(\"*-\"*20)\n",
        "  print( np.multiply( [1,0,1,1,1,0], calculate_gain_cost_matrix( np.multiply([1,0,1,1,1,0], ( np.dot([1,1,1,1,1,1], external_cost_matrix-internal_cost_matrix)  ) + 2*( np.dot([0,1,0,0,0,1], difference_cost_internal_matrix)  ) - 2*( np.dot([0,1,0,0,0,1], difference_cost_external_matrix)  ) ), create_external_adj_matrix( partition1, partition2, num_nodes ), cost_matrix  )  ) )\n",
        "\n",
        "  gain_cost_matrix = calculate_gain_cost_matrix( difference_cost_prime_vector,  create_external_adj_matrix( partition1, partition2, num_nodes ), cost_matrix  )\n",
        "  print(   gain_cost_matrix  )\n",
        "\n",
        "  gain_cost_matrix = calculate_gain_cost_matrix( difference_cost_prime_vector, create_external_adj_matrix( partition1, partition2, num_nodes ),   cost_matrix  )\n",
        "  for row in  gain_cost_matrix:\n",
        "    print(row, np.sum(row))\n",
        "\n"
      ],
      "metadata": {
        "id": "FmATXhUAgDSd",
        "colab": {
          "base_uri": "https://localhost:8080/"
        },
        "outputId": "9420808e-1915-4983-aa29-43f1cf03099e"
      },
      "execution_count": 91,
      "outputs": [
        {
          "output_type": "stream",
          "name": "stdout",
          "text": [
            "*-*-*-*-*-*-*-*-*-*-*-*-*-*-*-*-*-*-*-*-\n",
            "Difference Cost Internal Matrix\n",
            "[0. 1. 2. 0. 0. 0.] 3.0\n",
            "[1. 0. 1. 0. 0. 0.] 2.0\n",
            "[2. 1. 0. 0. 0. 0.] 3.0\n",
            "[0. 0. 0. 0. 4. 3.] 7.0\n",
            "[0. 0. 0. 4. 0. 2.] 6.0\n",
            "[0. 0. 0. 3. 2. 0.] 5.0\n",
            "----------------------------------------\n",
            "Difference Cost Internal Vector\n",
            "[1. 0. 1. 3. 2. 0.]\n",
            "*-*-*-*-*-*-*-*-*-*-*-*-*-*-*-*-*-*-*-*-\n",
            "\n",
            "\n",
            "*-*-*-*-*-*-*-*-*-*-*-*-*-*-*-*-*-*-*-*-\n",
            "Difference Cost External Matrix\n",
            "[0. 0. 0. 0. 0. 0.] 0.0\n",
            "[0. 0. 0. 4. 2. 0.] 6.0\n",
            "[0. 0. 0. 0. 0. 0.] 0.0\n",
            "[0. 0. 0. 0. 0. 0.] 0.0\n",
            "[0. 0. 0. 0. 0. 0.] 0.0\n",
            "[4. 0. 1. 0. 0. 0.] 5.0\n",
            "----------------------------------------\n",
            "Difference Cost External Vector\n",
            "[4. 0. 1. 4. 2. 0.]\n",
            "*-*-*-*-*-*-*-*-*-*-*-*-*-*-*-*-*-*-*-*-\n",
            "\n",
            "\n",
            "Difference Cost Vector\n",
            "[6. 0. 3. 3. 0. 0.]\n",
            "----------------------------------------\n",
            "Difference Cost Updated Vector\n",
            "[0. 0. 3. 1. 0. 0.]\n",
            "----------------------------------------\n",
            "\n",
            "\n",
            "*-*-*-*-*-*-*-*-*-*-*-*-*-*-*-*-*-*-*-*-\n",
            "[0. 0. 0. 0. 0. 0.] 0.0\n",
            "[0. 0. 0. 4. 2. 0.] 6.0\n",
            "[0. 0. 0. 0. 0. 0.] 0.0\n",
            "[0. 0. 0. 0. 0. 0.] 0.0\n",
            "[0. 0. 0. 0. 0. 0.] 0.0\n",
            "[4. 0. 1. 0. 0. 0.] 5.0\n",
            "*-*-*-*-*-*-*-*-*-*-*-*-*-*-*-*-*-*-*-*-\n",
            "[6. 5. 3. 3. 0. 1.]\n",
            "----------------------------------------\n",
            "[4. 0. 1. 4. 2. 0.]\n",
            "----------------------------------------\n",
            "[1. 0. 1. 3. 2. 0.]\n",
            "*-*-*-*-*-*-*-*-*-*-*-*-*-*-*-*-*-*-*-*-\n",
            "4.0\n",
            "*-*-*-*-*-*-*-*-*-*-*-*-*-*-*-*-*-*-*-*-\n",
            "[[ 0  0  0 -5 -4  0]\n",
            " [-2  0  1  0  0  0]\n",
            " [ 0  0  0 -2 -1  0]\n",
            " [-5  0 -2  0  0  0]\n",
            " [-4  0 -1  0  0  0]\n",
            " [ 0  0  0 -5 -4  0]]\n",
            "[[ 0 -2  0 -5 -4  0]\n",
            " [-2  0  1  0  0 -2]\n",
            " [ 0  1  0 -2 -1  0]\n",
            " [-5  0 -2  0  0 -5]\n",
            " [-4  0 -1  0  0 -4]\n",
            " [ 0 -2  0 -5 -4  0]]\n",
            "[ 0 -2  0 -5 -4  0] -11\n",
            "[-2  0  1  0  0 -2] -3\n",
            "[ 0  1  0 -2 -1  0] -2\n",
            "[-5  0 -2  0  0 -5] -12\n",
            "[-4  0 -1  0  0 -4] -9\n",
            "[ 0 -2  0 -5 -4  0] -11\n"
          ]
        }
      ]
    },
    {
      "cell_type": "code",
      "source": [
        "  print(np.multiply([[1],[0],[1],[1],[1],[0]],np.multiply([1,0,1,1,1,0], gain_cost_matrix)))\n",
        "  partition1, partition2 = swap_cores_partition( partition1, partition2, np.multiply([[1],[0],[1],[1],[1],[0]], np.multiply([1,0,1,1,1,0], gain_cost_matrix) ) , [1,0,1,1,1,0] )\n",
        "  partition1, partition2 =  swap_cores_partition( partition1, partition1, gain_cost_matrix, [1,0,1,1,1,0]  )\n",
        "\n",
        "\n",
        "  print( \"Partition1:\", partition1 )\n",
        "  print( \"Partition2:\", partition2 )"
      ],
      "metadata": {
        "id": "piOEMZ6WTE9e",
        "colab": {
          "base_uri": "https://localhost:8080/"
        },
        "outputId": "191ee924-b701-44db-ca82-bddfb954683d"
      },
      "execution_count": 92,
      "outputs": [
        {
          "output_type": "stream",
          "name": "stdout",
          "text": [
            "[[ 0  0  0 -5 -4  0]\n",
            " [ 0  0  0  0  0  0]\n",
            " [ 0  0  0 -2 -1  0]\n",
            " [-5  0 -2  0  0  0]\n",
            " [-4  0 -1  0  0  0]\n",
            " [ 0  0  0  0  0  0]]\n",
            "2 4 -1\n",
            "2 4 -1\n",
            "Partition1: {0, 4, 5}\n",
            "Partition2: {0, 4, 5}\n"
          ]
        }
      ]
    },
    {
      "cell_type": "code",
      "source": [
        "updated_external_cost_matrix = np.multiply( [1,0,1,1,1,0] ,external_cost_matrix )\n",
        "print( updated_external_cost_matrix  )\n"
      ],
      "metadata": {
        "id": "urE7EzzEoG6g",
        "colab": {
          "base_uri": "https://localhost:8080/",
          "height": 325
        },
        "outputId": "441027b6-94f9-44bf-a575-9e723febdf51"
      },
      "execution_count": 49,
      "outputs": [
        {
          "output_type": "stream",
          "name": "stdout",
          "text": [
            "[[0. 0. 0. 3. 2. 0.]\n",
            " [0. 0. 0. 4. 2. 0.]\n",
            " [0. 0. 0. 3. 2. 0.]\n",
            " [3. 0. 3. 0. 0. 0.]\n",
            " [2. 0. 2. 0. 0. 0.]\n",
            " [4. 0. 1. 0. 0. 0.]]\n"
          ]
        },
        {
          "output_type": "error",
          "ename": "NameError",
          "evalue": "ignored",
          "traceback": [
            "\u001b[0;31m---------------------------------------------------------------------------\u001b[0m",
            "\u001b[0;31mNameError\u001b[0m                                 Traceback (most recent call last)",
            "\u001b[0;32m<ipython-input-49-3eae079b5f68>\u001b[0m in \u001b[0;36m<cell line: 4>\u001b[0;34m()\u001b[0m\n\u001b[1;32m      4\u001b[0m \u001b[0;32mfor\u001b[0m \u001b[0mi\u001b[0m \u001b[0;32min\u001b[0m \u001b[0mrange\u001b[0m\u001b[0;34m(\u001b[0m\u001b[0mnum_nodes\u001b[0m\u001b[0;34m)\u001b[0m\u001b[0;34m:\u001b[0m\u001b[0;34m\u001b[0m\u001b[0;34m\u001b[0m\u001b[0m\n\u001b[1;32m      5\u001b[0m   \u001b[0;32mfor\u001b[0m \u001b[0mj\u001b[0m \u001b[0;32min\u001b[0m \u001b[0mrange\u001b[0m\u001b[0;34m(\u001b[0m\u001b[0mnum_nodes\u001b[0m\u001b[0;34m)\u001b[0m\u001b[0;34m:\u001b[0m\u001b[0;34m\u001b[0m\u001b[0;34m\u001b[0m\u001b[0m\n\u001b[0;32m----> 6\u001b[0;31m     \u001b[0mgain_\u001b[0m\u001b[0;34m\u001b[0m\u001b[0;34m\u001b[0m\u001b[0m\n\u001b[0m",
            "\u001b[0;31mNameError\u001b[0m: name 'gain_' is not defined"
          ]
        }
      ]
    },
    {
      "cell_type": "code",
      "source": [],
      "metadata": {
        "id": "KFnVFOOxXBzE"
      },
      "execution_count": null,
      "outputs": []
    }
  ]
}